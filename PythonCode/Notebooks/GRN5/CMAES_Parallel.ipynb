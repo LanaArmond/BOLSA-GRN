{
 "cells": [
  {
   "cell_type": "code",
   "execution_count": null,
   "id": "c752400f",
   "metadata": {},
   "outputs": [],
   "source": [
    "# Importação de bibliotecas externas necessárias\n",
    "import sys\n",
    "import os\n",
    "sys.path.append(os.path.abspath(\"../..\")) \n",
    "import warnings\n",
    "warnings.filterwarnings(\"ignore\")\n",
    "\n",
    "import logging\n",
    "from Modules.Models import * \n",
    "from Modules.Methods import *\n",
    "from Modules.Handlers import *"
   ]
  },
  {
   "cell_type": "code",
   "execution_count": null,
   "id": "19d1fba4",
   "metadata": {},
   "outputs": [],
   "source": []
  }
 ],
 "metadata": {
  "language_info": {
   "name": "python"
  }
 },
 "nbformat": 4,
 "nbformat_minor": 5
}
