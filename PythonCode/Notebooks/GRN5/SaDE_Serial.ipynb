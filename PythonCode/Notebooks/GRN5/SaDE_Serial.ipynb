{
 "cells": [
  {
   "cell_type": "code",
   "execution_count": 4,
   "id": "1f4411ad",
   "metadata": {},
   "outputs": [],
   "source": [
    "import sys\n",
    "import os\n",
    "sys.path.append(os.path.abspath(\"../..\")) \n",
    "\n",
    "\n",
    "import logging\n",
    "from Modules.Models import * \n",
    "from Modules.Methods import *\n",
    "from Modules.Handlers import *"
   ]
  },
  {
   "cell_type": "code",
   "execution_count": 5,
   "id": "923960e4",
   "metadata": {},
   "outputs": [
    {
     "data": {
      "text/plain": [
       "<ExecutionHandler Configuration>\n",
       "{ 'Additional Params': {},\n",
       "  'Errors': ['SQUARED', 'MSE'],\n",
       "  'Generations': 5000,\n",
       "  'Method Name': 'SADE',\n",
       "  'Model Name': 'GRN5',\n",
       "  'Output Directory': '../../Outputs/',\n",
       "  'Parallel Execution': False,\n",
       "  'Seeds': [0, 1, 2, 3, 4, 5, 6, 7, 8, 9],\n",
       "  'Solvers': ['ODEINT']}"
      ]
     },
     "execution_count": 5,
     "metadata": {},
     "output_type": "execute_result"
    }
   ],
   "source": [
    "handler = ExecutionHandler(\n",
    "    model=ModelWrapper.GRN5(),\n",
    "    method_class=SaDE,   \n",
    "    seeds=[0,1,2,3,4,5,6,7,8,9],\n",
    "    solvers=['ODEINT'],\n",
    "    errors=['SQUARED','MSE'],\n",
    "    generations=5000,\n",
    "    parallel=False,\n",
    ")\n",
    "\n",
    "handler"
   ]
  },
  {
   "cell_type": "code",
   "execution_count": 6,
   "id": "e0598a5e",
   "metadata": {},
   "outputs": [
    {
     "name": "stdout",
     "output_type": "stream",
     "text": [
      "Starting execution with ID: GRN5_SADE_SERIAL_20250923_074424\n",
      "Running with seed=0, solver=ODEINT, error=SQUARED\n",
      "Running with seed=0, solver=ODEINT, error=MSE\n",
      "Running with seed=1, solver=ODEINT, error=SQUARED\n",
      "Running with seed=1, solver=ODEINT, error=MSE\n",
      "Running with seed=2, solver=ODEINT, error=SQUARED\n",
      "Running with seed=2, solver=ODEINT, error=MSE\n",
      "Running with seed=3, solver=ODEINT, error=SQUARED\n",
      "Running with seed=3, solver=ODEINT, error=MSE\n",
      "Running with seed=4, solver=ODEINT, error=SQUARED\n",
      "Running with seed=4, solver=ODEINT, error=MSE\n",
      "Running with seed=5, solver=ODEINT, error=SQUARED\n",
      "Running with seed=5, solver=ODEINT, error=MSE\n",
      "Running with seed=6, solver=ODEINT, error=SQUARED\n",
      "Running with seed=6, solver=ODEINT, error=MSE\n",
      "Running with seed=7, solver=ODEINT, error=SQUARED\n",
      "Running with seed=7, solver=ODEINT, error=MSE\n",
      "Running with seed=8, solver=ODEINT, error=SQUARED\n",
      "Running with seed=8, solver=ODEINT, error=MSE\n",
      "Running with seed=9, solver=ODEINT, error=SQUARED\n",
      "Running with seed=9, solver=ODEINT, error=MSE\n"
     ]
    }
   ],
   "source": [
    "import warnings\n",
    "warnings.filterwarnings(\"ignore\")\n",
    "handler.execute()"
   ]
  }
 ],
 "metadata": {
  "kernelspec": {
   "display_name": "Python 3",
   "language": "python",
   "name": "python3"
  },
  "language_info": {
   "codemirror_mode": {
    "name": "ipython",
    "version": 3
   },
   "file_extension": ".py",
   "mimetype": "text/x-python",
   "name": "python",
   "nbconvert_exporter": "python",
   "pygments_lexer": "ipython3",
   "version": "3.10.11"
  }
 },
 "nbformat": 4,
 "nbformat_minor": 5
}
