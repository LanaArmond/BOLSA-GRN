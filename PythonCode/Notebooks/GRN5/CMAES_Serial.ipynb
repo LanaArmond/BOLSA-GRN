{
 "cells": [
  {
   "cell_type": "code",
   "execution_count": 6,
   "id": "3f601e32",
   "metadata": {},
   "outputs": [],
   "source": [
    "# Importação de bibliotecas externas necessárias\n",
    "import sys\n",
    "import os\n",
    "sys.path.append(os.path.abspath(\"../..\")) \n",
    "\n",
    "\n",
    "import logging\n",
    "from Modules.Models import * \n",
    "from Modules.Methods import *\n",
    "from Modules.Handlers import *"
   ]
  },
  {
   "cell_type": "code",
   "execution_count": 7,
   "id": "87b1cc13",
   "metadata": {},
   "outputs": [],
   "source": [
    "# GRN5 = ModelWrapper.GRN5()\n",
    "# cmaes = CMAES(model=GRN5)\n",
    "# ind = cmaes.execute(logging, error='SQUARED', solver='RK45', gens=50, seed=None, verbose=True)\n",
    "# ind.calculate_fitness()\n",
    "# ind"
   ]
  },
  {
   "cell_type": "code",
   "execution_count": 8,
   "id": "05c4acf2",
   "metadata": {},
   "outputs": [
    {
     "data": {
      "text/plain": [
       "<ExecutionHandler Configuration>\n",
       "{ 'Additional Params': {},\n",
       "  'Errors': ['SQUARED', 'MSE'],\n",
       "  'Generations': 5000,\n",
       "  'Method Name': 'CMAES',\n",
       "  'Model Name': 'GRN5',\n",
       "  'Output Directory': '../../Outputs/',\n",
       "  'Parallel Execution': False,\n",
       "  'Seeds': [0, 1, 2, 3, 4, 5, 6, 7, 8, 9],\n",
       "  'Solvers': ['ODEINT']}"
      ]
     },
     "execution_count": 8,
     "metadata": {},
     "output_type": "execute_result"
    }
   ],
   "source": [
    "handler = ExecutionHandler(\n",
    "    model=ModelWrapper.GRN5(),\n",
    "    method_class=CMAES,\n",
    "    seeds=[0, 1, 2, 3, 4, 5, 6, 7, 8, 9],\n",
    "    solvers=['ODEINT'],\n",
    "    errors=['SQUARED','MSE'],\n",
    "    generations=5000,\n",
    "    parallel=False,\n",
    ")\n",
    "\n",
    "handler"
   ]
  },
  {
   "cell_type": "code",
   "execution_count": 9,
   "id": "c7730572",
   "metadata": {},
   "outputs": [
    {
     "name": "stdout",
     "output_type": "stream",
     "text": [
      "Starting execution with ID: GRN5_CMAES_SERIAL_20250701_223342\n",
      "Running with seed=0, solver=ODEINT, error=SQUARED\n",
      "Running with seed=0, solver=ODEINT, error=MSE'std': 5.0238400416273314e-08, 'min': 1.98191437891712, 'max': 1.9819145265221134}}}\n",
      "Running with seed=1, solver=ODEINT, error=SQUAREDd': 4.601796905954731e-09, 'min': 0.047669849778549225, 'max': 0.047669862921461276}4}\n",
      "Running with seed=1, solver=ODEINT, error=MSEtd': 0.07254355327035049, 'min': 2.2849789688558673, 'max': 2.5510077709140915}6}}}}\n",
      "Running with seed=2, solver=ODEINT, error=SQUAREDd': 3.069180526558991e-11, 'min': 0.04004623925649342, 'max': 0.040046239369771856}6}}\n",
      "Running with seed=2, solver=ODEINT, error=MSE'std': 9.57608543861756e-09, 'min': 3.0326483494756538, 'max': 3.0326483722903625}7}\n",
      "Running with seed=3, solver=ODEINT, error=SQUAREDtd': 3.1033057706976903e-10, 'min': 0.02809797218399713, 'max': 0.028097972890802833}}\n",
      "Running with seed=3, solver=ODEINT, error=MSEstd': 3.807246857980653e-08, 'min': 3.2188029514079273, 'max': 3.218803088202506}}}}\n",
      "Running with seed=4, solver=ODEINT, error=SQUARED': 1.6966786025667288e-10, 'min': 0.22002802244653002, 'max': 0.22002802306441857}}\n",
      "Running with seed=4, solver=ODEINT, error=MSEstd': 2.5689851875993565e-05, 'min': 2.500621419681657, 'max': 2.5006730451612778}}}\n",
      "Running with seed=5, solver=ODEINT, error=SQUAREDtd': 1.3410965732553785e-09, 'min': 0.01542059154709481, 'max': 0.015420596188825882}}\n",
      "Running with seed=5, solver=ODEINT, error=MSE'std': 4.039392545752042e-13, 'min': 3.2174192584563666, 'max': 3.2174192584576584}}\n",
      "Running with seed=6, solver=ODEINT, error=SQUAREDtd': 5.269853791059659e-10, 'min': 0.020761022233250635, 'max': 0.020761024140286702}}\n",
      "Running with seed=6, solver=ODEINT, error=MSEstd': 3.587982768374526e-08, 'min': 1.858477172100257, 'max': 1.8584772867357828}}}}\n",
      "Running with seed=7, solver=ODEINT, error=SQUAREDtd': 3.148886726901483e-10, 'min': 0.01296689160861652, 'max': 0.012966892277252519}}}\n",
      "Running with seed=7, solver=ODEINT, error=MSE'std': 8.649903919802186e-08, 'min': 1.8090381390743886, 'max': 1.8090384139532012}}\n",
      "Running with seed=8, solver=ODEINT, error=SQUAREDd': 0.001210534333981687, 'min': 0.014137356287670573, 'max': 0.017300086015530392}}}}\n",
      "Running with seed=8, solver=ODEINT, error=MSE'std': 8.50461871517931e-09, 'min': 1.8170349593980852, 'max': 1.8170349855099428}}}\n",
      "Running with seed=9, solver=ODEINT, error=SQUAREDtd': 3.08215982319043e-10, 'min': 0.010162896495419271, 'max': 0.010162897531600113}7}\n",
      "Running with seed=9, solver=ODEINT, error=MSE'std': 1.6879820741953724e-08, 'min': 1.775518799988169, 'max': 1.775518844644144}9}\n",
      "Generation 4999: {'avg': 0.03751093740644197, 'std': 0.000275998524743246, 'min': 0.037277666897841004, 'max': 0.03783801848181656}9}}}\r"
     ]
    }
   ],
   "source": [
    "import warnings\n",
    "warnings.filterwarnings(\"ignore\")\n",
    "handler.execute()"
   ]
  },
  {
   "cell_type": "code",
   "execution_count": 10,
   "id": "b753fd2d",
   "metadata": {},
   "outputs": [],
   "source": [
    "# logging.basicConfig(\n",
    "#     filename=\"../../Outputs/GRN5_CMAES_execution.log\",\n",
    "#     level=logging.INFO,\n",
    "#     format=\"%(asctime)s - %(levelname)s - %(message)s\",\n",
    "# )\n",
    "\n",
    "# #INICIALIZANDO MODELO\n",
    "# GRN5 = ModelWrapper.GRN5()\n",
    "# CMAES = CMAES(model=GRN5)\n",
    "# results = CMAES.run(gens=10, logging=logging, verbose=True, filepath=\"../../Outputs/\")\n",
    "# results"
   ]
  }
 ],
 "metadata": {
  "kernelspec": {
   "display_name": "Python 3",
   "language": "python",
   "name": "python3"
  },
  "language_info": {
   "codemirror_mode": {
    "name": "ipython",
    "version": 3
   },
   "file_extension": ".py",
   "mimetype": "text/x-python",
   "name": "python",
   "nbconvert_exporter": "python",
   "pygments_lexer": "ipython3",
   "version": "3.10.11"
  }
 },
 "nbformat": 4,
 "nbformat_minor": 5
}
