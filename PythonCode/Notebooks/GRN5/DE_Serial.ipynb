{
 "cells": [
  {
   "cell_type": "code",
   "execution_count": 1,
   "id": "d1262af6",
   "metadata": {},
   "outputs": [],
   "source": [
    "# Importação de bibliotecas externas necessárias\n",
    "import sys\n",
    "import os\n",
    "sys.path.append(os.path.abspath(\"../..\")) \n",
    "\n",
    "\n",
    "import logging\n",
    "from Modules.Models import * \n",
    "from Modules.Methods import *\n",
    "from Modules.Handlers import *"
   ]
  },
  {
   "cell_type": "code",
   "execution_count": null,
   "id": "bc629993",
   "metadata": {},
   "outputs": [
    {
     "data": {
      "text/plain": [
       "<ExecutionHandler Configuration>\n",
       "{ 'Additional Params': {},\n",
       "  'Errors': ['ABS'],\n",
       "  'Generations': 5,\n",
       "  'Method Name': 'DE',\n",
       "  'Model Name': 'GRN5',\n",
       "  'Output Directory': '../../Outputs/',\n",
       "  'Parallel Execution': False,\n",
       "  'Seeds': [0, 1],\n",
       "  'Solvers': ['RK45']}"
      ]
     },
     "execution_count": 2,
     "metadata": {},
     "output_type": "execute_result"
    }
   ],
   "source": [
    "handler = ExecutionHandler(\n",
    "    model=ModelWrapper.GRN5(),\n",
    "    method_class=DE,\n",
    "    seeds=[0, 1, 2, 3, 4, 5, 6, 7, 8, 9],\n",
    "    solvers=['RK45', 'DOP853', 'LSODA'],\n",
    "    errors=['ABS', 'SQUARED', 'MSE', 'MABS'],\n",
    "    generations=5000,\n",
    "    parallel=False,\n",
    ")\n",
    "\n",
    "handler"
   ]
  },
  {
   "cell_type": "code",
   "execution_count": 3,
   "id": "6dc948f3",
   "metadata": {},
   "outputs": [
    {
     "name": "stdout",
     "output_type": "stream",
     "text": [
      "Starting execution with ID: GRN5_DE_SERIAL_20250523_192334\n"
     ]
    },
    {
     "name": "stderr",
     "output_type": "stream",
     "text": [
      "C:\\Users\\anabi\\AppData\\Local\\Packages\\PythonSoftwareFoundation.Python.3.10_qbz5n2kfra8p0\\LocalCache\\local-packages\\Python310\\site-packages\\scipy\\integrate\\_ivp\\common.py:39: UserWarning: The following arguments have no effect for a chosen solver: `min_step`.\n",
      "  warn(\"The following arguments have no effect for a chosen solver: {}.\"\n"
     ]
    },
    {
     "name": "stdout",
     "output_type": "stream",
     "text": [
      "differential_evolution step 1: f(x)= 9.03222\n",
      "differential_evolution step 2: f(x)= 8.33152\n",
      "differential_evolution step 3: f(x)= 8.33152\n",
      "differential_evolution step 4: f(x)= 7.29322\n",
      "differential_evolution step 5: f(x)= 6.91155\n",
      "Polishing solution with 'L-BFGS-B'\n",
      "differential_evolution step 1: f(x)= 9.24413\n",
      "differential_evolution step 2: f(x)= 6.31255\n",
      "differential_evolution step 3: f(x)= 6.31255\n",
      "differential_evolution step 4: f(x)= 6.31255\n",
      "differential_evolution step 5: f(x)= 6.19723\n",
      "Polishing solution with 'L-BFGS-B'\n"
     ]
    }
   ],
   "source": [
    "handler.execute()"
   ]
  }
 ],
 "metadata": {
  "kernelspec": {
   "display_name": "Python 3",
   "language": "python",
   "name": "python3"
  },
  "language_info": {
   "codemirror_mode": {
    "name": "ipython",
    "version": 3
   },
   "file_extension": ".py",
   "mimetype": "text/x-python",
   "name": "python",
   "nbconvert_exporter": "python",
   "pygments_lexer": "ipython3",
   "version": "3.10.11"
  }
 },
 "nbformat": 4,
 "nbformat_minor": 5
}
