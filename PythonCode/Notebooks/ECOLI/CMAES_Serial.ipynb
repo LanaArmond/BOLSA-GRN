{
 "cells": [
  {
   "cell_type": "code",
   "execution_count": null,
   "id": "50a2bf1e",
   "metadata": {},
   "outputs": [],
   "source": [
    "# # Importação de bibliotecas externas necessárias\n",
    "# import sys\n",
    "# import os\n",
    "# sys.path.append(os.path.abspath(\"../..\")) \n",
    "\n",
    "\n",
    "# import logging\n",
    "# from Modules.Models import * \n",
    "# from Modules.Methods import *\n",
    "# from Modules.Handlers import *"
   ]
  },
  {
   "cell_type": "code",
   "execution_count": null,
   "id": "0a7c93e7",
   "metadata": {},
   "outputs": [
    {
     "data": {
      "text/plain": [
       "<ExecutionHandler Configuration>\n",
       "{ 'Additional Params': {},\n",
       "  'Errors': ['ABS'],\n",
       "  'Generations': 5,\n",
       "  'Method Name': 'CMAES',\n",
       "  'Model Name': 'ECOLI',\n",
       "  'Output Directory': '../../Outputs/',\n",
       "  'Parallel Execution': False,\n",
       "  'Seeds': [0, 1],\n",
       "  'Solvers': ['RK45']}"
      ]
     },
     "execution_count": 2,
     "metadata": {},
     "output_type": "execute_result"
    }
   ],
   "source": [
    "# handler = ExecutionHandler(\n",
    "#     model=ModelWrapper.ECOLI(),\n",
    "#     method_class=CMAES,\n",
    "#     # seeds=[0, 1, 2, 3, 4, 5, 6, 7, 8, 9],\n",
    "#     # solvers=['RK45', 'DOP853', 'LSODA'],\n",
    "#     # errors=['ABS', 'SQUARED', 'MSE', 'MABS'],\n",
    "#     # generations=5000,\n",
    "#     seeds=[0, 1],\n",
    "#     solvers=['RK45'],\n",
    "#     errors=['ABS'],\n",
    "#     generations=5,\n",
    "#     parallel=False,\n",
    "# )\n",
    "\n",
    "# handler"
   ]
  },
  {
   "cell_type": "code",
   "execution_count": null,
   "id": "b72bb6a4",
   "metadata": {},
   "outputs": [
    {
     "name": "stdout",
     "output_type": "stream",
     "text": [
      "Starting execution with ID: ECOLI_CMAES_SERIAL_20250523_200741\n"
     ]
    },
    {
     "name": "stderr",
     "output_type": "stream",
     "text": [
      "C:\\Users\\anabi\\AppData\\Local\\Packages\\PythonSoftwareFoundation.Python.3.10_qbz5n2kfra8p0\\LocalCache\\local-packages\\Python310\\site-packages\\scipy\\integrate\\_ivp\\common.py:39: UserWarning: The following arguments have no effect for a chosen solver: `min_step`.\n",
      "  warn(\"The following arguments have no effect for a chosen solver: {}.\"\n"
     ]
    },
    {
     "name": "stdout",
     "output_type": "stream",
     "text": [
      "Overflow\n"
     ]
    }
   ],
   "source": [
    "# handler.execute()"
   ]
  }
 ],
 "metadata": {
  "kernelspec": {
   "display_name": "Python 3",
   "language": "python",
   "name": "python3"
  },
  "language_info": {
   "codemirror_mode": {
    "name": "ipython",
    "version": 3
   },
   "file_extension": ".py",
   "mimetype": "text/x-python",
   "name": "python",
   "nbconvert_exporter": "python",
   "pygments_lexer": "ipython3",
   "version": "3.10.11"
  }
 },
 "nbformat": 4,
 "nbformat_minor": 5
}
