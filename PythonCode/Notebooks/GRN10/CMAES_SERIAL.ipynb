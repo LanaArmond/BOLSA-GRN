{
 "cells": [
  {
   "cell_type": "code",
   "execution_count": 1,
   "id": "fbe8c171",
   "metadata": {},
   "outputs": [],
   "source": [
    "# Importação de bibliotecas externas necessárias\n",
    "import sys\n",
    "import os\n",
    "sys.path.append(os.path.abspath(\"../..\")) \n",
    "\n",
    "\n",
    "import logging\n",
    "from Modules.Models import * \n",
    "from Modules.Methods import *\n",
    "from Modules.Handlers import *"
   ]
  },
  {
   "cell_type": "code",
   "execution_count": 2,
   "id": "694621f7",
   "metadata": {},
   "outputs": [
    {
     "data": {
      "text/plain": [
       "<ExecutionHandler Configuration>\n",
       "{ 'Additional Params': {},\n",
       "  'Errors': ['ABS', 'SQUARED', 'MSE', 'MABS'],\n",
       "  'Generations': 5000,\n",
       "  'Method Name': 'CMAES',\n",
       "  'Model Name': 'GRN10',\n",
       "  'Output Directory': '../../Outputs/',\n",
       "  'Parallel Execution': False,\n",
       "  'Seeds': [0, 1, 2, 3, 4, 5, 6, 7, 8, 9],\n",
       "  'Solvers': ['RK45', 'DOP853', 'LSODA']}"
      ]
     },
     "execution_count": 2,
     "metadata": {},
     "output_type": "execute_result"
    }
   ],
   "source": [
    "handler = ExecutionHandler(\n",
    "    model=ModelWrapper.GRN10(),\n",
    "    method_class=CMAES,\n",
    "    seeds=[0, 1, 2, 3, 4, 5, 6, 7, 8, 9],\n",
    "    solvers=['RK45', 'DOP853', 'LSODA'],\n",
    "    errors=['ABS', 'SQUARED', 'MSE', 'MABS'],\n",
    "    generations=5000,\n",
    "    parallel=False,\n",
    ")\n",
    "\n",
    "handler"
   ]
  },
  {
   "cell_type": "code",
   "execution_count": null,
   "id": "9bef2479",
   "metadata": {},
   "outputs": [
    {
     "name": "stdout",
     "output_type": "stream",
     "text": [
      "Starting execution with ID: GRN10_CMAES_SERIAL_20250528_232000\n",
      "Running with seed=0, solver=RK45, error=ABS\n"
     ]
    },
    {
     "name": "stderr",
     "output_type": "stream",
     "text": [
      "C:\\Users\\anabi\\AppData\\Local\\Packages\\PythonSoftwareFoundation.Python.3.10_qbz5n2kfra8p0\\LocalCache\\local-packages\\Python310\\site-packages\\scipy\\integrate\\_ivp\\common.py:39: UserWarning: The following arguments have no effect for a chosen solver: `min_step`.\n",
      "  warn(\"The following arguments have no effect for a chosen solver: {}.\"\n"
     ]
    },
    {
     "name": "stdout",
     "output_type": "stream",
     "text": [
      "Running with seed=0, solver=RK45, error=SQUAREDtd': 0.0025379918095434777, 'min': 173.71629596490618, 'max': 173.72164853263442}}\n"
     ]
    },
    {
     "name": "stderr",
     "output_type": "stream",
     "text": [
      "C:\\Users\\anabi\\AppData\\Local\\Packages\\PythonSoftwareFoundation.Python.3.10_qbz5n2kfra8p0\\LocalCache\\local-packages\\Python310\\site-packages\\deap\\creator.py:185: RuntimeWarning: A class named 'FitnessMin' has already been created and it will be overwritten. Consider deleting previous creation of that class or rename it.\n",
      "  warnings.warn(\"A class named '{0}' has already been created and it \"\n",
      "C:\\Users\\anabi\\AppData\\Local\\Packages\\PythonSoftwareFoundation.Python.3.10_qbz5n2kfra8p0\\LocalCache\\local-packages\\Python310\\site-packages\\deap\\creator.py:185: RuntimeWarning: A class named 'Individual' has already been created and it will be overwritten. Consider deleting previous creation of that class or rename it.\n",
      "  warnings.warn(\"A class named '{0}' has already been created and it \"\n",
      "C:\\Users\\anabi\\AppData\\Local\\Packages\\PythonSoftwareFoundation.Python.3.10_qbz5n2kfra8p0\\LocalCache\\local-packages\\Python310\\site-packages\\scipy\\integrate\\_ivp\\common.py:39: UserWarning: The following arguments have no effect for a chosen solver: `min_step`.\n",
      "  warn(\"The following arguments have no effect for a chosen solver: {}.\"\n"
     ]
    },
    {
     "name": "stdout",
     "output_type": "stream",
     "text": [
      "Running with seed=0, solver=RK45, error=MSE 'std': 0.009262005994079928, 'min': 5.996340765680399, 'max': 6.027258693631691}}}}5}\n"
     ]
    },
    {
     "name": "stderr",
     "output_type": "stream",
     "text": [
      "C:\\Users\\anabi\\AppData\\Local\\Packages\\PythonSoftwareFoundation.Python.3.10_qbz5n2kfra8p0\\LocalCache\\local-packages\\Python310\\site-packages\\deap\\creator.py:185: RuntimeWarning: A class named 'FitnessMin' has already been created and it will be overwritten. Consider deleting previous creation of that class or rename it.\n",
      "  warnings.warn(\"A class named '{0}' has already been created and it \"\n",
      "C:\\Users\\anabi\\AppData\\Local\\Packages\\PythonSoftwareFoundation.Python.3.10_qbz5n2kfra8p0\\LocalCache\\local-packages\\Python310\\site-packages\\deap\\creator.py:185: RuntimeWarning: A class named 'Individual' has already been created and it will be overwritten. Consider deleting previous creation of that class or rename it.\n",
      "  warnings.warn(\"A class named '{0}' has already been created and it \"\n",
      "C:\\Users\\anabi\\AppData\\Local\\Packages\\PythonSoftwareFoundation.Python.3.10_qbz5n2kfra8p0\\LocalCache\\local-packages\\Python310\\site-packages\\scipy\\integrate\\_ivp\\common.py:39: UserWarning: The following arguments have no effect for a chosen solver: `min_step`.\n",
      "  warn(\"The following arguments have no effect for a chosen solver: {}.\"\n"
     ]
    },
    {
     "name": "stdout",
     "output_type": "stream",
     "text": [
      "Running with seed=0, solver=RK45, error=MABS, 'std': 0.0075880662655523, 'min': 0.25405464676353506, 'max': 0.2827232673755308}2}4}}\n"
     ]
    },
    {
     "name": "stderr",
     "output_type": "stream",
     "text": [
      "C:\\Users\\anabi\\AppData\\Local\\Packages\\PythonSoftwareFoundation.Python.3.10_qbz5n2kfra8p0\\LocalCache\\local-packages\\Python310\\site-packages\\deap\\creator.py:185: RuntimeWarning: A class named 'FitnessMin' has already been created and it will be overwritten. Consider deleting previous creation of that class or rename it.\n",
      "  warnings.warn(\"A class named '{0}' has already been created and it \"\n",
      "C:\\Users\\anabi\\AppData\\Local\\Packages\\PythonSoftwareFoundation.Python.3.10_qbz5n2kfra8p0\\LocalCache\\local-packages\\Python310\\site-packages\\deap\\creator.py:185: RuntimeWarning: A class named 'Individual' has already been created and it will be overwritten. Consider deleting previous creation of that class or rename it.\n",
      "  warnings.warn(\"A class named '{0}' has already been created and it \"\n",
      "C:\\Users\\anabi\\AppData\\Local\\Packages\\PythonSoftwareFoundation.Python.3.10_qbz5n2kfra8p0\\LocalCache\\local-packages\\Python310\\site-packages\\scipy\\integrate\\_ivp\\common.py:39: UserWarning: The following arguments have no effect for a chosen solver: `min_step`.\n",
      "  warn(\"The following arguments have no effect for a chosen solver: {}.\"\n"
     ]
    },
    {
     "name": "stdout",
     "output_type": "stream",
     "text": [
      "Running with seed=0, solver=DOP853, error=ABS 'std': 0.003109553067045215, 'min': 0.35935368289157504, 'max': 0.37113064641887394}}\n"
     ]
    },
    {
     "name": "stderr",
     "output_type": "stream",
     "text": [
      "C:\\Users\\anabi\\AppData\\Local\\Packages\\PythonSoftwareFoundation.Python.3.10_qbz5n2kfra8p0\\LocalCache\\local-packages\\Python310\\site-packages\\deap\\creator.py:185: RuntimeWarning: A class named 'FitnessMin' has already been created and it will be overwritten. Consider deleting previous creation of that class or rename it.\n",
      "  warnings.warn(\"A class named '{0}' has already been created and it \"\n",
      "C:\\Users\\anabi\\AppData\\Local\\Packages\\PythonSoftwareFoundation.Python.3.10_qbz5n2kfra8p0\\LocalCache\\local-packages\\Python310\\site-packages\\deap\\creator.py:185: RuntimeWarning: A class named 'Individual' has already been created and it will be overwritten. Consider deleting previous creation of that class or rename it.\n",
      "  warnings.warn(\"A class named '{0}' has already been created and it \"\n",
      "C:\\Users\\anabi\\AppData\\Local\\Packages\\PythonSoftwareFoundation.Python.3.10_qbz5n2kfra8p0\\LocalCache\\local-packages\\Python310\\site-packages\\scipy\\integrate\\_ivp\\common.py:39: UserWarning: The following arguments have no effect for a chosen solver: `min_step`.\n",
      "  warn(\"The following arguments have no effect for a chosen solver: {}.\"\n"
     ]
    },
    {
     "name": "stdout",
     "output_type": "stream",
     "text": [
      "Running with seed=0, solver=DOP853, error=SQUARED': 0.9080407092688842, 'min': 176.1372047694866, 'max': 179.2399103642782}}}\n"
     ]
    },
    {
     "name": "stderr",
     "output_type": "stream",
     "text": [
      "C:\\Users\\anabi\\AppData\\Local\\Packages\\PythonSoftwareFoundation.Python.3.10_qbz5n2kfra8p0\\LocalCache\\local-packages\\Python310\\site-packages\\deap\\creator.py:185: RuntimeWarning: A class named 'FitnessMin' has already been created and it will be overwritten. Consider deleting previous creation of that class or rename it.\n",
      "  warnings.warn(\"A class named '{0}' has already been created and it \"\n",
      "C:\\Users\\anabi\\AppData\\Local\\Packages\\PythonSoftwareFoundation.Python.3.10_qbz5n2kfra8p0\\LocalCache\\local-packages\\Python310\\site-packages\\deap\\creator.py:185: RuntimeWarning: A class named 'Individual' has already been created and it will be overwritten. Consider deleting previous creation of that class or rename it.\n",
      "  warnings.warn(\"A class named '{0}' has already been created and it \"\n",
      "C:\\Users\\anabi\\AppData\\Local\\Packages\\PythonSoftwareFoundation.Python.3.10_qbz5n2kfra8p0\\LocalCache\\local-packages\\Python310\\site-packages\\scipy\\integrate\\_ivp\\common.py:39: UserWarning: The following arguments have no effect for a chosen solver: `min_step`.\n",
      "  warn(\"The following arguments have no effect for a chosen solver: {}.\"\n"
     ]
    },
    {
     "name": "stdout",
     "output_type": "stream",
     "text": [
      "Running with seed=0, solver=DOP853, error=MSE'std': 0.5841202065629822, 'min': 11.709686926892998, 'max': 14.11647128340766}5}}}\n"
     ]
    },
    {
     "name": "stderr",
     "output_type": "stream",
     "text": [
      "C:\\Users\\anabi\\AppData\\Local\\Packages\\PythonSoftwareFoundation.Python.3.10_qbz5n2kfra8p0\\LocalCache\\local-packages\\Python310\\site-packages\\deap\\creator.py:185: RuntimeWarning: A class named 'FitnessMin' has already been created and it will be overwritten. Consider deleting previous creation of that class or rename it.\n",
      "  warnings.warn(\"A class named '{0}' has already been created and it \"\n",
      "C:\\Users\\anabi\\AppData\\Local\\Packages\\PythonSoftwareFoundation.Python.3.10_qbz5n2kfra8p0\\LocalCache\\local-packages\\Python310\\site-packages\\deap\\creator.py:185: RuntimeWarning: A class named 'Individual' has already been created and it will be overwritten. Consider deleting previous creation of that class or rename it.\n",
      "  warnings.warn(\"A class named '{0}' has already been created and it \"\n",
      "C:\\Users\\anabi\\AppData\\Local\\Packages\\PythonSoftwareFoundation.Python.3.10_qbz5n2kfra8p0\\LocalCache\\local-packages\\Python310\\site-packages\\scipy\\integrate\\_ivp\\common.py:39: UserWarning: The following arguments have no effect for a chosen solver: `min_step`.\n",
      "  warn(\"The following arguments have no effect for a chosen solver: {}.\"\n"
     ]
    },
    {
     "name": "stdout",
     "output_type": "stream",
     "text": [
      "Running with seed=0, solver=DOP853, error=MABS'std': 0.002570482425640827, 'min': 0.04217767981955025, 'max': 0.05224333279068077}}}}}\n"
     ]
    },
    {
     "name": "stderr",
     "output_type": "stream",
     "text": [
      "C:\\Users\\anabi\\AppData\\Local\\Packages\\PythonSoftwareFoundation.Python.3.10_qbz5n2kfra8p0\\LocalCache\\local-packages\\Python310\\site-packages\\deap\\creator.py:185: RuntimeWarning: A class named 'FitnessMin' has already been created and it will be overwritten. Consider deleting previous creation of that class or rename it.\n",
      "  warnings.warn(\"A class named '{0}' has already been created and it \"\n",
      "C:\\Users\\anabi\\AppData\\Local\\Packages\\PythonSoftwareFoundation.Python.3.10_qbz5n2kfra8p0\\LocalCache\\local-packages\\Python310\\site-packages\\deap\\creator.py:185: RuntimeWarning: A class named 'Individual' has already been created and it will be overwritten. Consider deleting previous creation of that class or rename it.\n",
      "  warnings.warn(\"A class named '{0}' has already been created and it \"\n",
      "C:\\Users\\anabi\\AppData\\Local\\Packages\\PythonSoftwareFoundation.Python.3.10_qbz5n2kfra8p0\\LocalCache\\local-packages\\Python310\\site-packages\\scipy\\integrate\\_ivp\\common.py:39: UserWarning: The following arguments have no effect for a chosen solver: `min_step`.\n",
      "  warn(\"The following arguments have no effect for a chosen solver: {}.\"\n"
     ]
    },
    {
     "name": "stdout",
     "output_type": "stream",
     "text": [
      "Running with seed=0, solver=LSODA, error=ABS 'std': 0.012173833285230615, 'min': 0.3679256033118425, 'max': 0.4141214967463805}}}}}\n"
     ]
    },
    {
     "name": "stderr",
     "output_type": "stream",
     "text": [
      "C:\\Users\\anabi\\AppData\\Local\\Packages\\PythonSoftwareFoundation.Python.3.10_qbz5n2kfra8p0\\LocalCache\\local-packages\\Python310\\site-packages\\deap\\creator.py:185: RuntimeWarning: A class named 'FitnessMin' has already been created and it will be overwritten. Consider deleting previous creation of that class or rename it.\n",
      "  warnings.warn(\"A class named '{0}' has already been created and it \"\n",
      "C:\\Users\\anabi\\AppData\\Local\\Packages\\PythonSoftwareFoundation.Python.3.10_qbz5n2kfra8p0\\LocalCache\\local-packages\\Python310\\site-packages\\deap\\creator.py:185: RuntimeWarning: A class named 'Individual' has already been created and it will be overwritten. Consider deleting previous creation of that class or rename it.\n",
      "  warnings.warn(\"A class named '{0}' has already been created and it \"\n",
      "C:\\Users\\anabi\\AppData\\Local\\Packages\\PythonSoftwareFoundation.Python.3.10_qbz5n2kfra8p0\\LocalCache\\local-packages\\Python310\\site-packages\\scipy\\integrate\\_ode.py:1348: UserWarning: lsoda: Repeated error test failures (internal error).\n",
      "  warnings.warn('{:s}: {:s}'.format(self.__class__.__name__,\n"
     ]
    },
    {
     "name": "stdout",
     "output_type": "stream",
     "text": [
      "Overflow\n",
      "Overflowon 6: {'avg': 311.1699047485529, 'std': 52.39836839673238, 'min': 195.87250000000006, 'max': 395.38506321847694}}\n",
      "Overflowon 64: {'avg': 291.5633810100662, 'std': 56.938340835403615, 'min': 195.8725000000001, 'max': 386.3331742567068}6}}\n",
      "Overflowon 405: {'avg': 256.60063039382555, 'std': 33.19090639313389, 'min': 224.46097236336894, 'max': 328.2081071959897}}}\n",
      "Overflowon 428: {'avg': 241.87994496016157, 'std': 28.399014657382782, 'min': 212.61404629255173, 'max': 291.06898201270474}\n",
      "Overflowon 659: {'avg': 293.3358314102539, 'std': 31.21915171600198, 'min': 226.1957224799832, 'max': 344.81928992530004}}}}\n",
      "Overflowon 844: {'avg': 268.7703772096201, 'std': 40.910947399655385, 'min': 218.956336737627, 'max': 333.0879945362369}03}}\n",
      "Overflowon 1104: {'avg': 249.51518025455894, 'std': 38.53698895913828, 'min': 220.4804080150355, 'max': 337.33038160762857}}}\n",
      "Overflowon 1155: {'avg': 268.64881846701627, 'std': 38.212380002147256, 'min': 219.6378648768028, 'max': 346.8551144175345}4}\n",
      "Overflowon 1808: {'avg': 233.9330090361386, 'std': 16.916473370534725, 'min': 208.38411067695336, 'max': 280.20317520855133}}\n",
      "Overflowon 1864: {'avg': 250.98091485874178, 'std': 37.20550488098899, 'min': 222.9128907066703, 'max': 347.49806518079197}}}\n",
      "Running with seed=0, solver=LSODA, error=SQUAREDd': 0.0011408767223709093, 'min': 170.38797915280978, 'max': 170.39146503375113}}\n"
     ]
    },
    {
     "name": "stderr",
     "output_type": "stream",
     "text": [
      "C:\\Users\\anabi\\AppData\\Local\\Packages\\PythonSoftwareFoundation.Python.3.10_qbz5n2kfra8p0\\LocalCache\\local-packages\\Python310\\site-packages\\deap\\creator.py:185: RuntimeWarning: A class named 'FitnessMin' has already been created and it will be overwritten. Consider deleting previous creation of that class or rename it.\n",
      "  warnings.warn(\"A class named '{0}' has already been created and it \"\n",
      "C:\\Users\\anabi\\AppData\\Local\\Packages\\PythonSoftwareFoundation.Python.3.10_qbz5n2kfra8p0\\LocalCache\\local-packages\\Python310\\site-packages\\deap\\creator.py:185: RuntimeWarning: A class named 'Individual' has already been created and it will be overwritten. Consider deleting previous creation of that class or rename it.\n",
      "  warnings.warn(\"A class named '{0}' has already been created and it \"\n"
     ]
    },
    {
     "name": "stdout",
     "output_type": "stream",
     "text": [
      "Generation 1: {'avg': 20.56577278792334, 'std': 1.6585680123015194, 'min': 15.28030239104945, 'max': 22.40011126310282}47}\r"
     ]
    },
    {
     "name": "stderr",
     "output_type": "stream",
     "text": [
      "C:\\Users\\anabi\\AppData\\Local\\Packages\\PythonSoftwareFoundation.Python.3.10_qbz5n2kfra8p0\\LocalCache\\local-packages\\Python310\\site-packages\\scipy\\integrate\\_ode.py:1348: UserWarning: lsoda: Repeated error test failures (internal error).\n",
      "  warnings.warn('{:s}: {:s}'.format(self.__class__.__name__,\n"
     ]
    },
    {
     "name": "stdout",
     "output_type": "stream",
     "text": [
      "Overflowon 2: {'avg': 18.992786117320748, 'std': 2.262593327094392, 'min': 12.616068770817636, 'max': 21.64084316960539}\n",
      "Overflowon 54: {'avg': 17.83553100081542, 'std': 1.8641532784876718, 'min': 15.533060678463302, 'max': 21.177630824315393}}\n",
      "Overflowon 957: {'avg': 16.948389961033172, 'std': 1.9084837337317349, 'min': 13.53615788137273, 'max': 20.04276241591636}}}}\n",
      "Overflowon 1929: {'avg': 11.863894771373218, 'std': 0.0964882903719703, 'min': 11.675551633400158, 'max': 11.99252339155718}}}\n",
      "Overflowon 3573: {'avg': 12.872499647396069, 'std': 0.7361045336286598, 'min': 11.946415933752592, 'max': 14.569821871275595}}}\n",
      "Overflowon 3743: {'avg': 11.511937950029111, 'std': 0.031063242468961572, 'min': 11.485558367833537, 'max': 11.601844729137985}\n",
      "Running with seed=0, solver=LSODA, error=MSE 'std': 0.269824923460251, 'min': 11.399072538089902, 'max': 12.30232602838212}97}}}\n"
     ]
    },
    {
     "name": "stderr",
     "output_type": "stream",
     "text": [
      "C:\\Users\\anabi\\AppData\\Local\\Packages\\PythonSoftwareFoundation.Python.3.10_qbz5n2kfra8p0\\LocalCache\\local-packages\\Python310\\site-packages\\deap\\creator.py:185: RuntimeWarning: A class named 'FitnessMin' has already been created and it will be overwritten. Consider deleting previous creation of that class or rename it.\n",
      "  warnings.warn(\"A class named '{0}' has already been created and it \"\n",
      "C:\\Users\\anabi\\AppData\\Local\\Packages\\PythonSoftwareFoundation.Python.3.10_qbz5n2kfra8p0\\LocalCache\\local-packages\\Python310\\site-packages\\deap\\creator.py:185: RuntimeWarning: A class named 'Individual' has already been created and it will be overwritten. Consider deleting previous creation of that class or rename it.\n",
      "  warnings.warn(\"A class named '{0}' has already been created and it \"\n"
     ]
    },
    {
     "name": "stdout",
     "output_type": "stream",
     "text": [
      "Generation 321: {'avg': 0.6405641114892442, 'std': 0.16011407637163044, 'min': 0.40232460279013116, 'max': 0.8851232201813816}}}\r"
     ]
    },
    {
     "name": "stderr",
     "output_type": "stream",
     "text": [
      "C:\\Users\\anabi\\AppData\\Local\\Packages\\PythonSoftwareFoundation.Python.3.10_qbz5n2kfra8p0\\LocalCache\\local-packages\\Python310\\site-packages\\scipy\\integrate\\_ode.py:1348: UserWarning: lsoda: Repeated error test failures (internal error).\n",
      "  warnings.warn('{:s}: {:s}'.format(self.__class__.__name__,\n"
     ]
    },
    {
     "name": "stdout",
     "output_type": "stream",
     "text": [
      "Overflowon 350: {'avg': 0.5452191809921402, 'std': 0.14583084148399011, 'min': 0.4083185203139185, 'max': 0.9153234981446908}}\n",
      "Overflowon 438: {'avg': 0.7851378429279597, 'std': 0.1284092014253927, 'min': 0.5853399099520538, 'max': 0.9739221344051019}}}}}\n",
      "Overflow\n",
      "Overflowon 491: {'avg': 0.6429036109350142, 'std': 0.10588209183459567, 'min': 0.4406777594546012, 'max': 0.8580903374509945}}\n",
      "Overflowon 1566: {'avg': 0.4578562929647498, 'std': 0.12274430676665646, 'min': 0.3318747443497015, 'max': 0.6886674399179634}}54}}\n",
      "Overflowon 1901: {'avg': 0.42592834724467205, 'std': 0.08605185260564877, 'min': 0.34132492232774203, 'max': 0.6492296924781321}}}\n",
      "Running with seed=0, solver=LSODA, error=MABS 'std': 1.0179887221121883e-05, 'min': 0.1236656044959032, 'max': 0.12370113339165295}}\n"
     ]
    },
    {
     "name": "stderr",
     "output_type": "stream",
     "text": [
      "C:\\Users\\anabi\\AppData\\Local\\Packages\\PythonSoftwareFoundation.Python.3.10_qbz5n2kfra8p0\\LocalCache\\local-packages\\Python310\\site-packages\\deap\\creator.py:185: RuntimeWarning: A class named 'FitnessMin' has already been created and it will be overwritten. Consider deleting previous creation of that class or rename it.\n",
      "  warnings.warn(\"A class named '{0}' has already been created and it \"\n",
      "C:\\Users\\anabi\\AppData\\Local\\Packages\\PythonSoftwareFoundation.Python.3.10_qbz5n2kfra8p0\\LocalCache\\local-packages\\Python310\\site-packages\\deap\\creator.py:185: RuntimeWarning: A class named 'Individual' has already been created and it will be overwritten. Consider deleting previous creation of that class or rename it.\n",
      "  warnings.warn(\"A class named '{0}' has already been created and it \"\n"
     ]
    },
    {
     "name": "stdout",
     "output_type": "stream",
     "text": [
      "Generation 5: {'avg': 0.6047128758930057, 'std': 0.10042303563709096, 'min': 0.46146190308241203, 'max': 0.7651404130486243}\r"
     ]
    },
    {
     "name": "stderr",
     "output_type": "stream",
     "text": [
      "C:\\Users\\anabi\\AppData\\Local\\Packages\\PythonSoftwareFoundation.Python.3.10_qbz5n2kfra8p0\\LocalCache\\local-packages\\Python310\\site-packages\\scipy\\integrate\\_ode.py:1348: UserWarning: lsoda: Repeated error test failures (internal error).\n",
      "  warnings.warn('{:s}: {:s}'.format(self.__class__.__name__,\n"
     ]
    },
    {
     "name": "stdout",
     "output_type": "stream",
     "text": [
      "Overflowon 66: {'avg': 0.5732840128086587, 'std': 0.08843080217429253, 'min': 0.391745, 'max': 0.7300615946573016}445160861}}5}\n",
      "Overflowon 268: {'avg': 0.5486586857975878, 'std': 0.07814198547023672, 'min': 0.4629556870965861, 'max': 0.6983556389877917}}}\n",
      "Overflowon 321: {'avg': 0.5366740060964422, 'std': 0.09270405985056983, 'min': 0.4267582021823648, 'max': 0.7002233053077559}}}\n",
      "Overflowon 328: {'avg': 0.5936969008656444, 'std': 0.08586501204560555, 'min': 0.45112593180572275, 'max': 0.7418884045059344}\n",
      "Overflowon 383: {'avg': 0.5713323786224702, 'std': 0.08912232144560209, 'min': 0.45594077620593204, 'max': 0.7152362525653607}\n",
      "Overflowon 386: {'avg': 0.6331462687739527, 'std': 0.08393512593424468, 'min': 0.4646755754122214, 'max': 0.750900921784712}}\n",
      "Overflowon 447: {'avg': 0.5970177661876384, 'std': 0.07286027955553051, 'min': 0.47994299522911005, 'max': 0.7595250387299896}}\n",
      "Overflowon 449: {'avg': 0.6266559602126931, 'std': 0.08521774965239803, 'min': 0.5055807583448383, 'max': 0.7967914837173611}\n",
      "Overflowon 490: {'avg': 0.582086732372198, 'std': 0.102421088432815, 'min': 0.45842170560079526, 'max': 0.753734295440468}2}}}}\n",
      "Overflowon 502: {'avg': 0.585876381406922, 'std': 0.092079102685314, 'min': 0.4346202242989703, 'max': 0.7206469923377088}228}\n",
      "Overflowon 550: {'avg': 0.6659788270878272, 'std': 0.04906640547312971, 'min': 0.6087327019975194, 'max': 0.7707293621450242}}}\n",
      "Overflowon 656: {'avg': 0.6055343175231958, 'std': 0.0966296775096338, 'min': 0.43868309242482706, 'max': 0.7568490359486414}9}\n",
      "Overflowon 658: {'avg': 0.5599495995300915, 'std': 0.0947350013110016, 'min': 0.391745, 'max': 0.7355750302447042}\n",
      "Overflowon 659: {'avg': 66667.2513207644, 'std': 249443.6695295627, 'min': 0.4263819414154136, 'max': 1000000.0}\n",
      "Overflowon 663: {'avg': 0.5405765481014525, 'std': 0.09520689431687201, 'min': 0.4449916745062922, 'max': 0.7595128721648554}\n",
      "Overflowon 717: {'avg': 0.5661401765480326, 'std': 0.09854302355714893, 'min': 0.4417256992288453, 'max': 0.7417694289871907}}}}\n",
      "Overflowon 776: {'avg': 0.5466915249691202, 'std': 0.07480187679927354, 'min': 0.44119329956166486, 'max': 0.6919427421014178}}}\n",
      "Overflowon 777: {'avg': 66667.18621485504, 'std': 249443.68692985116, 'min': 0.4086876000443742, 'max': 1000000.0}\n",
      "Overflowon 892: {'avg': 0.5841610295677042, 'std': 0.08620386551483732, 'min': 0.43678756438772676, 'max': 0.709413347182271}}5}}\n",
      "Overflowon 899: {'avg': 0.5743114980971252, 'std': 0.06881026373950777, 'min': 0.4488316615540695, 'max': 0.6729928773224294}}\n",
      "Overflowon 975: {'avg': 0.5137923869527156, 'std': 0.07952220041953784, 'min': 0.4308562026145789, 'max': 0.6622371562802672}}}}\n",
      "Overflowon 1437: {'avg': 0.55581161626718, 'std': 0.07967916295554878, 'min': 0.4516460626033614, 'max': 0.698084604262367}91204}}\n",
      "Overflowon 1503: {'avg': 0.5057225019835716, 'std': 0.05799000150217591, 'min': 0.43826409178395137, 'max': 0.6079196275095762}}}\n",
      "Overflowon 1506: {'avg': 0.5529986598228518, 'std': 0.07458736545571669, 'min': 0.45627986937097453, 'max': 0.6923545532292892}\n",
      "Overflowon 1530: {'avg': 0.47975021336750706, 'std': 0.058160479675272915, 'min': 0.4308801766655545, 'max': 0.601990056803847}}\n",
      "Overflowon 1706: {'avg': 0.5396707835583998, 'std': 0.07110194515817427, 'min': 0.43635962791251187, 'max': 0.6490623306968607}}}}\n",
      "Overflowon 1844: {'avg': 0.5568194186578418, 'std': 0.07745337652298119, 'min': 0.44538936408968666, 'max': 0.6833206421679294}6}}\n",
      "Overflowon 1874: {'avg': 0.45575458305168276, 'std': 0.06296257787973489, 'min': 0.4196308981571618, 'max': 0.6854673092825261}}}\n",
      "Overflowon 2268: {'avg': 0.4633236438972564, 'std': 0.04396803953074308, 'min': 0.4216872502976273, 'max': 0.5524056215258882}6}}}\n",
      "Overflowon 2272: {'avg': 0.48984193275428217, 'std': 0.07033607239544296, 'min': 0.43443848801968377, 'max': 0.730920570742963}\n",
      "Overflowon 2347: {'avg': 0.5664874559815201, 'std': 0.09117957172723878, 'min': 0.45292834366687357, 'max': 0.6992810128074638}}}}\n",
      "Running with seed=1, solver=RK45, error=ABS, 'std': 4.0239143798688884e-05, 'min': 0.34728215749255403, 'max': 0.3474151135364395}}}\n"
     ]
    },
    {
     "name": "stderr",
     "output_type": "stream",
     "text": [
      "C:\\Users\\anabi\\AppData\\Local\\Packages\\PythonSoftwareFoundation.Python.3.10_qbz5n2kfra8p0\\LocalCache\\local-packages\\Python310\\site-packages\\deap\\creator.py:185: RuntimeWarning: A class named 'FitnessMin' has already been created and it will be overwritten. Consider deleting previous creation of that class or rename it.\n",
      "  warnings.warn(\"A class named '{0}' has already been created and it \"\n",
      "C:\\Users\\anabi\\AppData\\Local\\Packages\\PythonSoftwareFoundation.Python.3.10_qbz5n2kfra8p0\\LocalCache\\local-packages\\Python310\\site-packages\\deap\\creator.py:185: RuntimeWarning: A class named 'Individual' has already been created and it will be overwritten. Consider deleting previous creation of that class or rename it.\n",
      "  warnings.warn(\"A class named '{0}' has already been created and it \"\n",
      "C:\\Users\\anabi\\AppData\\Local\\Packages\\PythonSoftwareFoundation.Python.3.10_qbz5n2kfra8p0\\LocalCache\\local-packages\\Python310\\site-packages\\scipy\\integrate\\_ivp\\common.py:39: UserWarning: The following arguments have no effect for a chosen solver: `min_step`.\n",
      "  warn(\"The following arguments have no effect for a chosen solver: {}.\"\n"
     ]
    },
    {
     "name": "stdout",
     "output_type": "stream",
     "text": [
      "Running with seed=1, solver=RK45, error=SQUAREDtd': 7.799764282393393, 'min': 188.8397124654634, 'max': 212.6815308932743}18}\n"
     ]
    },
    {
     "name": "stderr",
     "output_type": "stream",
     "text": [
      "C:\\Users\\anabi\\AppData\\Local\\Packages\\PythonSoftwareFoundation.Python.3.10_qbz5n2kfra8p0\\LocalCache\\local-packages\\Python310\\site-packages\\deap\\creator.py:185: RuntimeWarning: A class named 'FitnessMin' has already been created and it will be overwritten. Consider deleting previous creation of that class or rename it.\n",
      "  warnings.warn(\"A class named '{0}' has already been created and it \"\n",
      "C:\\Users\\anabi\\AppData\\Local\\Packages\\PythonSoftwareFoundation.Python.3.10_qbz5n2kfra8p0\\LocalCache\\local-packages\\Python310\\site-packages\\deap\\creator.py:185: RuntimeWarning: A class named 'Individual' has already been created and it will be overwritten. Consider deleting previous creation of that class or rename it.\n",
      "  warnings.warn(\"A class named '{0}' has already been created and it \"\n",
      "C:\\Users\\anabi\\AppData\\Local\\Packages\\PythonSoftwareFoundation.Python.3.10_qbz5n2kfra8p0\\LocalCache\\local-packages\\Python310\\site-packages\\scipy\\integrate\\_ivp\\common.py:39: UserWarning: The following arguments have no effect for a chosen solver: `min_step`.\n",
      "  warn(\"The following arguments have no effect for a chosen solver: {}.\"\n"
     ]
    },
    {
     "name": "stdout",
     "output_type": "stream",
     "text": [
      "Running with seed=1, solver=RK45, error=MSE, 'std': 0.6732441813094824, 'min': 11.497655137357823, 'max': 14.252427391137763}}}\n"
     ]
    },
    {
     "name": "stderr",
     "output_type": "stream",
     "text": [
      "C:\\Users\\anabi\\AppData\\Local\\Packages\\PythonSoftwareFoundation.Python.3.10_qbz5n2kfra8p0\\LocalCache\\local-packages\\Python310\\site-packages\\deap\\creator.py:185: RuntimeWarning: A class named 'FitnessMin' has already been created and it will be overwritten. Consider deleting previous creation of that class or rename it.\n",
      "  warnings.warn(\"A class named '{0}' has already been created and it \"\n",
      "C:\\Users\\anabi\\AppData\\Local\\Packages\\PythonSoftwareFoundation.Python.3.10_qbz5n2kfra8p0\\LocalCache\\local-packages\\Python310\\site-packages\\deap\\creator.py:185: RuntimeWarning: A class named 'Individual' has already been created and it will be overwritten. Consider deleting previous creation of that class or rename it.\n",
      "  warnings.warn(\"A class named '{0}' has already been created and it \"\n",
      "C:\\Users\\anabi\\AppData\\Local\\Packages\\PythonSoftwareFoundation.Python.3.10_qbz5n2kfra8p0\\LocalCache\\local-packages\\Python310\\site-packages\\scipy\\integrate\\_ivp\\common.py:39: UserWarning: The following arguments have no effect for a chosen solver: `min_step`.\n",
      "  warn(\"The following arguments have no effect for a chosen solver: {}.\"\n"
     ]
    },
    {
     "name": "stdout",
     "output_type": "stream",
     "text": [
      "Running with seed=1, solver=RK45, error=MABS, 'std': 0.034727538794125976, 'min': 0.2643921473152214, 'max': 0.40626337307930793}}}}\n"
     ]
    },
    {
     "name": "stderr",
     "output_type": "stream",
     "text": [
      "C:\\Users\\anabi\\AppData\\Local\\Packages\\PythonSoftwareFoundation.Python.3.10_qbz5n2kfra8p0\\LocalCache\\local-packages\\Python310\\site-packages\\deap\\creator.py:185: RuntimeWarning: A class named 'FitnessMin' has already been created and it will be overwritten. Consider deleting previous creation of that class or rename it.\n",
      "  warnings.warn(\"A class named '{0}' has already been created and it \"\n",
      "C:\\Users\\anabi\\AppData\\Local\\Packages\\PythonSoftwareFoundation.Python.3.10_qbz5n2kfra8p0\\LocalCache\\local-packages\\Python310\\site-packages\\deap\\creator.py:185: RuntimeWarning: A class named 'Individual' has already been created and it will be overwritten. Consider deleting previous creation of that class or rename it.\n",
      "  warnings.warn(\"A class named '{0}' has already been created and it \"\n",
      "C:\\Users\\anabi\\AppData\\Local\\Packages\\PythonSoftwareFoundation.Python.3.10_qbz5n2kfra8p0\\LocalCache\\local-packages\\Python310\\site-packages\\scipy\\integrate\\_ivp\\common.py:39: UserWarning: The following arguments have no effect for a chosen solver: `min_step`.\n",
      "  warn(\"The following arguments have no effect for a chosen solver: {}.\"\n"
     ]
    },
    {
     "name": "stdout",
     "output_type": "stream",
     "text": [
      "Overflowon 3444: {'avg': 0.4331083909040815, 'std': 0.0266537493885626, 'min': 0.4023146155862415, 'max': 0.503090752517503}8673}}}\n",
      "Generation 3467: {'avg': 0.4287321813050749, 'std': 0.01207833126547573, 'min': 0.40479839359275455, 'max': 0.4492174472133159}}}\r"
     ]
    }
   ],
   "source": [
    "handler.execute()"
   ]
  }
 ],
 "metadata": {
  "kernelspec": {
   "display_name": "Python 3",
   "language": "python",
   "name": "python3"
  },
  "language_info": {
   "codemirror_mode": {
    "name": "ipython",
    "version": 3
   },
   "file_extension": ".py",
   "mimetype": "text/x-python",
   "name": "python",
   "nbconvert_exporter": "python",
   "pygments_lexer": "ipython3",
   "version": "3.10.11"
  }
 },
 "nbformat": 4,
 "nbformat_minor": 5
}
