{
 "cells": [
  {
   "cell_type": "code",
   "execution_count": 1,
   "id": "fbe8c171",
   "metadata": {},
   "outputs": [],
   "source": [
    "# Importação de bibliotecas externas necessárias\n",
    "import sys\n",
    "import os\n",
    "sys.path.append(os.path.abspath(\"../..\")) \n",
    "\n",
    "\n",
    "import logging\n",
    "from Modules.Models import * \n",
    "from Modules.Methods import *\n",
    "from Modules.Handlers import *"
   ]
  },
  {
   "cell_type": "code",
   "execution_count": 2,
   "id": "694621f7",
   "metadata": {},
   "outputs": [
    {
     "data": {
      "text/plain": [
       "<ExecutionHandler Configuration>\n",
       "{ 'Additional Params': {},\n",
       "  'Errors': ['ABS', 'SQUARED', 'MSE', 'MABS'],\n",
       "  'Generations': 10000,\n",
       "  'Method Name': 'CMAES',\n",
       "  'Model Name': 'GRN10',\n",
       "  'Output Directory': '../../Outputs/',\n",
       "  'Parallel Execution': False,\n",
       "  'Seeds': [0, 1, 2, 3, 4, 5, 6, 7, 8, 9],\n",
       "  'Solvers': ['RK45', 'DOP853', 'LSODA']}"
      ]
     },
     "execution_count": 2,
     "metadata": {},
     "output_type": "execute_result"
    }
   ],
   "source": [
    "handler = ExecutionHandler(\n",
    "    model=ModelWrapper.GRN10(),\n",
    "    method_class=CMAES,\n",
    "    seeds=[0, 1, 2, 3, 4, 5, 6, 7, 8, 9],\n",
    "    solvers=['RK45', 'DOP853', 'LSODA'],\n",
    "    errors=['ABS', 'SQUARED', 'MSE', 'MABS'],\n",
    "    generations=10000,\n",
    "    parallel=False,\n",
    ")\n",
    "\n",
    "handler"
   ]
  },
  {
   "cell_type": "code",
   "execution_count": 3,
   "id": "9bef2479",
   "metadata": {},
   "outputs": [
    {
     "name": "stdout",
     "output_type": "stream",
     "text": [
      "Starting execution with ID: GRN10_CMAES_SERIAL_20250529_130330\n",
      "Running with seed=0, solver=RK45, error=ABS\n"
     ]
    },
    {
     "name": "stderr",
     "output_type": "stream",
     "text": [
      "C:\\Users\\anabi\\AppData\\Local\\Packages\\PythonSoftwareFoundation.Python.3.10_qbz5n2kfra8p0\\LocalCache\\local-packages\\Python310\\site-packages\\scipy\\integrate\\_ivp\\common.py:39: UserWarning: The following arguments have no effect for a chosen solver: `min_step`.\n",
      "  warn(\"The following arguments have no effect for a chosen solver: {}.\"\n"
     ]
    },
    {
     "name": "stdout",
     "output_type": "stream",
     "text": [
      "Running with seed=0, solver=RK45, error=SQUAREDd': 1.017905930441353, 'min': 60.515649610323145, 'max': 63.11491763989478}4}}}}\n"
     ]
    },
    {
     "name": "stderr",
     "output_type": "stream",
     "text": [
      "C:\\Users\\anabi\\AppData\\Local\\Packages\\PythonSoftwareFoundation.Python.3.10_qbz5n2kfra8p0\\LocalCache\\local-packages\\Python310\\site-packages\\deap\\creator.py:185: RuntimeWarning: A class named 'FitnessMin' has already been created and it will be overwritten. Consider deleting previous creation of that class or rename it.\n",
      "  warnings.warn(\"A class named '{0}' has already been created and it \"\n",
      "C:\\Users\\anabi\\AppData\\Local\\Packages\\PythonSoftwareFoundation.Python.3.10_qbz5n2kfra8p0\\LocalCache\\local-packages\\Python310\\site-packages\\deap\\creator.py:185: RuntimeWarning: A class named 'Individual' has already been created and it will be overwritten. Consider deleting previous creation of that class or rename it.\n",
      "  warnings.warn(\"A class named '{0}' has already been created and it \"\n",
      "C:\\Users\\anabi\\AppData\\Local\\Packages\\PythonSoftwareFoundation.Python.3.10_qbz5n2kfra8p0\\LocalCache\\local-packages\\Python310\\site-packages\\scipy\\integrate\\_ivp\\common.py:39: UserWarning: The following arguments have no effect for a chosen solver: `min_step`.\n",
      "  warn(\"The following arguments have no effect for a chosen solver: {}.\"\n"
     ]
    },
    {
     "name": "stdout",
     "output_type": "stream",
     "text": [
      "Running with seed=0, solver=RK45, error=MSE, 'std': 0.0007213696019350899, 'min': 10.952423778974884, 'max': 10.955213581791433}}\n"
     ]
    },
    {
     "name": "stderr",
     "output_type": "stream",
     "text": [
      "C:\\Users\\anabi\\AppData\\Local\\Packages\\PythonSoftwareFoundation.Python.3.10_qbz5n2kfra8p0\\LocalCache\\local-packages\\Python310\\site-packages\\deap\\creator.py:185: RuntimeWarning: A class named 'FitnessMin' has already been created and it will be overwritten. Consider deleting previous creation of that class or rename it.\n",
      "  warnings.warn(\"A class named '{0}' has already been created and it \"\n",
      "C:\\Users\\anabi\\AppData\\Local\\Packages\\PythonSoftwareFoundation.Python.3.10_qbz5n2kfra8p0\\LocalCache\\local-packages\\Python310\\site-packages\\deap\\creator.py:185: RuntimeWarning: A class named 'Individual' has already been created and it will be overwritten. Consider deleting previous creation of that class or rename it.\n",
      "  warnings.warn(\"A class named '{0}' has already been created and it \"\n",
      "C:\\Users\\anabi\\AppData\\Local\\Packages\\PythonSoftwareFoundation.Python.3.10_qbz5n2kfra8p0\\LocalCache\\local-packages\\Python310\\site-packages\\scipy\\integrate\\_ivp\\common.py:39: UserWarning: The following arguments have no effect for a chosen solver: `min_step`.\n",
      "  warn(\"The following arguments have no effect for a chosen solver: {}.\"\n"
     ]
    },
    {
     "name": "stdout",
     "output_type": "stream",
     "text": [
      "Running with seed=0, solver=RK45, error=MABS 'std': 3.9136012414758924e-05, 'min': 0.13160639615207134, 'max': 0.13174791861332347}}\n"
     ]
    },
    {
     "name": "stderr",
     "output_type": "stream",
     "text": [
      "C:\\Users\\anabi\\AppData\\Local\\Packages\\PythonSoftwareFoundation.Python.3.10_qbz5n2kfra8p0\\LocalCache\\local-packages\\Python310\\site-packages\\deap\\creator.py:185: RuntimeWarning: A class named 'FitnessMin' has already been created and it will be overwritten. Consider deleting previous creation of that class or rename it.\n",
      "  warnings.warn(\"A class named '{0}' has already been created and it \"\n",
      "C:\\Users\\anabi\\AppData\\Local\\Packages\\PythonSoftwareFoundation.Python.3.10_qbz5n2kfra8p0\\LocalCache\\local-packages\\Python310\\site-packages\\deap\\creator.py:185: RuntimeWarning: A class named 'Individual' has already been created and it will be overwritten. Consider deleting previous creation of that class or rename it.\n",
      "  warnings.warn(\"A class named '{0}' has already been created and it \"\n",
      "C:\\Users\\anabi\\AppData\\Local\\Packages\\PythonSoftwareFoundation.Python.3.10_qbz5n2kfra8p0\\LocalCache\\local-packages\\Python310\\site-packages\\scipy\\integrate\\_ivp\\common.py:39: UserWarning: The following arguments have no effect for a chosen solver: `min_step`.\n",
      "  warn(\"The following arguments have no effect for a chosen solver: {}.\"\n"
     ]
    },
    {
     "name": "stdout",
     "output_type": "stream",
     "text": [
      "Running with seed=0, solver=DOP853, error=ABS 'std': 0.0006420340595315797, 'min': 0.09469162482837228, 'max': 0.0973063763092747}}}\n"
     ]
    },
    {
     "name": "stderr",
     "output_type": "stream",
     "text": [
      "C:\\Users\\anabi\\AppData\\Local\\Packages\\PythonSoftwareFoundation.Python.3.10_qbz5n2kfra8p0\\LocalCache\\local-packages\\Python310\\site-packages\\deap\\creator.py:185: RuntimeWarning: A class named 'FitnessMin' has already been created and it will be overwritten. Consider deleting previous creation of that class or rename it.\n",
      "  warnings.warn(\"A class named '{0}' has already been created and it \"\n",
      "C:\\Users\\anabi\\AppData\\Local\\Packages\\PythonSoftwareFoundation.Python.3.10_qbz5n2kfra8p0\\LocalCache\\local-packages\\Python310\\site-packages\\deap\\creator.py:185: RuntimeWarning: A class named 'Individual' has already been created and it will be overwritten. Consider deleting previous creation of that class or rename it.\n",
      "  warnings.warn(\"A class named '{0}' has already been created and it \"\n",
      "C:\\Users\\anabi\\AppData\\Local\\Packages\\PythonSoftwareFoundation.Python.3.10_qbz5n2kfra8p0\\LocalCache\\local-packages\\Python310\\site-packages\\scipy\\integrate\\_ivp\\common.py:39: UserWarning: The following arguments have no effect for a chosen solver: `min_step`.\n",
      "  warn(\"The following arguments have no effect for a chosen solver: {}.\"\n"
     ]
    },
    {
     "name": "stdout",
     "output_type": "stream",
     "text": [
      "Running with seed=0, solver=DOP853, error=SQUARED': 0.00924653339349071, 'min': 50.88511443470252, 'max': 50.92218222036188}}}}}\n"
     ]
    },
    {
     "name": "stderr",
     "output_type": "stream",
     "text": [
      "C:\\Users\\anabi\\AppData\\Local\\Packages\\PythonSoftwareFoundation.Python.3.10_qbz5n2kfra8p0\\LocalCache\\local-packages\\Python310\\site-packages\\deap\\creator.py:185: RuntimeWarning: A class named 'FitnessMin' has already been created and it will be overwritten. Consider deleting previous creation of that class or rename it.\n",
      "  warnings.warn(\"A class named '{0}' has already been created and it \"\n",
      "C:\\Users\\anabi\\AppData\\Local\\Packages\\PythonSoftwareFoundation.Python.3.10_qbz5n2kfra8p0\\LocalCache\\local-packages\\Python310\\site-packages\\deap\\creator.py:185: RuntimeWarning: A class named 'Individual' has already been created and it will be overwritten. Consider deleting previous creation of that class or rename it.\n",
      "  warnings.warn(\"A class named '{0}' has already been created and it \"\n",
      "C:\\Users\\anabi\\AppData\\Local\\Packages\\PythonSoftwareFoundation.Python.3.10_qbz5n2kfra8p0\\LocalCache\\local-packages\\Python310\\site-packages\\scipy\\integrate\\_ivp\\common.py:39: UserWarning: The following arguments have no effect for a chosen solver: `min_step`.\n",
      "  warn(\"The following arguments have no effect for a chosen solver: {}.\"\n"
     ]
    },
    {
     "name": "stdout",
     "output_type": "stream",
     "text": [
      "Running with seed=0, solver=DOP853, error=MSE'std': 0.005384691720198778, 'min': 10.926752021755076, 'max': 10.947717669224147}}}\n"
     ]
    },
    {
     "name": "stderr",
     "output_type": "stream",
     "text": [
      "C:\\Users\\anabi\\AppData\\Local\\Packages\\PythonSoftwareFoundation.Python.3.10_qbz5n2kfra8p0\\LocalCache\\local-packages\\Python310\\site-packages\\deap\\creator.py:185: RuntimeWarning: A class named 'FitnessMin' has already been created and it will be overwritten. Consider deleting previous creation of that class or rename it.\n",
      "  warnings.warn(\"A class named '{0}' has already been created and it \"\n",
      "C:\\Users\\anabi\\AppData\\Local\\Packages\\PythonSoftwareFoundation.Python.3.10_qbz5n2kfra8p0\\LocalCache\\local-packages\\Python310\\site-packages\\deap\\creator.py:185: RuntimeWarning: A class named 'Individual' has already been created and it will be overwritten. Consider deleting previous creation of that class or rename it.\n",
      "  warnings.warn(\"A class named '{0}' has already been created and it \"\n",
      "C:\\Users\\anabi\\AppData\\Local\\Packages\\PythonSoftwareFoundation.Python.3.10_qbz5n2kfra8p0\\LocalCache\\local-packages\\Python310\\site-packages\\scipy\\integrate\\_ivp\\common.py:39: UserWarning: The following arguments have no effect for a chosen solver: `min_step`.\n",
      "  warn(\"The following arguments have no effect for a chosen solver: {}.\"\n"
     ]
    },
    {
     "name": "stdout",
     "output_type": "stream",
     "text": [
      "Running with seed=0, solver=DOP853, error=MABS'std': 0.00010289252260472596, 'min': 0.230633588224575, 'max': 0.2309594926524132}25}\n"
     ]
    },
    {
     "name": "stderr",
     "output_type": "stream",
     "text": [
      "C:\\Users\\anabi\\AppData\\Local\\Packages\\PythonSoftwareFoundation.Python.3.10_qbz5n2kfra8p0\\LocalCache\\local-packages\\Python310\\site-packages\\deap\\creator.py:185: RuntimeWarning: A class named 'FitnessMin' has already been created and it will be overwritten. Consider deleting previous creation of that class or rename it.\n",
      "  warnings.warn(\"A class named '{0}' has already been created and it \"\n",
      "C:\\Users\\anabi\\AppData\\Local\\Packages\\PythonSoftwareFoundation.Python.3.10_qbz5n2kfra8p0\\LocalCache\\local-packages\\Python310\\site-packages\\deap\\creator.py:185: RuntimeWarning: A class named 'Individual' has already been created and it will be overwritten. Consider deleting previous creation of that class or rename it.\n",
      "  warnings.warn(\"A class named '{0}' has already been created and it \"\n",
      "C:\\Users\\anabi\\AppData\\Local\\Packages\\PythonSoftwareFoundation.Python.3.10_qbz5n2kfra8p0\\LocalCache\\local-packages\\Python310\\site-packages\\scipy\\integrate\\_ivp\\common.py:39: UserWarning: The following arguments have no effect for a chosen solver: `min_step`.\n",
      "  warn(\"The following arguments have no effect for a chosen solver: {}.\"\n"
     ]
    },
    {
     "name": "stdout",
     "output_type": "stream",
     "text": [
      "Running with seed=0, solver=LSODA, error=ABS, 'std': 4.77558954958936e-05, 'min': 0.1035263989528774, 'max': 0.10372660193994651}}}}\n"
     ]
    },
    {
     "name": "stderr",
     "output_type": "stream",
     "text": [
      "C:\\Users\\anabi\\AppData\\Local\\Packages\\PythonSoftwareFoundation.Python.3.10_qbz5n2kfra8p0\\LocalCache\\local-packages\\Python310\\site-packages\\deap\\creator.py:185: RuntimeWarning: A class named 'FitnessMin' has already been created and it will be overwritten. Consider deleting previous creation of that class or rename it.\n",
      "  warnings.warn(\"A class named '{0}' has already been created and it \"\n",
      "C:\\Users\\anabi\\AppData\\Local\\Packages\\PythonSoftwareFoundation.Python.3.10_qbz5n2kfra8p0\\LocalCache\\local-packages\\Python310\\site-packages\\deap\\creator.py:185: RuntimeWarning: A class named 'Individual' has already been created and it will be overwritten. Consider deleting previous creation of that class or rename it.\n",
      "  warnings.warn(\"A class named '{0}' has already been created and it \"\n"
     ]
    },
    {
     "name": "stdout",
     "output_type": "stream",
     "text": [
      "Generation 9: {'avg': 328.7109476718954, 'std': 28.23925160911495, 'min': 278.299143535095, 'max': 388.83259076105685}1}}\r"
     ]
    },
    {
     "name": "stderr",
     "output_type": "stream",
     "text": [
      "C:\\Users\\anabi\\AppData\\Local\\Packages\\PythonSoftwareFoundation.Python.3.10_qbz5n2kfra8p0\\LocalCache\\local-packages\\Python310\\site-packages\\scipy\\integrate\\_ode.py:1348: UserWarning: lsoda: Repeated error test failures (internal error).\n",
      "  warnings.warn('{:s}: {:s}'.format(self.__class__.__name__,\n"
     ]
    },
    {
     "name": "stdout",
     "output_type": "stream",
     "text": [
      "Overflowon 146: {'avg': 294.0413256471506, 'std': 42.576707042650014, 'min': 232.31620775164384, 'max': 359.9127135836345}}}\n",
      "Overflowon 212: {'avg': 269.1850468768268, 'std': 33.54666951666293, 'min': 225.19581528177687, 'max': 332.21137816353075}}}\n",
      "Overflowon 249: {'avg': 265.75973458859295, 'std': 41.99738361838571, 'min': 219.4062337364812, 'max': 363.8847326379405}54}\n",
      "Overflowon 254: {'avg': 305.9911069697182, 'std': 46.17445911127712, 'min': 231.7724723394386, 'max': 352.47769192185564}}\n",
      "Overflowon 328: {'avg': 293.1096004430461, 'std': 44.47914001537123, 'min': 229.15910244554743, 'max': 357.7105945357758}4}}\n",
      "Overflowon 527: {'avg': 282.9009095779605, 'std': 33.42604504469688, 'min': 230.3664135629523, 'max': 336.97916190219917}}6}\n",
      "Overflowon 642: {'avg': 287.5797074710971, 'std': 44.17992978895922, 'min': 221.93377535742334, 'max': 357.21819232763505}}}\n",
      "Overflowon 776: {'avg': 274.96959271825614, 'std': 41.955933425252816, 'min': 224.2250239547151, 'max': 356.9592642122397}}}\n",
      "Overflowon 811: {'avg': 274.8448320460933, 'std': 41.597325122570126, 'min': 219.05323335787543, 'max': 333.92929380090317}}\n",
      "Overflowon 835: {'avg': 270.6686657677716, 'std': 34.71312857726392, 'min': 225.60934624830156, 'max': 329.44589705921226}}}\n",
      "Overflowon 1124: {'avg': 266.9722457500621, 'std': 32.7369548820679, 'min': 224.88373263836257, 'max': 326.63221072616494}}}}\n",
      "Overflowon 1125: {'avg': 66943.45247167147, 'std': 249369.85567604093, 'min': 229.19550740964502, 'max': 1000000.0}\n",
      "Overflowon 1257: {'avg': 250.95989725802266, 'std': 32.84290241626095, 'min': 216.0859802275074, 'max': 331.5988659354002}}}}\n",
      "Overflowon 1301: {'avg': 266.4488106450224, 'std': 36.37147728801271, 'min': 221.3873659915352, 'max': 333.2004946429134}68}}\n",
      "Overflowon 1430: {'avg': 260.688150659537, 'std': 36.66570191917408, 'min': 218.54973285320762, 'max': 329.0111673345044}}}}}\n",
      "Overflowon 1434: {'avg': 273.14412579785477, 'std': 41.83881068074498, 'min': 223.01753338638068, 'max': 346.9302503662669}\n",
      "Overflowon 1442: {'avg': 271.87615930807215, 'std': 33.233740189064484, 'min': 221.34799847030214, 'max': 343.8581555052285}\n",
      "Overflowon 1506: {'avg': 273.620739496937, 'std': 29.927921522424985, 'min': 227.9181253653508, 'max': 341.4250580396953}34}}\n",
      "Overflowon 1905: {'avg': 253.68824418563634, 'std': 31.665758256223782, 'min': 217.6872133083651, 'max': 311.0553820663353}5}\n",
      "Overflowon 1914: {'avg': 251.36854527336166, 'std': 32.23973543801763, 'min': 219.0172435403282, 'max': 333.90825494907904}}\n",
      "Overflowon 2051: {'avg': 252.63474278394085, 'std': 29.130867119917433, 'min': 218.20459772874543, 'max': 324.7261883305755}}\n",
      "Overflowon 2567: {'avg': 231.99663888186754, 'std': 14.102898378258548, 'min': 212.40576678973056, 'max': 260.46086092298725}\n",
      "Overflowon 3543: {'avg': 210.5467970368933, 'std': 77.02189291733121, 'min': 94.41197335394483, 'max': 372.37051176965144}}}}\n",
      "Overflowon 3546: {'avg': 221.78471718704557, 'std': 53.792962370600875, 'min': 134.29688077617456, 'max': 298.34942071729586}\n",
      "Running with seed=0, solver=LSODA, error=SQUAREDd': 0.31669538141942155, 'min': 50.48416010724974, 'max': 51.76412475902907}}}}}\n",
      "Overflow\n"
     ]
    },
    {
     "name": "stderr",
     "output_type": "stream",
     "text": [
      "C:\\Users\\anabi\\AppData\\Local\\Packages\\PythonSoftwareFoundation.Python.3.10_qbz5n2kfra8p0\\LocalCache\\local-packages\\Python310\\site-packages\\deap\\creator.py:185: RuntimeWarning: A class named 'FitnessMin' has already been created and it will be overwritten. Consider deleting previous creation of that class or rename it.\n",
      "  warnings.warn(\"A class named '{0}' has already been created and it \"\n",
      "C:\\Users\\anabi\\AppData\\Local\\Packages\\PythonSoftwareFoundation.Python.3.10_qbz5n2kfra8p0\\LocalCache\\local-packages\\Python310\\site-packages\\deap\\creator.py:185: RuntimeWarning: A class named 'Individual' has already been created and it will be overwritten. Consider deleting previous creation of that class or rename it.\n",
      "  warnings.warn(\"A class named '{0}' has already been created and it \"\n",
      "C:\\Users\\anabi\\AppData\\Local\\Packages\\PythonSoftwareFoundation.Python.3.10_qbz5n2kfra8p0\\LocalCache\\local-packages\\Python310\\site-packages\\scipy\\integrate\\_ode.py:1348: UserWarning: lsoda: Repeated error test failures (internal error).\n",
      "  warnings.warn('{:s}: {:s}'.format(self.__class__.__name__,\n"
     ]
    },
    {
     "name": "stdout",
     "output_type": "stream",
     "text": [
      "Overflowon 2383: {'avg': 15.318140015966666, 'std': 2.1389345217802247, 'min': 12.626441780717657, 'max': 20.734269833737976}}}8}\n",
      "Overflowon 2538: {'avg': 14.73485766179669, 'std': 1.9936176297755963, 'min': 12.80461727830622, 'max': 18.765920620853276}}}}\n",
      "Overflowon 2612: {'avg': 17.151843481259196, 'std': 2.9582773982777404, 'min': 13.447817500091158, 'max': 21.70094257001393}}}\n",
      "Running with seed=0, solver=LSODA, error=MSE 'std': 0.0014300996544071313, 'min': 3.6781776626288765, 'max': 3.6840566662949294}}\n"
     ]
    },
    {
     "name": "stderr",
     "output_type": "stream",
     "text": [
      "C:\\Users\\anabi\\AppData\\Local\\Packages\\PythonSoftwareFoundation.Python.3.10_qbz5n2kfra8p0\\LocalCache\\local-packages\\Python310\\site-packages\\deap\\creator.py:185: RuntimeWarning: A class named 'FitnessMin' has already been created and it will be overwritten. Consider deleting previous creation of that class or rename it.\n",
      "  warnings.warn(\"A class named '{0}' has already been created and it \"\n",
      "C:\\Users\\anabi\\AppData\\Local\\Packages\\PythonSoftwareFoundation.Python.3.10_qbz5n2kfra8p0\\LocalCache\\local-packages\\Python310\\site-packages\\deap\\creator.py:185: RuntimeWarning: A class named 'Individual' has already been created and it will be overwritten. Consider deleting previous creation of that class or rename it.\n",
      "  warnings.warn(\"A class named '{0}' has already been created and it \"\n"
     ]
    },
    {
     "name": "stdout",
     "output_type": "stream",
     "text": [
      "Generation 284: {'avg': 0.6608843977406006, 'std': 0.13089384153371048, 'min': 0.4075681748588006, 'max': 0.9004498488306609}}}}\r"
     ]
    },
    {
     "name": "stderr",
     "output_type": "stream",
     "text": [
      "C:\\Users\\anabi\\AppData\\Local\\Packages\\PythonSoftwareFoundation.Python.3.10_qbz5n2kfra8p0\\LocalCache\\local-packages\\Python310\\site-packages\\scipy\\integrate\\_ode.py:1348: UserWarning: lsoda: Repeated error test failures (internal error).\n",
      "  warnings.warn('{:s}: {:s}'.format(self.__class__.__name__,\n"
     ]
    },
    {
     "name": "stdout",
     "output_type": "stream",
     "text": [
      "Overflow\n",
      "Overflowon 339: {'avg': 0.5571927309943182, 'std': 0.1780626706290981, 'min': 0.33956968446725905, 'max': 0.9684206311727819}}}\n",
      "Overflowon 351: {'avg': 0.5616975846810747, 'std': 0.12514730225566284, 'min': 0.38834041953146964, 'max': 0.806548279516762}}\n",
      "Overflowon 355: {'avg': 0.6103395443863615, 'std': 0.19054365410493884, 'min': 0.34462057490744324, 'max': 0.9178678267302632}\n",
      "Overflowon 391: {'avg': 0.6220900164225021, 'std': 0.17855414371760472, 'min': 0.3672653013141115, 'max': 0.926768670258025}}}}\n",
      "Overflowon 505: {'avg': 0.5147984690680193, 'std': 0.11751729375296226, 'min': 0.36770804046304817, 'max': 0.7374433517519764}6}}\n",
      "Overflowon 744: {'avg': 0.5217213563084989, 'std': 0.10445384828197574, 'min': 0.35872770355258093, 'max': 0.6840357666736655}}}}\n",
      "Overflowon 745: {'avg': 66667.19174507154, 'std': 249443.68545185673, 'min': 0.35226118282973007, 'max': 1000000.0}\n",
      "Overflowon 751: {'avg': 0.5628496908828077, 'std': 0.13613544745265843, 'min': 0.4191676392393411, 'max': 0.9251301037466523}\n",
      "Overflowon 846: {'avg': 0.5430178497598183, 'std': 0.16065093978739764, 'min': 0.3499939110712954, 'max': 0.9297532113458806}}6}}\n",
      "Overflowon 902: {'avg': 0.3463792009610148, 'std': 0.04258657159682938, 'min': 0.3145330885088211, 'max': 0.44434069720877895}2}\n",
      "Overflowon 1353: {'avg': 0.4274799692340397, 'std': 0.12129211377912803, 'min': 0.31422529679366773, 'max': 0.7326517150079489}}}}}\n",
      "Overflowon 2078: {'avg': 0.31924126268013964, 'std': 0.012997296486621358, 'min': 0.29882873794767134, 'max': 0.342071484769873}}}}\n",
      "Overflowon 2081: {'avg': 0.4527388218424465, 'std': 0.12207745750590064, 'min': 0.3196473029854701, 'max': 0.7092973941502596}\n",
      "Overflowon 3063: {'avg': 0.35580102019552, 'std': 0.029412822352631592, 'min': 0.3164756428335117, 'max': 0.41236392801564525}}}}}\n",
      "Overflowon 3263: {'avg': 0.27085638669287104, 'std': 0.0028182188478334974, 'min': 0.2681682410366043, 'max': 0.27781883844215827}}\n",
      "Overflowon 3347: {'avg': 0.2742275611355972, 'std': 0.005730528308244598, 'min': 0.2679834480710823, 'max': 0.2875782945950313}}}5}\n",
      "Running with seed=0, solver=LSODA, error=MABS 'std': 7.18823364845311e-06, 'min': 0.07358638862747424, 'max': 0.07360604406396024}}}\n"
     ]
    },
    {
     "name": "stderr",
     "output_type": "stream",
     "text": [
      "C:\\Users\\anabi\\AppData\\Local\\Packages\\PythonSoftwareFoundation.Python.3.10_qbz5n2kfra8p0\\LocalCache\\local-packages\\Python310\\site-packages\\deap\\creator.py:185: RuntimeWarning: A class named 'FitnessMin' has already been created and it will be overwritten. Consider deleting previous creation of that class or rename it.\n",
      "  warnings.warn(\"A class named '{0}' has already been created and it \"\n",
      "C:\\Users\\anabi\\AppData\\Local\\Packages\\PythonSoftwareFoundation.Python.3.10_qbz5n2kfra8p0\\LocalCache\\local-packages\\Python310\\site-packages\\deap\\creator.py:185: RuntimeWarning: A class named 'Individual' has already been created and it will be overwritten. Consider deleting previous creation of that class or rename it.\n",
      "  warnings.warn(\"A class named '{0}' has already been created and it \"\n"
     ]
    },
    {
     "name": "stdout",
     "output_type": "stream",
     "text": [
      "Overflowon 0: {'avg': 0.6598452127452956, 'std': 0.04501519794794873, 'min': 0.5854215696235099, 'max': 0.7466116908429249}\n"
     ]
    },
    {
     "name": "stderr",
     "output_type": "stream",
     "text": [
      "C:\\Users\\anabi\\AppData\\Local\\Packages\\PythonSoftwareFoundation.Python.3.10_qbz5n2kfra8p0\\LocalCache\\local-packages\\Python310\\site-packages\\scipy\\integrate\\_ode.py:1348: UserWarning: lsoda: Repeated error test failures (internal error).\n",
      "  warnings.warn('{:s}: {:s}'.format(self.__class__.__name__,\n"
     ]
    },
    {
     "name": "stdout",
     "output_type": "stream",
     "text": [
      "Overflowon 9: {'avg': 0.6529095488332747, 'std': 0.052255598492783856, 'min': 0.5675294431770873, 'max': 0.7408521963385253}\n",
      "Overflowon 265: {'avg': 0.6143778690534789, 'std': 0.043553189445574, 'min': 0.5449031853270164, 'max': 0.6887641227081861}59}}}\n",
      "Overflowon 420: {'avg': 0.44033156687402625, 'std': 0.017994299543584287, 'min': 0.41163543388990387, 'max': 0.4865920812141427}\n",
      "Overflowon 482: {'avg': 0.5723829900443058, 'std': 0.07726725741498026, 'min': 0.4663057683925588, 'max': 0.7535570142633786}}}\n",
      "Overflowon 647: {'avg': 0.6041495290145387, 'std': 0.08142792436863547, 'min': 0.43063931184006243, 'max': 0.6887053359577713}4}\n",
      "Overflowon 648: {'avg': 66667.20125585773, 'std': 249443.68290997515, 'min': 0.391745, 'max': 1000000.0}\n",
      "Overflowon 654: {'avg': 0.6193810190967088, 'std': 0.07331972914548072, 'min': 0.4474877824523843, 'max': 0.7307715185856913}\n",
      "Overflowon 764: {'avg': 0.5986305796897259, 'std': 0.10098244701851954, 'min': 0.4448992477657564, 'max': 0.742695848356795}}}8}\n",
      "Overflowon 822: {'avg': 0.5937299951235554, 'std': 0.10069424167532005, 'min': 0.391745, 'max': 0.7337831328325746}296517294}}}}\n",
      "Overflowon 826: {'avg': 0.5061655167304949, 'std': 0.052713889901694504, 'min': 0.4371745125354792, 'max': 0.5751952840054533}\n",
      "Overflowon 1001: {'avg': 0.5789296700986046, 'std': 0.06646251650771033, 'min': 0.44685329835742904, 'max': 0.6677911201600542}}\n",
      "Overflowon 1124: {'avg': 0.5985186569651998, 'std': 0.07870353493132093, 'min': 0.47131440989905204, 'max': 0.7137652116019639}2}\n",
      "Overflowon 1248: {'avg': 0.5823474598946112, 'std': 0.06082215690683643, 'min': 0.4720924828593224, 'max': 0.7055016219029877}}}}\n",
      "Overflowon 1254: {'avg': 0.6144465753257893, 'std': 0.08338666453723512, 'min': 0.4597660647450932, 'max': 0.7666094016767379}}\n",
      "Overflowon 1380: {'avg': 0.5752155491137493, 'std': 0.07528932833547218, 'min': 0.461347972038366, 'max': 0.703302353804456}5}9}}\n",
      "Overflowon 1780: {'avg': 0.4991048898149935, 'std': 0.059039525342160615, 'min': 0.4436743927289732, 'max': 0.6243695361170858}}}5}\n",
      "Overflowon 2061: {'avg': 0.591418859563457, 'std': 0.12268978551435784, 'min': 0.43959027088005953, 'max': 0.7952909984204937}}}}}\n",
      "Overflowon 2131: {'avg': 0.5566610193255767, 'std': 0.07655558091376702, 'min': 0.42496198163692284, 'max': 0.6726953919660468}}6}\n",
      "Overflowon 2653: {'avg': 0.5444858523300371, 'std': 0.09527747274963783, 'min': 0.45077021230907544, 'max': 0.7462443985240895}}}}\n",
      "Overflowon 2806: {'avg': 0.5510462112719421, 'std': 0.09970954455771656, 'min': 0.4181679390786183, 'max': 0.7083331089005744}}}}}\n",
      "Running with seed=1, solver=RK45, error=ABS 'std': 8.83224637489767e-06, 'min': 0.33271885085382974, 'max': 0.33274592580043844}24}}\n"
     ]
    },
    {
     "name": "stderr",
     "output_type": "stream",
     "text": [
      "C:\\Users\\anabi\\AppData\\Local\\Packages\\PythonSoftwareFoundation.Python.3.10_qbz5n2kfra8p0\\LocalCache\\local-packages\\Python310\\site-packages\\deap\\creator.py:185: RuntimeWarning: A class named 'FitnessMin' has already been created and it will be overwritten. Consider deleting previous creation of that class or rename it.\n",
      "  warnings.warn(\"A class named '{0}' has already been created and it \"\n",
      "C:\\Users\\anabi\\AppData\\Local\\Packages\\PythonSoftwareFoundation.Python.3.10_qbz5n2kfra8p0\\LocalCache\\local-packages\\Python310\\site-packages\\deap\\creator.py:185: RuntimeWarning: A class named 'Individual' has already been created and it will be overwritten. Consider deleting previous creation of that class or rename it.\n",
      "  warnings.warn(\"A class named '{0}' has already been created and it \"\n",
      "C:\\Users\\anabi\\AppData\\Local\\Packages\\PythonSoftwareFoundation.Python.3.10_qbz5n2kfra8p0\\LocalCache\\local-packages\\Python310\\site-packages\\scipy\\integrate\\_ivp\\common.py:39: UserWarning: The following arguments have no effect for a chosen solver: `min_step`.\n",
      "  warn(\"The following arguments have no effect for a chosen solver: {}.\"\n"
     ]
    },
    {
     "name": "stdout",
     "output_type": "stream",
     "text": [
      "Running with seed=1, solver=RK45, error=SQUAREDtd': 0.020736104094142113, 'min': 166.848597498196, 'max': 166.91966828459985}2}}\n"
     ]
    },
    {
     "name": "stderr",
     "output_type": "stream",
     "text": [
      "C:\\Users\\anabi\\AppData\\Local\\Packages\\PythonSoftwareFoundation.Python.3.10_qbz5n2kfra8p0\\LocalCache\\local-packages\\Python310\\site-packages\\deap\\creator.py:185: RuntimeWarning: A class named 'FitnessMin' has already been created and it will be overwritten. Consider deleting previous creation of that class or rename it.\n",
      "  warnings.warn(\"A class named '{0}' has already been created and it \"\n",
      "C:\\Users\\anabi\\AppData\\Local\\Packages\\PythonSoftwareFoundation.Python.3.10_qbz5n2kfra8p0\\LocalCache\\local-packages\\Python310\\site-packages\\deap\\creator.py:185: RuntimeWarning: A class named 'Individual' has already been created and it will be overwritten. Consider deleting previous creation of that class or rename it.\n",
      "  warnings.warn(\"A class named '{0}' has already been created and it \"\n",
      "C:\\Users\\anabi\\AppData\\Local\\Packages\\PythonSoftwareFoundation.Python.3.10_qbz5n2kfra8p0\\LocalCache\\local-packages\\Python310\\site-packages\\scipy\\integrate\\_ivp\\common.py:39: UserWarning: The following arguments have no effect for a chosen solver: `min_step`.\n",
      "  warn(\"The following arguments have no effect for a chosen solver: {}.\"\n"
     ]
    },
    {
     "name": "stdout",
     "output_type": "stream",
     "text": [
      "Running with seed=1, solver=RK45, error=MSE'std': 0.0024455229713281216, 'min': 7.841449008717259, 'max': 7.84718512692914}9}}}}\n"
     ]
    },
    {
     "name": "stderr",
     "output_type": "stream",
     "text": [
      "C:\\Users\\anabi\\AppData\\Local\\Packages\\PythonSoftwareFoundation.Python.3.10_qbz5n2kfra8p0\\LocalCache\\local-packages\\Python310\\site-packages\\deap\\creator.py:185: RuntimeWarning: A class named 'FitnessMin' has already been created and it will be overwritten. Consider deleting previous creation of that class or rename it.\n",
      "  warnings.warn(\"A class named '{0}' has already been created and it \"\n",
      "C:\\Users\\anabi\\AppData\\Local\\Packages\\PythonSoftwareFoundation.Python.3.10_qbz5n2kfra8p0\\LocalCache\\local-packages\\Python310\\site-packages\\deap\\creator.py:185: RuntimeWarning: A class named 'Individual' has already been created and it will be overwritten. Consider deleting previous creation of that class or rename it.\n",
      "  warnings.warn(\"A class named '{0}' has already been created and it \"\n",
      "C:\\Users\\anabi\\AppData\\Local\\Packages\\PythonSoftwareFoundation.Python.3.10_qbz5n2kfra8p0\\LocalCache\\local-packages\\Python310\\site-packages\\scipy\\integrate\\_ivp\\common.py:39: UserWarning: The following arguments have no effect for a chosen solver: `min_step`.\n",
      "  warn(\"The following arguments have no effect for a chosen solver: {}.\"\n"
     ]
    },
    {
     "name": "stdout",
     "output_type": "stream",
     "text": [
      "Running with seed=1, solver=RK45, error=MABS, 'std': 6.291307659354442e-06, 'min': 0.1225278127738774, 'max': 0.12254455279812146}5}\n"
     ]
    },
    {
     "name": "stderr",
     "output_type": "stream",
     "text": [
      "C:\\Users\\anabi\\AppData\\Local\\Packages\\PythonSoftwareFoundation.Python.3.10_qbz5n2kfra8p0\\LocalCache\\local-packages\\Python310\\site-packages\\deap\\creator.py:185: RuntimeWarning: A class named 'FitnessMin' has already been created and it will be overwritten. Consider deleting previous creation of that class or rename it.\n",
      "  warnings.warn(\"A class named '{0}' has already been created and it \"\n",
      "C:\\Users\\anabi\\AppData\\Local\\Packages\\PythonSoftwareFoundation.Python.3.10_qbz5n2kfra8p0\\LocalCache\\local-packages\\Python310\\site-packages\\deap\\creator.py:185: RuntimeWarning: A class named 'Individual' has already been created and it will be overwritten. Consider deleting previous creation of that class or rename it.\n",
      "  warnings.warn(\"A class named '{0}' has already been created and it \"\n",
      "C:\\Users\\anabi\\AppData\\Local\\Packages\\PythonSoftwareFoundation.Python.3.10_qbz5n2kfra8p0\\LocalCache\\local-packages\\Python310\\site-packages\\scipy\\integrate\\_ivp\\common.py:39: UserWarning: The following arguments have no effect for a chosen solver: `min_step`.\n",
      "  warn(\"The following arguments have no effect for a chosen solver: {}.\"\n"
     ]
    },
    {
     "name": "stdout",
     "output_type": "stream",
     "text": [
      "Running with seed=1, solver=DOP853, error=ABS'std': 4.147220818825644e-05, 'min': 0.33369719499639205, 'max': 0.33383933656919973}}}\n"
     ]
    },
    {
     "name": "stderr",
     "output_type": "stream",
     "text": [
      "C:\\Users\\anabi\\AppData\\Local\\Packages\\PythonSoftwareFoundation.Python.3.10_qbz5n2kfra8p0\\LocalCache\\local-packages\\Python310\\site-packages\\deap\\creator.py:185: RuntimeWarning: A class named 'FitnessMin' has already been created and it will be overwritten. Consider deleting previous creation of that class or rename it.\n",
      "  warnings.warn(\"A class named '{0}' has already been created and it \"\n",
      "C:\\Users\\anabi\\AppData\\Local\\Packages\\PythonSoftwareFoundation.Python.3.10_qbz5n2kfra8p0\\LocalCache\\local-packages\\Python310\\site-packages\\deap\\creator.py:185: RuntimeWarning: A class named 'Individual' has already been created and it will be overwritten. Consider deleting previous creation of that class or rename it.\n",
      "  warnings.warn(\"A class named '{0}' has already been created and it \"\n",
      "C:\\Users\\anabi\\AppData\\Local\\Packages\\PythonSoftwareFoundation.Python.3.10_qbz5n2kfra8p0\\LocalCache\\local-packages\\Python310\\site-packages\\scipy\\integrate\\_ivp\\common.py:39: UserWarning: The following arguments have no effect for a chosen solver: `min_step`.\n",
      "  warn(\"The following arguments have no effect for a chosen solver: {}.\"\n"
     ]
    },
    {
     "name": "stdout",
     "output_type": "stream",
     "text": [
      "Running with seed=1, solver=DOP853, error=SQUARED': 0.005746983359417485, 'min': 170.84932104999092, 'max': 170.86945764534266}}}\n"
     ]
    },
    {
     "name": "stderr",
     "output_type": "stream",
     "text": [
      "C:\\Users\\anabi\\AppData\\Local\\Packages\\PythonSoftwareFoundation.Python.3.10_qbz5n2kfra8p0\\LocalCache\\local-packages\\Python310\\site-packages\\deap\\creator.py:185: RuntimeWarning: A class named 'FitnessMin' has already been created and it will be overwritten. Consider deleting previous creation of that class or rename it.\n",
      "  warnings.warn(\"A class named '{0}' has already been created and it \"\n",
      "C:\\Users\\anabi\\AppData\\Local\\Packages\\PythonSoftwareFoundation.Python.3.10_qbz5n2kfra8p0\\LocalCache\\local-packages\\Python310\\site-packages\\deap\\creator.py:185: RuntimeWarning: A class named 'Individual' has already been created and it will be overwritten. Consider deleting previous creation of that class or rename it.\n",
      "  warnings.warn(\"A class named '{0}' has already been created and it \"\n",
      "C:\\Users\\anabi\\AppData\\Local\\Packages\\PythonSoftwareFoundation.Python.3.10_qbz5n2kfra8p0\\LocalCache\\local-packages\\Python310\\site-packages\\scipy\\integrate\\_ivp\\common.py:39: UserWarning: The following arguments have no effect for a chosen solver: `min_step`.\n",
      "  warn(\"The following arguments have no effect for a chosen solver: {}.\"\n"
     ]
    },
    {
     "name": "stdout",
     "output_type": "stream",
     "text": [
      "Running with seed=1, solver=DOP853, error=MSEstd': 0.0008783560177067723, 'min': 4.816071398596544, 'max': 4.819098245375559}}}}\n"
     ]
    },
    {
     "name": "stderr",
     "output_type": "stream",
     "text": [
      "C:\\Users\\anabi\\AppData\\Local\\Packages\\PythonSoftwareFoundation.Python.3.10_qbz5n2kfra8p0\\LocalCache\\local-packages\\Python310\\site-packages\\deap\\creator.py:185: RuntimeWarning: A class named 'FitnessMin' has already been created and it will be overwritten. Consider deleting previous creation of that class or rename it.\n",
      "  warnings.warn(\"A class named '{0}' has already been created and it \"\n",
      "C:\\Users\\anabi\\AppData\\Local\\Packages\\PythonSoftwareFoundation.Python.3.10_qbz5n2kfra8p0\\LocalCache\\local-packages\\Python310\\site-packages\\deap\\creator.py:185: RuntimeWarning: A class named 'Individual' has already been created and it will be overwritten. Consider deleting previous creation of that class or rename it.\n",
      "  warnings.warn(\"A class named '{0}' has already been created and it \"\n",
      "C:\\Users\\anabi\\AppData\\Local\\Packages\\PythonSoftwareFoundation.Python.3.10_qbz5n2kfra8p0\\LocalCache\\local-packages\\Python310\\site-packages\\scipy\\integrate\\_ivp\\common.py:39: UserWarning: The following arguments have no effect for a chosen solver: `min_step`.\n",
      "  warn(\"The following arguments have no effect for a chosen solver: {}.\"\n"
     ]
    },
    {
     "name": "stdout",
     "output_type": "stream",
     "text": [
      "Running with seed=1, solver=DOP853, error=MABS 'std': 0.0003221046001801806, 'min': 0.02224729000516941, 'max': 0.02334408052472236}4}}\n"
     ]
    },
    {
     "name": "stderr",
     "output_type": "stream",
     "text": [
      "C:\\Users\\anabi\\AppData\\Local\\Packages\\PythonSoftwareFoundation.Python.3.10_qbz5n2kfra8p0\\LocalCache\\local-packages\\Python310\\site-packages\\deap\\creator.py:185: RuntimeWarning: A class named 'FitnessMin' has already been created and it will be overwritten. Consider deleting previous creation of that class or rename it.\n",
      "  warnings.warn(\"A class named '{0}' has already been created and it \"\n",
      "C:\\Users\\anabi\\AppData\\Local\\Packages\\PythonSoftwareFoundation.Python.3.10_qbz5n2kfra8p0\\LocalCache\\local-packages\\Python310\\site-packages\\deap\\creator.py:185: RuntimeWarning: A class named 'Individual' has already been created and it will be overwritten. Consider deleting previous creation of that class or rename it.\n",
      "  warnings.warn(\"A class named '{0}' has already been created and it \"\n",
      "C:\\Users\\anabi\\AppData\\Local\\Packages\\PythonSoftwareFoundation.Python.3.10_qbz5n2kfra8p0\\LocalCache\\local-packages\\Python310\\site-packages\\scipy\\integrate\\_ivp\\common.py:39: UserWarning: The following arguments have no effect for a chosen solver: `min_step`.\n",
      "  warn(\"The following arguments have no effect for a chosen solver: {}.\"\n"
     ]
    },
    {
     "name": "stdout",
     "output_type": "stream",
     "text": [
      "Running with seed=1, solver=LSODA, error=ABS 'std': 0.0006984500867626615, 'min': 0.3364811601037271, 'max': 0.3385846997567238}43}}\n"
     ]
    },
    {
     "name": "stderr",
     "output_type": "stream",
     "text": [
      "C:\\Users\\anabi\\AppData\\Local\\Packages\\PythonSoftwareFoundation.Python.3.10_qbz5n2kfra8p0\\LocalCache\\local-packages\\Python310\\site-packages\\deap\\creator.py:185: RuntimeWarning: A class named 'FitnessMin' has already been created and it will be overwritten. Consider deleting previous creation of that class or rename it.\n",
      "  warnings.warn(\"A class named '{0}' has already been created and it \"\n",
      "C:\\Users\\anabi\\AppData\\Local\\Packages\\PythonSoftwareFoundation.Python.3.10_qbz5n2kfra8p0\\LocalCache\\local-packages\\Python310\\site-packages\\deap\\creator.py:185: RuntimeWarning: A class named 'Individual' has already been created and it will be overwritten. Consider deleting previous creation of that class or rename it.\n",
      "  warnings.warn(\"A class named '{0}' has already been created and it \"\n"
     ]
    },
    {
     "name": "stdout",
     "output_type": "stream",
     "text": [
      "Generation 0: {'avg': 324.3609457545061, 'std': 24.748170564154595, 'min': 268.64434150726083, 'max': 361.26580317929603}\r"
     ]
    },
    {
     "name": "stderr",
     "output_type": "stream",
     "text": [
      "C:\\Users\\anabi\\AppData\\Local\\Packages\\PythonSoftwareFoundation.Python.3.10_qbz5n2kfra8p0\\LocalCache\\local-packages\\Python310\\site-packages\\scipy\\integrate\\_ode.py:1348: UserWarning: lsoda: Repeated error test failures (internal error).\n",
      "  warnings.warn('{:s}: {:s}'.format(self.__class__.__name__,\n"
     ]
    },
    {
     "name": "stdout",
     "output_type": "stream",
     "text": [
      "Overflowon 4: {'avg': 299.96461757287057, 'std': 44.53304015719757, 'min': 229.08673542204454, 'max': 367.99897411607725}\n",
      "Overflowon 53: {'avg': 288.54718647915956, 'std': 36.89792620468019, 'min': 231.22410704913116, 'max': 343.27852083279697}}\n",
      "Overflowon 65: {'avg': 305.5605734021418, 'std': 48.35253952653668, 'min': 226.23089561182866, 'max': 381.4672466942823}}}\n",
      "Overflowon 70: {'avg': 296.0129613994605, 'std': 34.72496450281669, 'min': 227.39938861582095, 'max': 353.5000058236855}}\n",
      "Overflowon 159: {'avg': 292.88514066897034, 'std': 45.26744545316047, 'min': 195.87250000000006, 'max': 350.73325167199533}}\n",
      "Overflowon 180: {'avg': 308.97182389758814, 'std': 51.599369585358225, 'min': 195.87250000000006, 'max': 374.33464337035645}\n",
      "Overflowon 212: {'avg': 297.1903787782533, 'std': 36.04260559478314, 'min': 240.28414551849806, 'max': 352.76836158972424}5}\n",
      "Overflowon 295: {'avg': 265.5881421295159, 'std': 42.16738392610307, 'min': 217.4836747253383, 'max': 347.4030777143999}5}5}\n",
      "Overflowon 316: {'avg': 281.481830811774, 'std': 51.837984442595854, 'min': 224.31291733900775, 'max': 375.5418940558207}}}}\n",
      "Overflowon 342: {'avg': 265.983572515631, 'std': 38.69121017242104, 'min': 221.1338233245828, 'max': 346.36216591632643}}}}\n",
      "Overflowon 345: {'avg': 270.3562769302908, 'std': 45.36120011684163, 'min': 219.62705991566955, 'max': 356.9913307505589}\n",
      "Overflowon 378: {'avg': 289.1815522342162, 'std': 52.61063807960376, 'min': 221.89761791921867, 'max': 376.2879168530645}3}\n",
      "Overflowon 461: {'avg': 275.71801899616133, 'std': 51.44708610734066, 'min': 216.50780839081057, 'max': 387.93717485632783}}\n",
      "Overflowon 477: {'avg': 237.02707930004811, 'std': 31.590996971675864, 'min': 215.4864986932145, 'max': 326.0293367264113}}\n",
      "Overflowon 556: {'avg': 261.4899789425868, 'std': 24.287523906978624, 'min': 223.13991666989523, 'max': 312.7671324818445}}}\n",
      "Overflowon 597: {'avg': 281.0816387958359, 'std': 57.87559295416592, 'min': 217.43088900159344, 'max': 385.05737817515234}}}\n",
      "Overflowon 649: {'avg': 240.9467646802216, 'std': 30.464401973743392, 'min': 211.03752214074444, 'max': 295.07312810635324}}\n",
      "Overflowon 650: {'avg': 66933.22945629999, 'std': 249372.58738181155, 'min': 212.00318327492852, 'max': 1000000.0}\n",
      "Overflowon 651: {'avg': 66922.17315026643, 'std': 249375.54256775783, 'min': 220.72649679493014, 'max': 1000000.0}\n",
      "Overflowon 652: {'avg': 66922.70390576203, 'std': 249375.39935571144, 'min': 227.66350915211788, 'max': 1000000.0}\n",
      "Overflowon 707: {'avg': 285.2226723647232, 'std': 59.96668670129662, 'min': 218.05345287380794, 'max': 383.16041826455216}}}\n",
      "Overflow\n",
      "Overflowon 833: {'avg': 276.3469112359165, 'std': 43.24814380040796, 'min': 219.02562187855776, 'max': 371.4348847867746}}5}\n",
      "Overflowon 890: {'avg': 286.9758816681206, 'std': 45.593226859489455, 'min': 195.87250000000006, 'max': 362.6507166017494}}}\n",
      "Overflowon 1015: {'avg': 262.918808727225, 'std': 40.585945578156185, 'min': 213.27433734351496, 'max': 335.6946402134773}}}\n",
      "Overflowon 1383: {'avg': 287.58566688866057, 'std': 36.13783462790975, 'min': 221.23801991563755, 'max': 349.332169774573}}}}\n",
      "Overflowon 1520: {'avg': 260.4720921614878, 'std': 23.963617402862816, 'min': 229.96312698515845, 'max': 312.98376662030313}}\n",
      "Running with seed=1, solver=LSODA, error=SQUAREDd': 1.1535789080896777, 'min': 54.04019259569407, 'max': 58.02920130393783}}}}}}}\n"
     ]
    },
    {
     "name": "stderr",
     "output_type": "stream",
     "text": [
      "C:\\Users\\anabi\\AppData\\Local\\Packages\\PythonSoftwareFoundation.Python.3.10_qbz5n2kfra8p0\\LocalCache\\local-packages\\Python310\\site-packages\\deap\\creator.py:185: RuntimeWarning: A class named 'FitnessMin' has already been created and it will be overwritten. Consider deleting previous creation of that class or rename it.\n",
      "  warnings.warn(\"A class named '{0}' has already been created and it \"\n",
      "C:\\Users\\anabi\\AppData\\Local\\Packages\\PythonSoftwareFoundation.Python.3.10_qbz5n2kfra8p0\\LocalCache\\local-packages\\Python310\\site-packages\\deap\\creator.py:185: RuntimeWarning: A class named 'Individual' has already been created and it will be overwritten. Consider deleting previous creation of that class or rename it.\n",
      "  warnings.warn(\"A class named '{0}' has already been created and it \"\n"
     ]
    },
    {
     "name": "stdout",
     "output_type": "stream",
     "text": [
      "Overflowon 110: {'avg': 16.766870357150356, 'std': 1.4057835643607937, 'min': 14.985516980412967, 'max': 19.07974787759963}}\n"
     ]
    },
    {
     "name": "stderr",
     "output_type": "stream",
     "text": [
      "C:\\Users\\anabi\\AppData\\Local\\Packages\\PythonSoftwareFoundation.Python.3.10_qbz5n2kfra8p0\\LocalCache\\local-packages\\Python310\\site-packages\\scipy\\integrate\\_ode.py:1348: UserWarning: lsoda: Repeated error test failures (internal error).\n",
      "  warnings.warn('{:s}: {:s}'.format(self.__class__.__name__,\n"
     ]
    },
    {
     "name": "stdout",
     "output_type": "stream",
     "text": [
      "Overflowon 218: {'avg': 17.581651838964582, 'std': 1.6879747091802253, 'min': 15.058799030569608, 'max': 21.439881813839108}\n",
      "Overflowon 232: {'avg': 18.046757235852827, 'std': 1.8382939144075658, 'min': 15.415500681925849, 'max': 20.905992113100055}\n",
      "Overflowon 279: {'avg': 17.163428933850145, 'std': 1.875184411971043, 'min': 14.765628657980756, 'max': 21.160150067281275}}\n",
      "Overflowon 514: {'avg': 13.932354780661619, 'std': 0.8800209458564278, 'min': 12.787560616573556, 'max': 15.490178634055225}\n",
      "Overflowon 599: {'avg': 16.775084679904857, 'std': 2.2562450934948237, 'min': 13.651875034512768, 'max': 21.273494292572455}}\n",
      "Overflowon 605: {'avg': 16.022029528344248, 'std': 2.066229002699587, 'min': 12.856616558307742, 'max': 20.312370100565715}\n",
      "Overflowon 1375: {'avg': 13.933484056274867, 'std': 0.7979735247389496, 'min': 13.034388683482332, 'max': 15.842640780110639}}}\n",
      "Overflowon 1626: {'avg': 15.29713898752754, 'std': 1.834465314906505, 'min': 13.178687524372066, 'max': 18.828173018293036}6}}\n",
      "Overflowon 2041: {'avg': 13.75998127275533, 'std': 0.8025940703495442, 'min': 12.73187026468624, 'max': 15.311758232241278}2}}}\n",
      "Overflowon 2472: {'avg': 14.230367433972996, 'std': 1.4158117840905207, 'min': 12.223043321872723, 'max': 18.479382739383773}}}\n",
      "Running with seed=1, solver=LSODA, error=MSE'std': 0.0027157943825047055, 'min': 10.988075243719262, 'max': 10.99819523769629}}}}\n"
     ]
    },
    {
     "name": "stderr",
     "output_type": "stream",
     "text": [
      "C:\\Users\\anabi\\AppData\\Local\\Packages\\PythonSoftwareFoundation.Python.3.10_qbz5n2kfra8p0\\LocalCache\\local-packages\\Python310\\site-packages\\deap\\creator.py:185: RuntimeWarning: A class named 'FitnessMin' has already been created and it will be overwritten. Consider deleting previous creation of that class or rename it.\n",
      "  warnings.warn(\"A class named '{0}' has already been created and it \"\n",
      "C:\\Users\\anabi\\AppData\\Local\\Packages\\PythonSoftwareFoundation.Python.3.10_qbz5n2kfra8p0\\LocalCache\\local-packages\\Python310\\site-packages\\deap\\creator.py:185: RuntimeWarning: A class named 'Individual' has already been created and it will be overwritten. Consider deleting previous creation of that class or rename it.\n",
      "  warnings.warn(\"A class named '{0}' has already been created and it \"\n"
     ]
    },
    {
     "name": "stdout",
     "output_type": "stream",
     "text": [
      "Overflowon 110: {'avg': 0.5662083380066287, 'std': 0.09568608889572329, 'min': 0.4491314383404907, 'max': 0.7280735581455352}}}\n"
     ]
    },
    {
     "name": "stderr",
     "output_type": "stream",
     "text": [
      "C:\\Users\\anabi\\AppData\\Local\\Packages\\PythonSoftwareFoundation.Python.3.10_qbz5n2kfra8p0\\LocalCache\\local-packages\\Python310\\site-packages\\scipy\\integrate\\_ode.py:1348: UserWarning: lsoda: Repeated error test failures (internal error).\n",
      "  warnings.warn('{:s}: {:s}'.format(self.__class__.__name__,\n"
     ]
    },
    {
     "name": "stdout",
     "output_type": "stream",
     "text": [
      "Overflowon 218: {'avg': 0.6239274800107973, 'std': 0.12175661416438273, 'min': 0.4535348564861683, 'max': 0.919337064382778}6}\n",
      "Overflowon 232: {'avg': 0.6581295424911086, 'std': 0.13271172123591765, 'min': 0.47527532254891264, 'max': 0.8741210124660039}\n",
      "Overflowon 279: {'avg': 0.5961992186924472, 'std': 0.13127224680678923, 'min': 0.4360475793307651, 'max': 0.8955039017397272}}}\n",
      "Overflowon 514: {'avg': 0.3897698931987414, 'std': 0.04954130327662106, 'min': 0.3270434130450863, 'max': 0.47989126822988204}}}}\n",
      "Overflowon 599: {'avg': 0.5729882158797962, 'std': 0.15518302026785225, 'min': 0.37274738391590595, 'max': 0.9051231188322257}}}\n",
      "Overflowon 605: {'avg': 0.521949464997464, 'std': 0.13588049908576524, 'min': 0.3305851786547056, 'max': 0.8251847582047122}}\n",
      "Overflowon 1375: {'avg': 0.38955747938530044, 'std': 0.045667019304395984, 'min': 0.33979057670418455, 'max': 0.5019785337752494}}}\n",
      "Overflowon 1626: {'avg': 0.47473544839066034, 'std': 0.1188069403264348, 'min': 0.3473556097300799, 'max': 0.7090001984135557}}}}}\n",
      "Overflowon 2041: {'avg': 0.379962483736675, 'std': 0.04510408012937628, 'min': 0.3242010408736033, 'max': 0.468899880325217}28}63}\n",
      "Overflowon 2472: {'avg': 0.40901576062769746, 'std': 0.08697524332291452, 'min': 0.2988055760967545, 'max': 0.6829751728572698}}}}\n",
      "Running with seed=1, solver=LSODA, error=MABS 'std': 0.0017839229166990017, 'min': 0.0908660150459683, 'max': 0.0976857838768683}3}}\n"
     ]
    },
    {
     "name": "stderr",
     "output_type": "stream",
     "text": [
      "C:\\Users\\anabi\\AppData\\Local\\Packages\\PythonSoftwareFoundation.Python.3.10_qbz5n2kfra8p0\\LocalCache\\local-packages\\Python310\\site-packages\\deap\\creator.py:185: RuntimeWarning: A class named 'FitnessMin' has already been created and it will be overwritten. Consider deleting previous creation of that class or rename it.\n",
      "  warnings.warn(\"A class named '{0}' has already been created and it \"\n",
      "C:\\Users\\anabi\\AppData\\Local\\Packages\\PythonSoftwareFoundation.Python.3.10_qbz5n2kfra8p0\\LocalCache\\local-packages\\Python310\\site-packages\\deap\\creator.py:185: RuntimeWarning: A class named 'Individual' has already been created and it will be overwritten. Consider deleting previous creation of that class or rename it.\n",
      "  warnings.warn(\"A class named '{0}' has already been created and it \"\n"
     ]
    },
    {
     "name": "stdout",
     "output_type": "stream",
     "text": [
      "Generation 0: {'avg': 0.6487218915090122, 'std': 0.04949634112830914, 'min': 0.5372886830145218, 'max': 0.7225316063585919}\r"
     ]
    },
    {
     "name": "stderr",
     "output_type": "stream",
     "text": [
      "C:\\Users\\anabi\\AppData\\Local\\Packages\\PythonSoftwareFoundation.Python.3.10_qbz5n2kfra8p0\\LocalCache\\local-packages\\Python310\\site-packages\\scipy\\integrate\\_ode.py:1348: UserWarning: lsoda: Repeated error test failures (internal error).\n",
      "  warnings.warn('{:s}: {:s}'.format(self.__class__.__name__,\n"
     ]
    },
    {
     "name": "stdout",
     "output_type": "stream",
     "text": [
      "Overflowon 4: {'avg': 0.599929235145741, 'std': 0.08906608031439513, 'min': 0.45817347084408905, 'max': 0.7359979482321544}\n",
      "Overflowon 53: {'avg': 0.5770943729583191, 'std': 0.0737958524093604, 'min': 0.46244821409826226, 'max': 0.686557041665594}}}\n",
      "Overflowon 65: {'avg': 0.6111211468042836, 'std': 0.09670507905307338, 'min': 0.4524617912236572, 'max': 0.7629344933885649}}\n",
      "Overflowon 70: {'avg': 0.5920259227989211, 'std': 0.06944992900563339, 'min': 0.4547987772316419, 'max': 0.7070000116473713}\n",
      "Overflowon 156: {'avg': 0.46123741078347685, 'std': 0.031512249019783924, 'min': 0.42172810267743116, 'max': 0.5309222442876417}\n",
      "Overflowon 374: {'avg': 0.5815671603157303, 'std': 0.07714002122189204, 'min': 0.45170471257251904, 'max': 0.7100806908254872}}}\n",
      "Overflowon 537: {'avg': 0.612576104722105, 'std': 0.0784040574996004, 'min': 0.46552633880679667, 'max': 0.7308777132241012}}}}}\n",
      "Overflowon 600: {'avg': 0.5814519167755551, 'std': 0.08127310576043624, 'min': 0.4430774341557524, 'max': 0.7152605888437915}}}}\n",
      "Overflowon 607: {'avg': 0.5760081446073912, 'std': 0.08964360909742834, 'min': 0.4244347369987465, 'max': 0.7174732814833846}}\n",
      "Overflowon 663: {'avg': 0.6086806665726965, 'std': 0.10175765568343072, 'min': 0.43914665954597026, 'max': 0.7950120083092846}}}\n",
      "Overflowon 715: {'avg': 0.5845212062776002, 'std': 0.0835163974026654, 'min': 0.45283463536241114, 'max': 0.6964337033296265}}}}\n",
      "Overflowon 824: {'avg': 0.5717998242363304, 'std': 0.08928456037768742, 'min': 0.4463056736048864, 'max': 0.7215450807525294}9}\n",
      "Overflowon 829: {'avg': 0.5851339311292054, 'std': 0.07283586716232882, 'min': 0.4524887841960402, 'max': 0.6933380716657835}}\n",
      "Overflowon 907: {'avg': 0.5584343576602585, 'std': 0.08111391849819695, 'min': 0.43485433287052133, 'max': 0.7227397334474713}3}\n",
      "Overflowon 1021: {'avg': 0.5833337182287811, 'std': 0.0757880244946346, 'min': 0.4564827741709505, 'max': 0.752426918987135}4}1}\n",
      "Overflowon 1037: {'avg': 0.5632452518087697, 'std': 0.06439959785847889, 'min': 0.46745165278486206, 'max': 0.6512641291687914}\n",
      "Overflowon 1095: {'avg': 0.5810558396951523, 'std': 0.07947139238933199, 'min': 0.4708785598185429, 'max': 0.7624954776266017}}}}\n",
      "Overflowon 1399: {'avg': 0.5535680229477744, 'std': 0.05332326805956411, 'min': 0.4838452558309182, 'max': 0.65194391187672}68}7}}\n",
      "Overflowon 1930: {'avg': 0.4240650606987684, 'std': 0.011050235468329088, 'min': 0.41054453611049563, 'max': 0.4512921906621797}}}\n",
      "Overflowon 2153: {'avg': 0.5231392278820014, 'std': 0.07301335122468165, 'min': 0.4342744510910033, 'max': 0.7144598631953738}}6}}\n",
      "Overflowon 2306: {'avg': 0.4781943170005742, 'std': 0.07586001183928692, 'min': 0.4328477842004861, 'max': 0.7498771961199834}03}}\n",
      "Overflowon 2324: {'avg': 0.448816239876526, 'std': 0.016132974659795615, 'min': 0.42081152613497275, 'max': 0.4844735879199161}}}\n",
      "Overflowon 2768: {'avg': 0.4405814937142109, 'std': 0.018080602267439405, 'min': 0.4181143567743644, 'max': 0.4926580662896753}}}}\n",
      "Overflowon 2836: {'avg': 0.45651397597589993, 'std': 0.05716145596675004, 'min': 0.3336701705743219, 'max': 0.5217027835102623}}}\n",
      "Overflowon 4768: {'avg': 0.41339301040850823, 'std': 0.1190058411145766, 'min': 0.2655387092750337, 'max': 0.675732425140863}4}}}}}}\n",
      "Running with seed=2, solver=RK45, error=ABS3, 'std': 0.0013119667326932276, 'min': 0.10124546744551617, 'max': 0.10633969866714117}}\n"
     ]
    },
    {
     "name": "stderr",
     "output_type": "stream",
     "text": [
      "C:\\Users\\anabi\\AppData\\Local\\Packages\\PythonSoftwareFoundation.Python.3.10_qbz5n2kfra8p0\\LocalCache\\local-packages\\Python310\\site-packages\\deap\\creator.py:185: RuntimeWarning: A class named 'FitnessMin' has already been created and it will be overwritten. Consider deleting previous creation of that class or rename it.\n",
      "  warnings.warn(\"A class named '{0}' has already been created and it \"\n",
      "C:\\Users\\anabi\\AppData\\Local\\Packages\\PythonSoftwareFoundation.Python.3.10_qbz5n2kfra8p0\\LocalCache\\local-packages\\Python310\\site-packages\\deap\\creator.py:185: RuntimeWarning: A class named 'Individual' has already been created and it will be overwritten. Consider deleting previous creation of that class or rename it.\n",
      "  warnings.warn(\"A class named '{0}' has already been created and it \"\n",
      "C:\\Users\\anabi\\AppData\\Local\\Packages\\PythonSoftwareFoundation.Python.3.10_qbz5n2kfra8p0\\LocalCache\\local-packages\\Python310\\site-packages\\scipy\\integrate\\_ivp\\common.py:39: UserWarning: The following arguments have no effect for a chosen solver: `min_step`.\n",
      "  warn(\"The following arguments have no effect for a chosen solver: {}.\"\n"
     ]
    },
    {
     "name": "stdout",
     "output_type": "stream",
     "text": [
      "Running with seed=2, solver=RK45, error=SQUAREDtd': 0.004472932647357033, 'min': 166.96811839270114, 'max': 166.98841340533843}}\n"
     ]
    },
    {
     "name": "stderr",
     "output_type": "stream",
     "text": [
      "C:\\Users\\anabi\\AppData\\Local\\Packages\\PythonSoftwareFoundation.Python.3.10_qbz5n2kfra8p0\\LocalCache\\local-packages\\Python310\\site-packages\\deap\\creator.py:185: RuntimeWarning: A class named 'FitnessMin' has already been created and it will be overwritten. Consider deleting previous creation of that class or rename it.\n",
      "  warnings.warn(\"A class named '{0}' has already been created and it \"\n",
      "C:\\Users\\anabi\\AppData\\Local\\Packages\\PythonSoftwareFoundation.Python.3.10_qbz5n2kfra8p0\\LocalCache\\local-packages\\Python310\\site-packages\\deap\\creator.py:185: RuntimeWarning: A class named 'Individual' has already been created and it will be overwritten. Consider deleting previous creation of that class or rename it.\n",
      "  warnings.warn(\"A class named '{0}' has already been created and it \"\n",
      "C:\\Users\\anabi\\AppData\\Local\\Packages\\PythonSoftwareFoundation.Python.3.10_qbz5n2kfra8p0\\LocalCache\\local-packages\\Python310\\site-packages\\scipy\\integrate\\_ivp\\common.py:39: UserWarning: The following arguments have no effect for a chosen solver: `min_step`.\n",
      "  warn(\"The following arguments have no effect for a chosen solver: {}.\"\n"
     ]
    },
    {
     "name": "stdout",
     "output_type": "stream",
     "text": [
      "Running with seed=2, solver=RK45, error=MSE, 'std': 0.000789310223130675, 'min': 10.943571787573582, 'max': 10.946246359990361}}}\n"
     ]
    },
    {
     "name": "stderr",
     "output_type": "stream",
     "text": [
      "C:\\Users\\anabi\\AppData\\Local\\Packages\\PythonSoftwareFoundation.Python.3.10_qbz5n2kfra8p0\\LocalCache\\local-packages\\Python310\\site-packages\\deap\\creator.py:185: RuntimeWarning: A class named 'FitnessMin' has already been created and it will be overwritten. Consider deleting previous creation of that class or rename it.\n",
      "  warnings.warn(\"A class named '{0}' has already been created and it \"\n",
      "C:\\Users\\anabi\\AppData\\Local\\Packages\\PythonSoftwareFoundation.Python.3.10_qbz5n2kfra8p0\\LocalCache\\local-packages\\Python310\\site-packages\\deap\\creator.py:185: RuntimeWarning: A class named 'Individual' has already been created and it will be overwritten. Consider deleting previous creation of that class or rename it.\n",
      "  warnings.warn(\"A class named '{0}' has already been created and it \"\n",
      "C:\\Users\\anabi\\AppData\\Local\\Packages\\PythonSoftwareFoundation.Python.3.10_qbz5n2kfra8p0\\LocalCache\\local-packages\\Python310\\site-packages\\scipy\\integrate\\_ivp\\common.py:39: UserWarning: The following arguments have no effect for a chosen solver: `min_step`.\n",
      "  warn(\"The following arguments have no effect for a chosen solver: {}.\"\n"
     ]
    },
    {
     "name": "stdout",
     "output_type": "stream",
     "text": [
      "Running with seed=2, solver=RK45, error=MABS, 'std': 2.9873430260886503e-05, 'min': 0.24341245871129086, 'max': 0.2435210455282636}}\n"
     ]
    },
    {
     "name": "stderr",
     "output_type": "stream",
     "text": [
      "C:\\Users\\anabi\\AppData\\Local\\Packages\\PythonSoftwareFoundation.Python.3.10_qbz5n2kfra8p0\\LocalCache\\local-packages\\Python310\\site-packages\\deap\\creator.py:185: RuntimeWarning: A class named 'FitnessMin' has already been created and it will be overwritten. Consider deleting previous creation of that class or rename it.\n",
      "  warnings.warn(\"A class named '{0}' has already been created and it \"\n",
      "C:\\Users\\anabi\\AppData\\Local\\Packages\\PythonSoftwareFoundation.Python.3.10_qbz5n2kfra8p0\\LocalCache\\local-packages\\Python310\\site-packages\\deap\\creator.py:185: RuntimeWarning: A class named 'Individual' has already been created and it will be overwritten. Consider deleting previous creation of that class or rename it.\n",
      "  warnings.warn(\"A class named '{0}' has already been created and it \"\n",
      "C:\\Users\\anabi\\AppData\\Local\\Packages\\PythonSoftwareFoundation.Python.3.10_qbz5n2kfra8p0\\LocalCache\\local-packages\\Python310\\site-packages\\scipy\\integrate\\_ivp\\common.py:39: UserWarning: The following arguments have no effect for a chosen solver: `min_step`.\n",
      "  warn(\"The following arguments have no effect for a chosen solver: {}.\"\n"
     ]
    },
    {
     "name": "stdout",
     "output_type": "stream",
     "text": [
      "Running with seed=2, solver=DOP853, error=ABS'std': 8.94586529472654e-06, 'min': 0.3339362367854023, 'max': 0.3339768268106769}77}}}\n"
     ]
    },
    {
     "name": "stderr",
     "output_type": "stream",
     "text": [
      "C:\\Users\\anabi\\AppData\\Local\\Packages\\PythonSoftwareFoundation.Python.3.10_qbz5n2kfra8p0\\LocalCache\\local-packages\\Python310\\site-packages\\deap\\creator.py:185: RuntimeWarning: A class named 'FitnessMin' has already been created and it will be overwritten. Consider deleting previous creation of that class or rename it.\n",
      "  warnings.warn(\"A class named '{0}' has already been created and it \"\n",
      "C:\\Users\\anabi\\AppData\\Local\\Packages\\PythonSoftwareFoundation.Python.3.10_qbz5n2kfra8p0\\LocalCache\\local-packages\\Python310\\site-packages\\deap\\creator.py:185: RuntimeWarning: A class named 'Individual' has already been created and it will be overwritten. Consider deleting previous creation of that class or rename it.\n",
      "  warnings.warn(\"A class named '{0}' has already been created and it \"\n",
      "C:\\Users\\anabi\\AppData\\Local\\Packages\\PythonSoftwareFoundation.Python.3.10_qbz5n2kfra8p0\\LocalCache\\local-packages\\Python310\\site-packages\\scipy\\integrate\\_ivp\\common.py:39: UserWarning: The following arguments have no effect for a chosen solver: `min_step`.\n",
      "  warn(\"The following arguments have no effect for a chosen solver: {}.\"\n"
     ]
    },
    {
     "name": "stdout",
     "output_type": "stream",
     "text": [
      "Generation 6137: {'avg': 105.1147214833025, 'std': 18.89173162187128, 'min': 80.58400828747992, 'max': 142.03461756040903}}}}}\r"
     ]
    },
    {
     "name": "stderr",
     "output_type": "stream",
     "text": [
      "c:\\Users\\anabi\\OneDrive\\Documentos\\# BOLSA GRN\\Códigos\\BOLSA-GRN\\PythonCode\\Modules\\Equations.py:12: RuntimeWarning: divide by zero encountered in scalar divide\n",
      "  result = (val**nval / (val**nval + kval**nval))\n",
      "c:\\Users\\anabi\\OneDrive\\Documentos\\# BOLSA GRN\\Códigos\\BOLSA-GRN\\PythonCode\\Modules\\Equations.py:64: RuntimeWarning: invalid value encountered in scalar add\n",
      "  total += subtotal\n"
     ]
    },
    {
     "name": "stdout",
     "output_type": "stream",
     "text": [
      "Overflow\n",
      "Running with seed=2, solver=DOP853, error=SQUARED: 0.24045574791907942, 'min': 67.99994337932834, 'max': 68.84202738972577}}}\n"
     ]
    },
    {
     "name": "stderr",
     "output_type": "stream",
     "text": [
      "C:\\Users\\anabi\\AppData\\Local\\Packages\\PythonSoftwareFoundation.Python.3.10_qbz5n2kfra8p0\\LocalCache\\local-packages\\Python310\\site-packages\\deap\\creator.py:185: RuntimeWarning: A class named 'FitnessMin' has already been created and it will be overwritten. Consider deleting previous creation of that class or rename it.\n",
      "  warnings.warn(\"A class named '{0}' has already been created and it \"\n",
      "C:\\Users\\anabi\\AppData\\Local\\Packages\\PythonSoftwareFoundation.Python.3.10_qbz5n2kfra8p0\\LocalCache\\local-packages\\Python310\\site-packages\\deap\\creator.py:185: RuntimeWarning: A class named 'Individual' has already been created and it will be overwritten. Consider deleting previous creation of that class or rename it.\n",
      "  warnings.warn(\"A class named '{0}' has already been created and it \"\n",
      "C:\\Users\\anabi\\AppData\\Local\\Packages\\PythonSoftwareFoundation.Python.3.10_qbz5n2kfra8p0\\LocalCache\\local-packages\\Python310\\site-packages\\scipy\\integrate\\_ivp\\common.py:39: UserWarning: The following arguments have no effect for a chosen solver: `min_step`.\n",
      "  warn(\"The following arguments have no effect for a chosen solver: {}.\"\n"
     ]
    },
    {
     "name": "stdout",
     "output_type": "stream",
     "text": [
      "Running with seed=2, solver=DOP853, error=MSE'std': 0.0012340579187370573, 'min': 4.580961856788108, 'max': 4.5850733283657705}}}\n"
     ]
    },
    {
     "name": "stderr",
     "output_type": "stream",
     "text": [
      "C:\\Users\\anabi\\AppData\\Local\\Packages\\PythonSoftwareFoundation.Python.3.10_qbz5n2kfra8p0\\LocalCache\\local-packages\\Python310\\site-packages\\deap\\creator.py:185: RuntimeWarning: A class named 'FitnessMin' has already been created and it will be overwritten. Consider deleting previous creation of that class or rename it.\n",
      "  warnings.warn(\"A class named '{0}' has already been created and it \"\n",
      "C:\\Users\\anabi\\AppData\\Local\\Packages\\PythonSoftwareFoundation.Python.3.10_qbz5n2kfra8p0\\LocalCache\\local-packages\\Python310\\site-packages\\deap\\creator.py:185: RuntimeWarning: A class named 'Individual' has already been created and it will be overwritten. Consider deleting previous creation of that class or rename it.\n",
      "  warnings.warn(\"A class named '{0}' has already been created and it \"\n",
      "C:\\Users\\anabi\\AppData\\Local\\Packages\\PythonSoftwareFoundation.Python.3.10_qbz5n2kfra8p0\\LocalCache\\local-packages\\Python310\\site-packages\\scipy\\integrate\\_ivp\\common.py:39: UserWarning: The following arguments have no effect for a chosen solver: `min_step`.\n",
      "  warn(\"The following arguments have no effect for a chosen solver: {}.\"\n"
     ]
    },
    {
     "name": "stdout",
     "output_type": "stream",
     "text": [
      "Running with seed=2, solver=DOP853, error=MABS'std': 9.421042413039933e-06, 'min': 0.22693630223372785, 'max': 0.22696777648026803}}\n"
     ]
    },
    {
     "name": "stderr",
     "output_type": "stream",
     "text": [
      "C:\\Users\\anabi\\AppData\\Local\\Packages\\PythonSoftwareFoundation.Python.3.10_qbz5n2kfra8p0\\LocalCache\\local-packages\\Python310\\site-packages\\deap\\creator.py:185: RuntimeWarning: A class named 'FitnessMin' has already been created and it will be overwritten. Consider deleting previous creation of that class or rename it.\n",
      "  warnings.warn(\"A class named '{0}' has already been created and it \"\n",
      "C:\\Users\\anabi\\AppData\\Local\\Packages\\PythonSoftwareFoundation.Python.3.10_qbz5n2kfra8p0\\LocalCache\\local-packages\\Python310\\site-packages\\deap\\creator.py:185: RuntimeWarning: A class named 'Individual' has already been created and it will be overwritten. Consider deleting previous creation of that class or rename it.\n",
      "  warnings.warn(\"A class named '{0}' has already been created and it \"\n",
      "C:\\Users\\anabi\\AppData\\Local\\Packages\\PythonSoftwareFoundation.Python.3.10_qbz5n2kfra8p0\\LocalCache\\local-packages\\Python310\\site-packages\\scipy\\integrate\\_ivp\\common.py:39: UserWarning: The following arguments have no effect for a chosen solver: `min_step`.\n",
      "  warn(\"The following arguments have no effect for a chosen solver: {}.\"\n"
     ]
    },
    {
     "name": "stdout",
     "output_type": "stream",
     "text": [
      "Running with seed=2, solver=LSODA, error=ABS, 'std': 0.0002771980173380075, 'min': 0.0987458007491516, 'max': 0.0996407920164242}04}\n",
      "Overflow\n"
     ]
    },
    {
     "name": "stderr",
     "output_type": "stream",
     "text": [
      "C:\\Users\\anabi\\AppData\\Local\\Packages\\PythonSoftwareFoundation.Python.3.10_qbz5n2kfra8p0\\LocalCache\\local-packages\\Python310\\site-packages\\deap\\creator.py:185: RuntimeWarning: A class named 'FitnessMin' has already been created and it will be overwritten. Consider deleting previous creation of that class or rename it.\n",
      "  warnings.warn(\"A class named '{0}' has already been created and it \"\n",
      "C:\\Users\\anabi\\AppData\\Local\\Packages\\PythonSoftwareFoundation.Python.3.10_qbz5n2kfra8p0\\LocalCache\\local-packages\\Python310\\site-packages\\deap\\creator.py:185: RuntimeWarning: A class named 'Individual' has already been created and it will be overwritten. Consider deleting previous creation of that class or rename it.\n",
      "  warnings.warn(\"A class named '{0}' has already been created and it \"\n",
      "C:\\Users\\anabi\\AppData\\Local\\Packages\\PythonSoftwareFoundation.Python.3.10_qbz5n2kfra8p0\\LocalCache\\local-packages\\Python310\\site-packages\\scipy\\integrate\\_ode.py:1348: UserWarning: lsoda: Repeated error test failures (internal error).\n",
      "  warnings.warn('{:s}: {:s}'.format(self.__class__.__name__,\n"
     ]
    },
    {
     "name": "stdout",
     "output_type": "stream",
     "text": [
      "Overflowon 20: {'avg': 298.0084712125538, 'std': 30.341532501647876, 'min': 252.2439318583827, 'max': 355.231650828316}7}}\n",
      "Overflowon 56: {'avg': 308.15787383241, 'std': 33.34646022702872, 'min': 251.02276026913745, 'max': 357.11564054210413}9}5}\n",
      "Overflowon 65: {'avg': 301.0218948151004, 'std': 37.23632277860681, 'min': 250.85930594317193, 'max': 359.6209538396699}7}\n",
      "Overflowon 133: {'avg': 271.6205266308617, 'std': 46.94002548637453, 'min': 218.8948491257302, 'max': 361.7122702980211}4}}}\n",
      "Overflowon 134: {'avg': 66922.53523798237, 'std': 249375.44465141426, 'min': 223.20032182327287, 'max': 1000000.0}\n",
      "Overflowon 160: {'avg': 303.48165353378505, 'std': 47.09813704419875, 'min': 225.79094326739198, 'max': 383.8067886019443}3}\n",
      "Overflowon 250: {'avg': 285.8097724863029, 'std': 43.42308946852127, 'min': 222.7653691733176, 'max': 360.71547900794366}}}}\n",
      "Overflowon 300: {'avg': 297.75983019697793, 'std': 46.88072560183803, 'min': 226.14533646274032, 'max': 368.4450553067287}}}\n",
      "Overflowon 301: {'avg': 66956.17825400077, 'std': 249366.45252580792, 'min': 255.0042048208661, 'max': 1000000.0}\n",
      "Overflowon 411: {'avg': 299.6624779010207, 'std': 40.23014442879809, 'min': 248.6976192309857, 'max': 384.35536262453275}}6}\n",
      "Overflowon 473: {'avg': 308.3153773210721, 'std': 34.33652180693305, 'min': 234.7211700289678, 'max': 374.71481661555276}6}}\n",
      "Overflowon 489: {'avg': 277.52602326560987, 'std': 38.46043124623766, 'min': 223.5893761685659, 'max': 334.9579504622397}}}\n",
      "Overflowon 635: {'avg': 297.2142261102355, 'std': 33.75202471490057, 'min': 223.83237604957156, 'max': 347.5039603717114}}}}\n",
      "Overflowon 690: {'avg': 294.23331653236306, 'std': 52.534965972742675, 'min': 228.0878846901885, 'max': 393.63212923228656}}\n",
      "Overflowon 696: {'avg': 288.80445616317616, 'std': 42.99694506802802, 'min': 228.47440940391462, 'max': 379.9005043413198}}\n",
      "Overflowon 698: {'avg': 286.91178434589136, 'std': 38.44027546114134, 'min': 219.35254226391237, 'max': 348.193822061579}\n",
      "Overflowon 806: {'avg': 290.9246860978227, 'std': 47.03798640725578, 'min': 214.0083018991785, 'max': 371.0085544790315}}}}}\n",
      "Overflowon 814: {'avg': 293.96260686857346, 'std': 44.080460727032154, 'min': 228.12240662198883, 'max': 357.50097530630006}\n",
      "Overflowon 999: {'avg': 280.82708924329546, 'std': 43.325171947448794, 'min': 228.3623158117654, 'max': 357.7998227835466}}}\n",
      "Overflowon 1049: {'avg': 294.1272169424071, 'std': 43.64930346850622, 'min': 229.7674495986431, 'max': 358.9728603193791}206}\n",
      "Overflowon 1124: {'avg': 267.65554518163196, 'std': 26.62539428327649, 'min': 224.7132523484217, 'max': 305.03769035096826}}}\n",
      "Overflow\n",
      "Overflowon 1176: {'avg': 291.77897746740877, 'std': 31.980068925437084, 'min': 228.6804289066642, 'max': 328.07073081474704}}\n",
      "Overflowon 1434: {'avg': 292.9325234662611, 'std': 41.909579343201194, 'min': 232.21318559210766, 'max': 357.88179307904505}}\n",
      "Overflowon 1490: {'avg': 286.64403950021483, 'std': 45.234960570416135, 'min': 222.95492981937596, 'max': 364.37594449621696}\n",
      "Overflowon 1494: {'avg': 281.7822093532247, 'std': 42.03842096818387, 'min': 232.85361472365378, 'max': 370.26018615991836}}\n",
      "Overflowon 1580: {'avg': 240.82607487418747, 'std': 16.622282034992065, 'min': 216.58241155873304, 'max': 267.85183567576547}\n",
      "Overflowon 2044: {'avg': 249.90657937194976, 'std': 23.50401642347024, 'min': 218.7982964690928, 'max': 312.19464569314806}}}\n",
      "Overflowon 2253: {'avg': 208.93036031109483, 'std': 2.08698266352864, 'min': 205.46591652994442, 'max': 212.34519057781947}4}\n",
      "Overflowon 2484: {'avg': 250.89943100460917, 'std': 34.0672036730813, 'min': 220.84118156653105, 'max': 341.58010641162764}}}\n",
      "Overflowon 2719: {'avg': 240.22315763426303, 'std': 30.67633284272251, 'min': 216.39993656794425, 'max': 337.5263510326722}}}\n",
      "Overflowon 3447: {'avg': 235.41238250396876, 'std': 16.26642295333783, 'min': 219.0223233359597, 'max': 276.53490422059076}4}\n",
      "Overflowon 3551: {'avg': 214.6226822607477, 'std': 6.911384911386809, 'min': 205.27262016095116, 'max': 227.34493890671956}}}\n",
      "Overflowon 3552: {'avg': 66869.82496826237, 'std': 249389.52952101573, 'min': 207.61892558562292, 'max': 1000000.0}\n",
      "Overflowon 3726: {'avg': 212.87785824721615, 'std': 7.740152194673543, 'min': 200.3145508247636, 'max': 226.37539771448604}}}\n",
      "Running with seed=2, solver=LSODA, error=SQUARED': 0.014519177073045232, 'min': 48.993114168010905, 'max': 49.040238281678405}}}\n",
      "Overflow\n"
     ]
    },
    {
     "name": "stderr",
     "output_type": "stream",
     "text": [
      "C:\\Users\\anabi\\AppData\\Local\\Packages\\PythonSoftwareFoundation.Python.3.10_qbz5n2kfra8p0\\LocalCache\\local-packages\\Python310\\site-packages\\deap\\creator.py:185: RuntimeWarning: A class named 'FitnessMin' has already been created and it will be overwritten. Consider deleting previous creation of that class or rename it.\n",
      "  warnings.warn(\"A class named '{0}' has already been created and it \"\n",
      "C:\\Users\\anabi\\AppData\\Local\\Packages\\PythonSoftwareFoundation.Python.3.10_qbz5n2kfra8p0\\LocalCache\\local-packages\\Python310\\site-packages\\deap\\creator.py:185: RuntimeWarning: A class named 'Individual' has already been created and it will be overwritten. Consider deleting previous creation of that class or rename it.\n",
      "  warnings.warn(\"A class named '{0}' has already been created and it \"\n",
      "C:\\Users\\anabi\\AppData\\Local\\Packages\\PythonSoftwareFoundation.Python.3.10_qbz5n2kfra8p0\\LocalCache\\local-packages\\Python310\\site-packages\\scipy\\integrate\\_ode.py:1348: UserWarning: lsoda: Repeated error test failures (internal error).\n",
      "  warnings.warn('{:s}: {:s}'.format(self.__class__.__name__,\n"
     ]
    },
    {
     "name": "stdout",
     "output_type": "stream",
     "text": [
      "Overflowon 149: {'avg': 17.053492519412124, 'std': 2.115455551179197, 'min': 13.96801365499354, 'max': 22.26818067485206}}}}\n",
      "Overflowon 422: {'avg': 16.779444131950175, 'std': 2.200630167008376, 'min': 13.355634988499142, 'max': 20.461627437179956}}}\n",
      "Overflowon 461: {'avg': 13.853688561855888, 'std': 0.9260267165488218, 'min': 12.89199596415666, 'max': 15.860385886497909}}\n",
      "Overflowon 3876: {'avg': 14.688802486131594, 'std': 1.9172698227413654, 'min': 12.074696544892694, 'max': 19.232671825994053}}}8}\n",
      "Running with seed=2, solver=LSODA, error=MSE 'std': 0.00659935669375661, 'min': 3.755832579246752, 'max': 3.780655836469166}6}}7}\n",
      "Overflow\n"
     ]
    },
    {
     "name": "stderr",
     "output_type": "stream",
     "text": [
      "C:\\Users\\anabi\\AppData\\Local\\Packages\\PythonSoftwareFoundation.Python.3.10_qbz5n2kfra8p0\\LocalCache\\local-packages\\Python310\\site-packages\\deap\\creator.py:185: RuntimeWarning: A class named 'FitnessMin' has already been created and it will be overwritten. Consider deleting previous creation of that class or rename it.\n",
      "  warnings.warn(\"A class named '{0}' has already been created and it \"\n",
      "C:\\Users\\anabi\\AppData\\Local\\Packages\\PythonSoftwareFoundation.Python.3.10_qbz5n2kfra8p0\\LocalCache\\local-packages\\Python310\\site-packages\\deap\\creator.py:185: RuntimeWarning: A class named 'Individual' has already been created and it will be overwritten. Consider deleting previous creation of that class or rename it.\n",
      "  warnings.warn(\"A class named '{0}' has already been created and it \"\n",
      "C:\\Users\\anabi\\AppData\\Local\\Packages\\PythonSoftwareFoundation.Python.3.10_qbz5n2kfra8p0\\LocalCache\\local-packages\\Python310\\site-packages\\scipy\\integrate\\_ode.py:1348: UserWarning: lsoda: Repeated error test failures (internal error).\n",
      "  warnings.warn('{:s}: {:s}'.format(self.__class__.__name__,\n"
     ]
    },
    {
     "name": "stdout",
     "output_type": "stream",
     "text": [
      "Overflowon 149: {'avg': 0.5905935185973199, 'std': 0.15147560972942126, 'min': 0.39021081093217197, 'max': 0.9917437411357095}17}\n",
      "Overflowon 422: {'avg': 0.5727850370183688, 'std': 0.14869707388130282, 'min': 0.356745971892045, 'max': 0.8373563947559111}2}}7}\n",
      "Overflowon 461: {'avg': 0.38556442449731787, 'std': 0.05270516805973253, 'min': 0.33240711987966315, 'max': 0.5031036809372442}}\n",
      "Overflowon 1634: {'avg': 0.5786172146741243, 'std': 0.1501103673874307, 'min': 0.37094511982151246, 'max': 0.9016435010089484}}}}}}}\n",
      "Overflowon 1760: {'avg': 0.33777907384563777, 'std': 0.01624103034888297, 'min': 0.31179156037068395, 'max': 0.3734143953260118}}}\n",
      "Overflowon 1905: {'avg': 0.5187338601396572, 'std': 0.09923161392700316, 'min': 0.3939135632197267, 'max': 0.6857052106213568}}}}\n",
      "Overflowon 2057: {'avg': 0.4033896084406163, 'std': 0.1000964970675517, 'min': 0.339738161639744, 'max': 0.7608291616961569}15}}}}\n",
      "Overflowon 2140: {'avg': 0.3615494718920437, 'std': 0.03830291050607039, 'min': 0.31659341779986067, 'max': 0.4496957806903839}65}\n",
      "Running with seed=2, solver=LSODA, error=MABS 'std': 0.00028356003430513206, 'min': 0.08767479821904606, 'max': 0.08880165699978126}\n",
      "Overflow\n"
     ]
    },
    {
     "name": "stderr",
     "output_type": "stream",
     "text": [
      "C:\\Users\\anabi\\AppData\\Local\\Packages\\PythonSoftwareFoundation.Python.3.10_qbz5n2kfra8p0\\LocalCache\\local-packages\\Python310\\site-packages\\deap\\creator.py:185: RuntimeWarning: A class named 'FitnessMin' has already been created and it will be overwritten. Consider deleting previous creation of that class or rename it.\n",
      "  warnings.warn(\"A class named '{0}' has already been created and it \"\n",
      "C:\\Users\\anabi\\AppData\\Local\\Packages\\PythonSoftwareFoundation.Python.3.10_qbz5n2kfra8p0\\LocalCache\\local-packages\\Python310\\site-packages\\deap\\creator.py:185: RuntimeWarning: A class named 'Individual' has already been created and it will be overwritten. Consider deleting previous creation of that class or rename it.\n",
      "  warnings.warn(\"A class named '{0}' has already been created and it \"\n",
      "C:\\Users\\anabi\\AppData\\Local\\Packages\\PythonSoftwareFoundation.Python.3.10_qbz5n2kfra8p0\\LocalCache\\local-packages\\Python310\\site-packages\\scipy\\integrate\\_ode.py:1348: UserWarning: lsoda: Repeated error test failures (internal error).\n",
      "  warnings.warn('{:s}: {:s}'.format(self.__class__.__name__,\n"
     ]
    },
    {
     "name": "stdout",
     "output_type": "stream",
     "text": [
      "Overflowon 20: {'avg': 0.5960169424251076, 'std': 0.06068306500329576, 'min': 0.5044878637167655, 'max': 0.710463301656632}3}\n",
      "Overflowon 56: {'avg': 0.6163157476648199, 'std': 0.06669292045405747, 'min': 0.5020455205382747, 'max': 0.7142312810842084}}}\n",
      "Overflowon 65: {'avg': 0.602043789630201, 'std': 0.07447264555721363, 'min': 0.5017186118863438, 'max': 0.7192419076793397}6}\n",
      "Overflowon 133: {'avg': 0.5432410532617236, 'std': 0.09388005097274907, 'min': 0.43778969825146047, 'max': 0.7234245405960421}}\n",
      "Overflowon 134: {'avg': 66667.1784038093, 'std': 249443.6890174356, 'min': 0.4464006436465458, 'max': 1000000.0}\n",
      "Overflowon 160: {'avg': 0.6069633070675701, 'std': 0.09419627408839759, 'min': 0.45158188653478404, 'max': 0.7676135772038889}\n",
      "Overflowon 250: {'avg': 0.5716195449726057, 'std': 0.08684617893704251, 'min': 0.4455307383466353, 'max': 0.7214309580158872}}}}\n",
      "Overflowon 300: {'avg': 0.5955196603939558, 'std': 0.09376145120367607, 'min': 0.4522906729254807, 'max': 0.7368901106134574}}}\n",
      "Overflowon 301: {'avg': 66667.24568984132, 'std': 249443.67103448455, 'min': 0.5100084096417321, 'max': 1000000.0}\n",
      "Overflowon 411: {'avg': 0.5993249558020413, 'std': 0.08046028885759614, 'min': 0.4973952384619713, 'max': 0.7687107252490653}}}\n",
      "Overflowon 473: {'avg': 0.6166307546421442, 'std': 0.06867304361386611, 'min': 0.4694423400579356, 'max': 0.7494296332311056}}}\n",
      "Overflowon 489: {'avg': 0.5550520465312196, 'std': 0.07692086249247528, 'min': 0.4471787523371319, 'max': 0.6699159009244793}}\n",
      "Overflowon 635: {'avg': 0.5944284522204709, 'std': 0.06750404942980115, 'min': 0.44766475209914314, 'max': 0.6950079207434225}}}\n",
      "Overflowon 690: {'avg': 0.5884666330647262, 'std': 0.10506993194548535, 'min': 0.456175769380377, 'max': 0.7872642584645733}1}}}\n",
      "Overflowon 696: {'avg': 0.5776089123263523, 'std': 0.085993890136056, 'min': 0.4569488188078293, 'max': 0.7598010086826393}1}}\n",
      "Overflowon 698: {'avg': 0.5738235686917826, 'std': 0.07688055092228264, 'min': 0.43870508452782486, 'max': 0.6963876441231579}\n",
      "Overflowon 806: {'avg': 0.5818493721956454, 'std': 0.09407597281451152, 'min': 0.42801660379835704, 'max': 0.742017108958063}7}}\n",
      "Overflowon 814: {'avg': 0.5879252137371468, 'std': 0.0881609214540643, 'min': 0.45624481324397775, 'max': 0.7150019506126001}}\n",
      "Overflowon 999: {'avg': 0.5616541784865908, 'std': 0.08665034389489763, 'min': 0.4567246316235307, 'max': 0.7155996455670931}}}}}\n",
      "Overflowon 1049: {'avg': 0.588254433884814, 'std': 0.08729860693701247, 'min': 0.45953489919728613, 'max': 0.7179457206387583}6}}\n",
      "Overflowon 1124: {'avg': 0.535311090363264, 'std': 0.05325078856655299, 'min': 0.4494265046968435, 'max': 0.6100753807019366}}}}7}\n",
      "Overflow\n",
      "Overflowon 1176: {'avg': 0.5835579549348177, 'std': 0.06396013785087414, 'min': 0.45736085781332847, 'max': 0.6561414616294938}7}\n",
      "Overflowon 1434: {'avg': 0.5858650469325223, 'std': 0.0838191586864024, 'min': 0.4644263711842153, 'max': 0.7157635861580902}2}}6}\n",
      "Overflowon 1490: {'avg': 0.5732880790004297, 'std': 0.09046992114083229, 'min': 0.44590985963875196, 'max': 0.7287518889924343}}\n",
      "Overflowon 1494: {'avg': 0.5635644187064492, 'std': 0.08407684193636769, 'min': 0.4657072294473077, 'max': 0.7405203723198366}}\n",
      "Overflowon 1580: {'avg': 0.4816521497483749, 'std': 0.03324456406998406, 'min': 0.4331648231174663, 'max': 0.5357036713515309}}}}}\n",
      "Overflowon 2044: {'avg': 0.4998131587438996, 'std': 0.047008032846940495, 'min': 0.4375965929381856, 'max': 0.6243892913862962}3}}\n",
      "Overflowon 2253: {'avg': 0.4178607206221897, 'std': 0.004173965327057316, 'min': 0.4109318330598889, 'max': 0.424690381155639}76}}\n",
      "Overflowon 2484: {'avg': 0.5017988620092183, 'std': 0.0681344073461626, 'min': 0.4416823631330619, 'max': 0.6831602128232552}7}2}}\n",
      "Overflowon 2719: {'avg': 0.48044631526852605, 'std': 0.06135266568544502, 'min': 0.43279987313588836, 'max': 0.6750527020653444}}}\n",
      "Overflowon 3447: {'avg': 0.47082476500793746, 'std': 0.03253284590667563, 'min': 0.4380446466719194, 'max': 0.5530698084411814}1}}}\n",
      "Overflowon 3551: {'avg': 0.42924536452149537, 'std': 0.013822769822773605, 'min': 0.41054524032190226, 'max': 0.45468987781343906}\n",
      "Overflowon 3552: {'avg': 66667.07298326987, 'std': 249443.71719224978, 'min': 0.4152378511712457, 'max': 1000000.0}\n",
      "Overflowon 3726: {'avg': 0.42575571649443233, 'std': 0.015480304389347083, 'min': 0.40062910164952725, 'max': 0.45275079542897195}\n",
      "Running with seed=3, solver=RK45, error=ABS, 'std': 7.004938815200818e-05, 'min': 0.09708120364110442, 'max': 0.09734017055496137}1}\n"
     ]
    },
    {
     "name": "stderr",
     "output_type": "stream",
     "text": [
      "C:\\Users\\anabi\\AppData\\Local\\Packages\\PythonSoftwareFoundation.Python.3.10_qbz5n2kfra8p0\\LocalCache\\local-packages\\Python310\\site-packages\\deap\\creator.py:185: RuntimeWarning: A class named 'FitnessMin' has already been created and it will be overwritten. Consider deleting previous creation of that class or rename it.\n",
      "  warnings.warn(\"A class named '{0}' has already been created and it \"\n",
      "C:\\Users\\anabi\\AppData\\Local\\Packages\\PythonSoftwareFoundation.Python.3.10_qbz5n2kfra8p0\\LocalCache\\local-packages\\Python310\\site-packages\\deap\\creator.py:185: RuntimeWarning: A class named 'Individual' has already been created and it will be overwritten. Consider deleting previous creation of that class or rename it.\n",
      "  warnings.warn(\"A class named '{0}' has already been created and it \"\n",
      "C:\\Users\\anabi\\AppData\\Local\\Packages\\PythonSoftwareFoundation.Python.3.10_qbz5n2kfra8p0\\LocalCache\\local-packages\\Python310\\site-packages\\scipy\\integrate\\_ivp\\common.py:39: UserWarning: The following arguments have no effect for a chosen solver: `min_step`.\n",
      "  warn(\"The following arguments have no effect for a chosen solver: {}.\"\n"
     ]
    },
    {
     "name": "stdout",
     "output_type": "stream",
     "text": [
      "Running with seed=3, solver=RK45, error=SQUAREDtd': 0.00011019014333023634, 'min': 52.13480663054188, 'max': 52.135144228649395}}\n"
     ]
    },
    {
     "name": "stderr",
     "output_type": "stream",
     "text": [
      "C:\\Users\\anabi\\AppData\\Local\\Packages\\PythonSoftwareFoundation.Python.3.10_qbz5n2kfra8p0\\LocalCache\\local-packages\\Python310\\site-packages\\deap\\creator.py:185: RuntimeWarning: A class named 'FitnessMin' has already been created and it will be overwritten. Consider deleting previous creation of that class or rename it.\n",
      "  warnings.warn(\"A class named '{0}' has already been created and it \"\n",
      "C:\\Users\\anabi\\AppData\\Local\\Packages\\PythonSoftwareFoundation.Python.3.10_qbz5n2kfra8p0\\LocalCache\\local-packages\\Python310\\site-packages\\deap\\creator.py:185: RuntimeWarning: A class named 'Individual' has already been created and it will be overwritten. Consider deleting previous creation of that class or rename it.\n",
      "  warnings.warn(\"A class named '{0}' has already been created and it \"\n",
      "C:\\Users\\anabi\\AppData\\Local\\Packages\\PythonSoftwareFoundation.Python.3.10_qbz5n2kfra8p0\\LocalCache\\local-packages\\Python310\\site-packages\\scipy\\integrate\\_ivp\\common.py:39: UserWarning: The following arguments have no effect for a chosen solver: `min_step`.\n",
      "  warn(\"The following arguments have no effect for a chosen solver: {}.\"\n"
     ]
    },
    {
     "name": "stdout",
     "output_type": "stream",
     "text": [
      "Running with seed=3, solver=RK45, error=MSE, 'std': 0.0012879816968800954, 'min': 11.19100174080945, 'max': 11.195769728181773}}}\n"
     ]
    },
    {
     "name": "stderr",
     "output_type": "stream",
     "text": [
      "C:\\Users\\anabi\\AppData\\Local\\Packages\\PythonSoftwareFoundation.Python.3.10_qbz5n2kfra8p0\\LocalCache\\local-packages\\Python310\\site-packages\\deap\\creator.py:185: RuntimeWarning: A class named 'FitnessMin' has already been created and it will be overwritten. Consider deleting previous creation of that class or rename it.\n",
      "  warnings.warn(\"A class named '{0}' has already been created and it \"\n",
      "C:\\Users\\anabi\\AppData\\Local\\Packages\\PythonSoftwareFoundation.Python.3.10_qbz5n2kfra8p0\\LocalCache\\local-packages\\Python310\\site-packages\\deap\\creator.py:185: RuntimeWarning: A class named 'Individual' has already been created and it will be overwritten. Consider deleting previous creation of that class or rename it.\n",
      "  warnings.warn(\"A class named '{0}' has already been created and it \"\n",
      "C:\\Users\\anabi\\AppData\\Local\\Packages\\PythonSoftwareFoundation.Python.3.10_qbz5n2kfra8p0\\LocalCache\\local-packages\\Python310\\site-packages\\scipy\\integrate\\_ivp\\common.py:39: UserWarning: The following arguments have no effect for a chosen solver: `min_step`.\n",
      "  warn(\"The following arguments have no effect for a chosen solver: {}.\"\n"
     ]
    },
    {
     "name": "stdout",
     "output_type": "stream",
     "text": [
      "Running with seed=3, solver=RK45, error=MABS, 'std': 0.00022231650680977431, 'min': 0.12952446945908838, 'max': 0.130344904558462}}}\n"
     ]
    },
    {
     "name": "stderr",
     "output_type": "stream",
     "text": [
      "C:\\Users\\anabi\\AppData\\Local\\Packages\\PythonSoftwareFoundation.Python.3.10_qbz5n2kfra8p0\\LocalCache\\local-packages\\Python310\\site-packages\\deap\\creator.py:185: RuntimeWarning: A class named 'FitnessMin' has already been created and it will be overwritten. Consider deleting previous creation of that class or rename it.\n",
      "  warnings.warn(\"A class named '{0}' has already been created and it \"\n",
      "C:\\Users\\anabi\\AppData\\Local\\Packages\\PythonSoftwareFoundation.Python.3.10_qbz5n2kfra8p0\\LocalCache\\local-packages\\Python310\\site-packages\\deap\\creator.py:185: RuntimeWarning: A class named 'Individual' has already been created and it will be overwritten. Consider deleting previous creation of that class or rename it.\n",
      "  warnings.warn(\"A class named '{0}' has already been created and it \"\n",
      "C:\\Users\\anabi\\AppData\\Local\\Packages\\PythonSoftwareFoundation.Python.3.10_qbz5n2kfra8p0\\LocalCache\\local-packages\\Python310\\site-packages\\scipy\\integrate\\_ivp\\common.py:39: UserWarning: The following arguments have no effect for a chosen solver: `min_step`.\n",
      "  warn(\"The following arguments have no effect for a chosen solver: {}.\"\n"
     ]
    },
    {
     "name": "stdout",
     "output_type": "stream",
     "text": [
      "Running with seed=3, solver=DOP853, error=ABS'std': 0.00033352394485046535, 'min': 0.3451560386524817, 'max': 0.3461984476044849}4}}\n"
     ]
    },
    {
     "name": "stderr",
     "output_type": "stream",
     "text": [
      "C:\\Users\\anabi\\AppData\\Local\\Packages\\PythonSoftwareFoundation.Python.3.10_qbz5n2kfra8p0\\LocalCache\\local-packages\\Python310\\site-packages\\deap\\creator.py:185: RuntimeWarning: A class named 'FitnessMin' has already been created and it will be overwritten. Consider deleting previous creation of that class or rename it.\n",
      "  warnings.warn(\"A class named '{0}' has already been created and it \"\n",
      "C:\\Users\\anabi\\AppData\\Local\\Packages\\PythonSoftwareFoundation.Python.3.10_qbz5n2kfra8p0\\LocalCache\\local-packages\\Python310\\site-packages\\deap\\creator.py:185: RuntimeWarning: A class named 'Individual' has already been created and it will be overwritten. Consider deleting previous creation of that class or rename it.\n",
      "  warnings.warn(\"A class named '{0}' has already been created and it \"\n",
      "C:\\Users\\anabi\\AppData\\Local\\Packages\\PythonSoftwareFoundation.Python.3.10_qbz5n2kfra8p0\\LocalCache\\local-packages\\Python310\\site-packages\\scipy\\integrate\\_ivp\\common.py:39: UserWarning: The following arguments have no effect for a chosen solver: `min_step`.\n",
      "  warn(\"The following arguments have no effect for a chosen solver: {}.\"\n"
     ]
    },
    {
     "name": "stdout",
     "output_type": "stream",
     "text": [
      "Running with seed=3, solver=DOP853, error=SQUARED: 0.02406277510613896, 'min': 51.20403682746683, 'max': 51.29861550092575}}8}}}\n"
     ]
    },
    {
     "name": "stderr",
     "output_type": "stream",
     "text": [
      "C:\\Users\\anabi\\AppData\\Local\\Packages\\PythonSoftwareFoundation.Python.3.10_qbz5n2kfra8p0\\LocalCache\\local-packages\\Python310\\site-packages\\deap\\creator.py:185: RuntimeWarning: A class named 'FitnessMin' has already been created and it will be overwritten. Consider deleting previous creation of that class or rename it.\n",
      "  warnings.warn(\"A class named '{0}' has already been created and it \"\n",
      "C:\\Users\\anabi\\AppData\\Local\\Packages\\PythonSoftwareFoundation.Python.3.10_qbz5n2kfra8p0\\LocalCache\\local-packages\\Python310\\site-packages\\deap\\creator.py:185: RuntimeWarning: A class named 'Individual' has already been created and it will be overwritten. Consider deleting previous creation of that class or rename it.\n",
      "  warnings.warn(\"A class named '{0}' has already been created and it \"\n",
      "C:\\Users\\anabi\\AppData\\Local\\Packages\\PythonSoftwareFoundation.Python.3.10_qbz5n2kfra8p0\\LocalCache\\local-packages\\Python310\\site-packages\\scipy\\integrate\\_ivp\\common.py:39: UserWarning: The following arguments have no effect for a chosen solver: `min_step`.\n",
      "  warn(\"The following arguments have no effect for a chosen solver: {}.\"\n"
     ]
    },
    {
     "name": "stdout",
     "output_type": "stream",
     "text": [
      "Running with seed=3, solver=DOP853, error=MSEstd': 0.001229667185274351, 'min': 8.51318022350369, 'max': 8.517634484648474}6}}}}\n"
     ]
    },
    {
     "name": "stderr",
     "output_type": "stream",
     "text": [
      "C:\\Users\\anabi\\AppData\\Local\\Packages\\PythonSoftwareFoundation.Python.3.10_qbz5n2kfra8p0\\LocalCache\\local-packages\\Python310\\site-packages\\deap\\creator.py:185: RuntimeWarning: A class named 'FitnessMin' has already been created and it will be overwritten. Consider deleting previous creation of that class or rename it.\n",
      "  warnings.warn(\"A class named '{0}' has already been created and it \"\n",
      "C:\\Users\\anabi\\AppData\\Local\\Packages\\PythonSoftwareFoundation.Python.3.10_qbz5n2kfra8p0\\LocalCache\\local-packages\\Python310\\site-packages\\deap\\creator.py:185: RuntimeWarning: A class named 'Individual' has already been created and it will be overwritten. Consider deleting previous creation of that class or rename it.\n",
      "  warnings.warn(\"A class named '{0}' has already been created and it \"\n",
      "C:\\Users\\anabi\\AppData\\Local\\Packages\\PythonSoftwareFoundation.Python.3.10_qbz5n2kfra8p0\\LocalCache\\local-packages\\Python310\\site-packages\\scipy\\integrate\\_ivp\\common.py:39: UserWarning: The following arguments have no effect for a chosen solver: `min_step`.\n",
      "  warn(\"The following arguments have no effect for a chosen solver: {}.\"\n"
     ]
    },
    {
     "name": "stdout",
     "output_type": "stream",
     "text": [
      "Running with seed=3, solver=DOP853, error=MABS'std': 4.683528681375483e-05, 'min': 0.23920955446293563, 'max': 0.23933077338825315}}\n"
     ]
    },
    {
     "name": "stderr",
     "output_type": "stream",
     "text": [
      "C:\\Users\\anabi\\AppData\\Local\\Packages\\PythonSoftwareFoundation.Python.3.10_qbz5n2kfra8p0\\LocalCache\\local-packages\\Python310\\site-packages\\deap\\creator.py:185: RuntimeWarning: A class named 'FitnessMin' has already been created and it will be overwritten. Consider deleting previous creation of that class or rename it.\n",
      "  warnings.warn(\"A class named '{0}' has already been created and it \"\n",
      "C:\\Users\\anabi\\AppData\\Local\\Packages\\PythonSoftwareFoundation.Python.3.10_qbz5n2kfra8p0\\LocalCache\\local-packages\\Python310\\site-packages\\deap\\creator.py:185: RuntimeWarning: A class named 'Individual' has already been created and it will be overwritten. Consider deleting previous creation of that class or rename it.\n",
      "  warnings.warn(\"A class named '{0}' has already been created and it \"\n",
      "C:\\Users\\anabi\\AppData\\Local\\Packages\\PythonSoftwareFoundation.Python.3.10_qbz5n2kfra8p0\\LocalCache\\local-packages\\Python310\\site-packages\\scipy\\integrate\\_ivp\\common.py:39: UserWarning: The following arguments have no effect for a chosen solver: `min_step`.\n",
      "  warn(\"The following arguments have no effect for a chosen solver: {}.\"\n"
     ]
    },
    {
     "name": "stdout",
     "output_type": "stream",
     "text": [
      "Running with seed=3, solver=LSODA, error=ABS, 'std': 7.099584098061534e-05, 'min': 0.09822422117303788, 'max': 0.09853360471362331}}\n"
     ]
    },
    {
     "name": "stderr",
     "output_type": "stream",
     "text": [
      "C:\\Users\\anabi\\AppData\\Local\\Packages\\PythonSoftwareFoundation.Python.3.10_qbz5n2kfra8p0\\LocalCache\\local-packages\\Python310\\site-packages\\deap\\creator.py:185: RuntimeWarning: A class named 'FitnessMin' has already been created and it will be overwritten. Consider deleting previous creation of that class or rename it.\n",
      "  warnings.warn(\"A class named '{0}' has already been created and it \"\n",
      "C:\\Users\\anabi\\AppData\\Local\\Packages\\PythonSoftwareFoundation.Python.3.10_qbz5n2kfra8p0\\LocalCache\\local-packages\\Python310\\site-packages\\deap\\creator.py:185: RuntimeWarning: A class named 'Individual' has already been created and it will be overwritten. Consider deleting previous creation of that class or rename it.\n",
      "  warnings.warn(\"A class named '{0}' has already been created and it \"\n"
     ]
    },
    {
     "name": "stdout",
     "output_type": "stream",
     "text": [
      "Overflowon 1: {'avg': 314.9027435104852, 'std': 26.42557581157865, 'min': 277.9231525440364, 'max': 360.05912234169836}\n"
     ]
    },
    {
     "name": "stderr",
     "output_type": "stream",
     "text": [
      "C:\\Users\\anabi\\AppData\\Local\\Packages\\PythonSoftwareFoundation.Python.3.10_qbz5n2kfra8p0\\LocalCache\\local-packages\\Python310\\site-packages\\scipy\\integrate\\_ode.py:1348: UserWarning: lsoda: Repeated error test failures (internal error).\n",
      "  warnings.warn('{:s}: {:s}'.format(self.__class__.__name__,\n"
     ]
    },
    {
     "name": "stdout",
     "output_type": "stream",
     "text": [
      "Overflowon 107: {'avg': 270.5262532747092, 'std': 46.88074460773078, 'min': 223.40123358161617, 'max': 373.55407298596145}}\n",
      "Overflowon 213: {'avg': 283.50810148785797, 'std': 42.38408910083588, 'min': 218.63701984479715, 'max': 357.4027747631291}}}\n",
      "Overflowon 217: {'avg': 285.3845790212534, 'std': 34.3601761321871, 'min': 228.50412204790223, 'max': 348.90515498737557}4}\n",
      "Overflowon 242: {'avg': 257.3150665801259, 'std': 30.504043287940192, 'min': 222.2278704036667, 'max': 315.573319059143}77}\n",
      "Overflowon 284: {'avg': 279.98112553122684, 'std': 46.40881347796113, 'min': 213.67429232156215, 'max': 378.2862289249603}}}\n",
      "Overflowon 485: {'avg': 274.57107547003494, 'std': 44.06568028796444, 'min': 232.10738996285278, 'max': 351.4985088805479}}}\n",
      "Overflowon 722: {'avg': 271.92442809287263, 'std': 51.573623692171616, 'min': 219.89723204839225, 'max': 373.79517412376447}\n",
      "Overflowon 773: {'avg': 279.30882302717157, 'std': 37.49690415664896, 'min': 224.2179191690256, 'max': 339.942707182707}}5}}\n",
      "Overflowon 828: {'avg': 301.7300634256742, 'std': 33.731505162906636, 'min': 235.85590078698831, 'max': 366.1992018165288}}}\n",
      "Overflowon 835: {'avg': 289.24877166139885, 'std': 41.64973210907449, 'min': 232.0833790226514, 'max': 356.49360838043754}}\n",
      "Overflowon 901: {'avg': 259.7670808323968, 'std': 39.77765444778264, 'min': 222.32443292071707, 'max': 365.68579242096774}}}\n",
      "Overflowon 904: {'avg': 275.32116304027625, 'std': 31.18915056081045, 'min': 229.21222418504092, 'max': 341.53654045334633}\n",
      "Overflowon 960: {'avg': 302.2703693108628, 'std': 34.788548867064755, 'min': 231.79331100966493, 'max': 372.045360799524}14}\n",
      "Overflowon 1142: {'avg': 275.6908343040575, 'std': 40.73483339155376, 'min': 226.99588953100053, 'max': 398.4205622252402}}}}\n",
      "Overflowon 1196: {'avg': 292.94637911058237, 'std': 29.66930708113696, 'min': 244.81826223325064, 'max': 336.87893915983847}}\n",
      "Overflowon 1211: {'avg': 257.3745854104112, 'std': 49.52586499281265, 'min': 214.24650041600637, 'max': 383.72622006653177}}\n",
      "Overflowon 1515: {'avg': 263.7271152932563, 'std': 47.05279648607235, 'min': 195.87250000000003, 'max': 379.9374284809305}}}}\n",
      "Overflowon 1521: {'avg': 260.53866772081926, 'std': 35.455593076219714, 'min': 224.24697629676362, 'max': 335.8560413199162}\n",
      "Overflowon 1572: {'avg': 260.0906037793451, 'std': 37.31409604111417, 'min': 195.87250000000006, 'max': 354.2472743843992}}8}\n",
      "Overflowon 1579: {'avg': 294.40967550913746, 'std': 51.6330497817972, 'min': 223.80801592208454, 'max': 372.9960831092396}14}\n",
      "Overflowon 1712: {'avg': 256.51046438339716, 'std': 29.59459416720823, 'min': 221.01916997906318, 'max': 333.61879033417216}}\n",
      "Overflowon 1753: {'avg': 229.0348593923407, 'std': 14.83011808643142, 'min': 211.81733321083306, 'max': 280.35438516560345}}}\n",
      "Overflowon 1843: {'avg': 272.0957897322729, 'std': 38.573791220546966, 'min': 224.36166888680174, 'max': 358.8790485418208}}}\n",
      "Overflowon 1918: {'avg': 273.5073188078459, 'std': 47.32539839560555, 'min': 222.65326934639108, 'max': 365.14843828144143}}}\n",
      "Overflowon 2168: {'avg': 249.04165319450118, 'std': 30.16361609238841, 'min': 221.9251731696296, 'max': 344.2283041638352}73}\n",
      "Overflowon 3097: {'avg': 231.91786926374067, 'std': 22.508683656712975, 'min': 208.8654217089866, 'max': 282.658587335085}44}\n",
      "Overflowon 4875: {'avg': 271.55003743492176, 'std': 42.37267860075253, 'min': 198.8742483678834, 'max': 343.71798860238687}}}}}\n",
      "Running with seed=3, solver=LSODA, error=SQUARED': 0.1662996622481104, 'min': 172.74375369141228, 'max': 173.31343407411848}}}}\n"
     ]
    },
    {
     "name": "stderr",
     "output_type": "stream",
     "text": [
      "C:\\Users\\anabi\\AppData\\Local\\Packages\\PythonSoftwareFoundation.Python.3.10_qbz5n2kfra8p0\\LocalCache\\local-packages\\Python310\\site-packages\\deap\\creator.py:185: RuntimeWarning: A class named 'FitnessMin' has already been created and it will be overwritten. Consider deleting previous creation of that class or rename it.\n",
      "  warnings.warn(\"A class named '{0}' has already been created and it \"\n",
      "C:\\Users\\anabi\\AppData\\Local\\Packages\\PythonSoftwareFoundation.Python.3.10_qbz5n2kfra8p0\\LocalCache\\local-packages\\Python310\\site-packages\\deap\\creator.py:185: RuntimeWarning: A class named 'Individual' has already been created and it will be overwritten. Consider deleting previous creation of that class or rename it.\n",
      "  warnings.warn(\"A class named '{0}' has already been created and it \"\n"
     ]
    },
    {
     "name": "stdout",
     "output_type": "stream",
     "text": [
      "Generation 4: {'avg': 18.294032755962252, 'std': 2.1524918699597655, 'min': 14.329839283600663, 'max': 21.163729980026147}\r"
     ]
    },
    {
     "name": "stderr",
     "output_type": "stream",
     "text": [
      "C:\\Users\\anabi\\AppData\\Local\\Packages\\PythonSoftwareFoundation.Python.3.10_qbz5n2kfra8p0\\LocalCache\\local-packages\\Python310\\site-packages\\scipy\\integrate\\_ode.py:1348: UserWarning: lsoda: Repeated error test failures (internal error).\n",
      "  warnings.warn('{:s}: {:s}'.format(self.__class__.__name__,\n"
     ]
    },
    {
     "name": "stdout",
     "output_type": "stream",
     "text": [
      "Overflow\n",
      "Overflowon 61: {'avg': 13.48387380088453, 'std': 0.7551929590588651, 'min': 12.803383021533978, 'max': 15.168686609858678}}\n",
      "Overflowon 117: {'avg': 14.998222980839424, 'std': 1.753924395322437, 'min': 13.062660897366143, 'max': 18.80295053508397}5}}\n",
      "Overflowon 923: {'avg': 15.544149432719795, 'std': 2.367474400075295, 'min': 13.076706753813982, 'max': 21.519090930013334}}}}\n",
      "Overflowon 1169: {'avg': 14.863794794156291, 'std': 1.3848565244010604, 'min': 13.15400466973937, 'max': 17.8735457453271}4}}}\n",
      "Overflowon 2102: {'avg': 14.62657935184067, 'std': 1.9633592650784724, 'min': 13.094815519589847, 'max': 21.06472916344059}}}}}\n",
      "Overflowon 2173: {'avg': 14.324392381560411, 'std': 1.6032168039941324, 'min': 12.647294393046918, 'max': 19.164315257781293}}\n",
      "Overflowon 2320: {'avg': 13.707660337013222, 'std': 0.6511281487370151, 'min': 12.639644973795253, 'max': 14.898131226215419}}\n",
      "Overflowon 2542: {'avg': 13.519694395053836, 'std': 0.7507644022868134, 'min': 12.51342386179705, 'max': 15.358369252715875}}}\n",
      "Running with seed=3, solver=LSODA, error=MSE 'std': 8.269607639457758e-05, 'min': 11.099412562704215, 'max': 11.099735246257957}}\n"
     ]
    },
    {
     "name": "stderr",
     "output_type": "stream",
     "text": [
      "C:\\Users\\anabi\\AppData\\Local\\Packages\\PythonSoftwareFoundation.Python.3.10_qbz5n2kfra8p0\\LocalCache\\local-packages\\Python310\\site-packages\\deap\\creator.py:185: RuntimeWarning: A class named 'FitnessMin' has already been created and it will be overwritten. Consider deleting previous creation of that class or rename it.\n",
      "  warnings.warn(\"A class named '{0}' has already been created and it \"\n",
      "C:\\Users\\anabi\\AppData\\Local\\Packages\\PythonSoftwareFoundation.Python.3.10_qbz5n2kfra8p0\\LocalCache\\local-packages\\Python310\\site-packages\\deap\\creator.py:185: RuntimeWarning: A class named 'Individual' has already been created and it will be overwritten. Consider deleting previous creation of that class or rename it.\n",
      "  warnings.warn(\"A class named '{0}' has already been created and it \"\n"
     ]
    },
    {
     "name": "stdout",
     "output_type": "stream",
     "text": [
      "Generation 4: {'avg': 0.6786097114529255, 'std': 0.15587935800638322, 'min': 0.41068858778764944, 'max': 0.895806933334915}}\r"
     ]
    },
    {
     "name": "stderr",
     "output_type": "stream",
     "text": [
      "C:\\Users\\anabi\\AppData\\Local\\Packages\\PythonSoftwareFoundation.Python.3.10_qbz5n2kfra8p0\\LocalCache\\local-packages\\Python310\\site-packages\\scipy\\integrate\\_ode.py:1348: UserWarning: lsoda: Repeated error test failures (internal error).\n",
      "  warnings.warn('{:s}: {:s}'.format(self.__class__.__name__,\n"
     ]
    },
    {
     "name": "stdout",
     "output_type": "stream",
     "text": [
      "Overflow\n",
      "Overflowon 61: {'avg': 0.3647703381671844, 'std': 0.042103041249883656, 'min': 0.3278532335922091, 'max': 0.460178106936212}}}\n",
      "Overflowon 117: {'avg': 0.45604588673497415, 'std': 0.11218272750921138, 'min': 0.3412662194391569, 'max': 0.7071018976496294}85}\n",
      "Overflowon 923: {'avg': 0.49445103324347, 'std': 0.1598348735411928, 'min': 0.34200051905048845, 'max': 0.9261425489083643}}7}5}}\n",
      "Overflowon 1169: {'avg': 0.4457004465519276, 'std': 0.0846586804366447, 'min': 0.3460556777030504, 'max': 0.6389272750206008}27}}}\n",
      "Overflowon 2102: {'avg': 0.4355832062789227, 'std': 0.13284424897889904, 'min': 0.34294838698418223, 'max': 0.8874456294582087}}}}}\n",
      "Overflowon 2173: {'avg': 0.4155170424430301, 'std': 0.10094976648951887, 'min': 0.31990811092879184, 'max': 0.7345419585992574}}}}\n",
      "Overflowon 2320: {'avg': 0.37664783956200615, 'std': 0.03582626733779187, 'min': 0.3195212501271751, 'max': 0.4439086280670698}4}}}\n",
      "Overflowon 2542: {'avg': 0.3666915674467824, 'std': 0.04187025761324827, 'min': 0.3131715534899836, 'max': 0.4717590122055368}33}}\n",
      "Overflowon 3423: {'avg': 0.27379502132553885, 'std': 0.007531241848353912, 'min': 0.26756478850521087, 'max': 0.2967936848524604}}}}\n",
      "Overflowon 3597: {'avg': 0.4223738134870195, 'std': 0.11729672026655735, 'min': 0.3123957535565977, 'max': 0.6893956794847782}6}8}}\n",
      "Overflowon 3600: {'avg': 0.3659010721924682, 'std': 0.04528140866504875, 'min': 0.3104410259983524, 'max': 0.4783647074878543}6}\n",
      "Overflowon 3607: {'avg': 0.3344450899321566, 'std': 0.016816179251660318, 'min': 0.30964185922753207, 'max': 0.3745236942536555}}\n",
      "Overflowon 3973: {'avg': 0.31810630063273143, 'std': 0.028808648944239644, 'min': 0.2919754247586146, 'max': 0.3864521788766769}}}}\n",
      "Overflowon 5228: {'avg': 0.31913888999874446, 'std': 0.023632722424863355, 'min': 0.279415884922136, 'max': 0.36547979094774663}}}}\n",
      "Running with seed=3, solver=LSODA, error=MABS 'std': 0.0002058478057652492, 'min': 0.04792389942357787, 'max': 0.04863806761357882}4}}}\n"
     ]
    },
    {
     "name": "stderr",
     "output_type": "stream",
     "text": [
      "C:\\Users\\anabi\\AppData\\Local\\Packages\\PythonSoftwareFoundation.Python.3.10_qbz5n2kfra8p0\\LocalCache\\local-packages\\Python310\\site-packages\\deap\\creator.py:185: RuntimeWarning: A class named 'FitnessMin' has already been created and it will be overwritten. Consider deleting previous creation of that class or rename it.\n",
      "  warnings.warn(\"A class named '{0}' has already been created and it \"\n",
      "C:\\Users\\anabi\\AppData\\Local\\Packages\\PythonSoftwareFoundation.Python.3.10_qbz5n2kfra8p0\\LocalCache\\local-packages\\Python310\\site-packages\\deap\\creator.py:185: RuntimeWarning: A class named 'Individual' has already been created and it will be overwritten. Consider deleting previous creation of that class or rename it.\n",
      "  warnings.warn(\"A class named '{0}' has already been created and it \"\n"
     ]
    },
    {
     "name": "stdout",
     "output_type": "stream",
     "text": [
      "Overflowon 1: {'avg': 0.6298054870209703, 'std': 0.05285115162315733, 'min': 0.5558463050880729, 'max': 0.720118244683397}\n"
     ]
    },
    {
     "name": "stderr",
     "output_type": "stream",
     "text": [
      "C:\\Users\\anabi\\AppData\\Local\\Packages\\PythonSoftwareFoundation.Python.3.10_qbz5n2kfra8p0\\LocalCache\\local-packages\\Python310\\site-packages\\scipy\\integrate\\_ode.py:1348: UserWarning: lsoda: Repeated error test failures (internal error).\n",
      "  warnings.warn('{:s}: {:s}'.format(self.__class__.__name__,\n"
     ]
    },
    {
     "name": "stdout",
     "output_type": "stream",
     "text": [
      "Overflowon 107: {'avg': 0.5410525065494184, 'std': 0.0937614892154616, 'min': 0.4468024671632323, 'max': 0.747108145971923}49}}\n",
      "Overflowon 213: {'avg': 0.5670162029757159, 'std': 0.08476817820167172, 'min': 0.43727403968959433, 'max': 0.7148055495262581}}\n",
      "Overflowon 217: {'avg': 0.5707691580425067, 'std': 0.06872035226437416, 'min': 0.45700824409580465, 'max': 0.6978103099747512}\n",
      "Overflowon 242: {'avg': 0.5146301331602517, 'std': 0.061008086575880416, 'min': 0.4444557408073333, 'max': 0.6311466381182859}\n",
      "Overflowon 284: {'avg': 0.5599622510624537, 'std': 0.09281762695592223, 'min': 0.4273485846431242, 'max': 0.7565724578499206}}}\n",
      "Overflowon 485: {'avg': 0.5491421509400699, 'std': 0.08813136057592887, 'min': 0.46421477992570565, 'max': 0.7029970177610958}}\n",
      "Overflowon 722: {'avg': 0.5438488561857452, 'std': 0.10314724738434322, 'min': 0.43979446409678463, 'max': 0.7475903482475287}}}\n",
      "Overflowon 773: {'avg': 0.5586176460543429, 'std': 0.07499380831329791, 'min': 0.44843583833805123, 'max': 0.679885414365414}}}}\n",
      "Overflowon 828: {'avg': 0.6034601268513484, 'std': 0.06746301032581331, 'min': 0.4717118015739766, 'max': 0.7323984036330575}}1}\n",
      "Overflowon 835: {'avg': 0.5784975433227978, 'std': 0.08329946421814904, 'min': 0.46416675804530283, 'max': 0.7129872167608751}\n",
      "Overflowon 901: {'avg': 0.5195341616647937, 'std': 0.07955530889556525, 'min': 0.44464886584143415, 'max': 0.7313715848419353}}}\n",
      "Overflowon 904: {'avg': 0.5506423260805523, 'std': 0.06237830112162085, 'min': 0.4584244483700818, 'max': 0.6830730809066924}\n",
      "Overflowon 960: {'avg': 0.6045407386217256, 'std': 0.0695770977341295, 'min': 0.46358662201933, 'max': 0.744090721599048}301}}8}\n",
      "Overflowon 1142: {'avg': 0.551381668608115, 'std': 0.08146966678310755, 'min': 0.4539917790620009, 'max': 0.7968411244504804}}}}}\n",
      "Overflowon 1196: {'avg': 0.5858927582211646, 'std': 0.05933861416227394, 'min': 0.48963652446650135, 'max': 0.673757878319677}}7}}\n",
      "Overflowon 1211: {'avg': 0.5147491708208225, 'std': 0.09905172998562528, 'min': 0.42849300083201286, 'max': 0.7674524401330635}}\n",
      "Overflowon 1515: {'avg': 0.5274542305865126, 'std': 0.0941055929721447, 'min': 0.391745, 'max': 0.759874856961861}525432365668}}4}\n",
      "Overflowon 1521: {'avg': 0.5210773354416384, 'std': 0.0709111861524394, 'min': 0.44849395259352715, 'max': 0.6717120826398323}\n",
      "Overflowon 1572: {'avg': 0.5201812075586902, 'std': 0.07462819208222832, 'min': 0.391745, 'max': 0.7084945487687982}570936374}45}\n",
      "Overflowon 1579: {'avg': 0.5888193510182751, 'std': 0.10326609956359442, 'min': 0.4476160318441692, 'max': 0.7459921662184793}}\n",
      "Overflowon 1712: {'avg': 0.5130209287667944, 'std': 0.05918918833441641, 'min': 0.4420383399581264, 'max': 0.6672375806683442}}}4}\n",
      "Overflowon 1753: {'avg': 0.4580697187846814, 'std': 0.029660236172862887, 'min': 0.423634666421666, 'max': 0.560708770331207}7}}}\n",
      "Overflowon 1843: {'avg': 0.5441915794645458, 'std': 0.07714758244109395, 'min': 0.44872333777360335, 'max': 0.7177580970836416}4}}\n",
      "Overflowon 1918: {'avg': 0.5470146376156918, 'std': 0.0946507967912111, 'min': 0.44530653869278214, 'max': 0.7302968765628828}}9}\n",
      "Overflowon 2168: {'avg': 0.49808330638900233, 'std': 0.06032723218477678, 'min': 0.44385034633925924, 'max': 0.6884566083276703}}}\n",
      "Overflowon 3097: {'avg': 0.4638357385274814, 'std': 0.04501736731342595, 'min': 0.41773084341797323, 'max': 0.5653171746701701}33}\n",
      "Overflowon 4339: {'avg': 0.449101172498387, 'std': 0.08212007609047679, 'min': 0.26574997274121215, 'max': 0.5890833701886723}}02}}}\n",
      "Running with seed=4, solver=RK45, error=ABS, 'std': 1.1341183028281582e-05, 'min': 0.09987430152387307, 'max': 0.09991118089047459}}\n"
     ]
    },
    {
     "name": "stderr",
     "output_type": "stream",
     "text": [
      "C:\\Users\\anabi\\AppData\\Local\\Packages\\PythonSoftwareFoundation.Python.3.10_qbz5n2kfra8p0\\LocalCache\\local-packages\\Python310\\site-packages\\deap\\creator.py:185: RuntimeWarning: A class named 'FitnessMin' has already been created and it will be overwritten. Consider deleting previous creation of that class or rename it.\n",
      "  warnings.warn(\"A class named '{0}' has already been created and it \"\n",
      "C:\\Users\\anabi\\AppData\\Local\\Packages\\PythonSoftwareFoundation.Python.3.10_qbz5n2kfra8p0\\LocalCache\\local-packages\\Python310\\site-packages\\deap\\creator.py:185: RuntimeWarning: A class named 'Individual' has already been created and it will be overwritten. Consider deleting previous creation of that class or rename it.\n",
      "  warnings.warn(\"A class named '{0}' has already been created and it \"\n",
      "C:\\Users\\anabi\\AppData\\Local\\Packages\\PythonSoftwareFoundation.Python.3.10_qbz5n2kfra8p0\\LocalCache\\local-packages\\Python310\\site-packages\\scipy\\integrate\\_ivp\\common.py:39: UserWarning: The following arguments have no effect for a chosen solver: `min_step`.\n",
      "  warn(\"The following arguments have no effect for a chosen solver: {}.\"\n"
     ]
    },
    {
     "name": "stdout",
     "output_type": "stream",
     "text": [
      "Running with seed=4, solver=RK45, error=SQUAREDtd': 0.009251334405448498, 'min': 57.49948663727338, 'max': 57.521080616435604}}}}\n"
     ]
    },
    {
     "name": "stderr",
     "output_type": "stream",
     "text": [
      "C:\\Users\\anabi\\AppData\\Local\\Packages\\PythonSoftwareFoundation.Python.3.10_qbz5n2kfra8p0\\LocalCache\\local-packages\\Python310\\site-packages\\deap\\creator.py:185: RuntimeWarning: A class named 'FitnessMin' has already been created and it will be overwritten. Consider deleting previous creation of that class or rename it.\n",
      "  warnings.warn(\"A class named '{0}' has already been created and it \"\n",
      "C:\\Users\\anabi\\AppData\\Local\\Packages\\PythonSoftwareFoundation.Python.3.10_qbz5n2kfra8p0\\LocalCache\\local-packages\\Python310\\site-packages\\deap\\creator.py:185: RuntimeWarning: A class named 'Individual' has already been created and it will be overwritten. Consider deleting previous creation of that class or rename it.\n",
      "  warnings.warn(\"A class named '{0}' has already been created and it \"\n",
      "C:\\Users\\anabi\\AppData\\Local\\Packages\\PythonSoftwareFoundation.Python.3.10_qbz5n2kfra8p0\\LocalCache\\local-packages\\Python310\\site-packages\\scipy\\integrate\\_ivp\\common.py:39: UserWarning: The following arguments have no effect for a chosen solver: `min_step`.\n",
      "  warn(\"The following arguments have no effect for a chosen solver: {}.\"\n"
     ]
    },
    {
     "name": "stdout",
     "output_type": "stream",
     "text": [
      "Running with seed=4, solver=RK45, error=MSE, 'std': 0.0005424736692585673, 'min': 3.7352062269705986, 'max': 3.736478601902361}}}\n"
     ]
    },
    {
     "name": "stderr",
     "output_type": "stream",
     "text": [
      "C:\\Users\\anabi\\AppData\\Local\\Packages\\PythonSoftwareFoundation.Python.3.10_qbz5n2kfra8p0\\LocalCache\\local-packages\\Python310\\site-packages\\deap\\creator.py:185: RuntimeWarning: A class named 'FitnessMin' has already been created and it will be overwritten. Consider deleting previous creation of that class or rename it.\n",
      "  warnings.warn(\"A class named '{0}' has already been created and it \"\n",
      "C:\\Users\\anabi\\AppData\\Local\\Packages\\PythonSoftwareFoundation.Python.3.10_qbz5n2kfra8p0\\LocalCache\\local-packages\\Python310\\site-packages\\deap\\creator.py:185: RuntimeWarning: A class named 'Individual' has already been created and it will be overwritten. Consider deleting previous creation of that class or rename it.\n",
      "  warnings.warn(\"A class named '{0}' has already been created and it \"\n",
      "C:\\Users\\anabi\\AppData\\Local\\Packages\\PythonSoftwareFoundation.Python.3.10_qbz5n2kfra8p0\\LocalCache\\local-packages\\Python310\\site-packages\\scipy\\integrate\\_ivp\\common.py:39: UserWarning: The following arguments have no effect for a chosen solver: `min_step`.\n",
      "  warn(\"The following arguments have no effect for a chosen solver: {}.\"\n"
     ]
    },
    {
     "name": "stdout",
     "output_type": "stream",
     "text": [
      "Running with seed=4, solver=RK45, error=MABS, 'std': 0.008886078640684861, 'min': 0.06890011275313326, 'max': 0.10347176746418403}}}\n"
     ]
    },
    {
     "name": "stderr",
     "output_type": "stream",
     "text": [
      "C:\\Users\\anabi\\AppData\\Local\\Packages\\PythonSoftwareFoundation.Python.3.10_qbz5n2kfra8p0\\LocalCache\\local-packages\\Python310\\site-packages\\deap\\creator.py:185: RuntimeWarning: A class named 'FitnessMin' has already been created and it will be overwritten. Consider deleting previous creation of that class or rename it.\n",
      "  warnings.warn(\"A class named '{0}' has already been created and it \"\n",
      "C:\\Users\\anabi\\AppData\\Local\\Packages\\PythonSoftwareFoundation.Python.3.10_qbz5n2kfra8p0\\LocalCache\\local-packages\\Python310\\site-packages\\deap\\creator.py:185: RuntimeWarning: A class named 'Individual' has already been created and it will be overwritten. Consider deleting previous creation of that class or rename it.\n",
      "  warnings.warn(\"A class named '{0}' has already been created and it \"\n",
      "C:\\Users\\anabi\\AppData\\Local\\Packages\\PythonSoftwareFoundation.Python.3.10_qbz5n2kfra8p0\\LocalCache\\local-packages\\Python310\\site-packages\\scipy\\integrate\\_ivp\\common.py:39: UserWarning: The following arguments have no effect for a chosen solver: `min_step`.\n",
      "  warn(\"The following arguments have no effect for a chosen solver: {}.\"\n"
     ]
    },
    {
     "name": "stdout",
     "output_type": "stream",
     "text": [
      "Running with seed=4, solver=DOP853, error=ABS 'std': 8.243494306396408e-05, 'min': 0.11399116539618737, 'max': 0.11423539517946427}}\n"
     ]
    },
    {
     "name": "stderr",
     "output_type": "stream",
     "text": [
      "C:\\Users\\anabi\\AppData\\Local\\Packages\\PythonSoftwareFoundation.Python.3.10_qbz5n2kfra8p0\\LocalCache\\local-packages\\Python310\\site-packages\\deap\\creator.py:185: RuntimeWarning: A class named 'FitnessMin' has already been created and it will be overwritten. Consider deleting previous creation of that class or rename it.\n",
      "  warnings.warn(\"A class named '{0}' has already been created and it \"\n",
      "C:\\Users\\anabi\\AppData\\Local\\Packages\\PythonSoftwareFoundation.Python.3.10_qbz5n2kfra8p0\\LocalCache\\local-packages\\Python310\\site-packages\\deap\\creator.py:185: RuntimeWarning: A class named 'Individual' has already been created and it will be overwritten. Consider deleting previous creation of that class or rename it.\n",
      "  warnings.warn(\"A class named '{0}' has already been created and it \"\n",
      "C:\\Users\\anabi\\AppData\\Local\\Packages\\PythonSoftwareFoundation.Python.3.10_qbz5n2kfra8p0\\LocalCache\\local-packages\\Python310\\site-packages\\scipy\\integrate\\_ivp\\common.py:39: UserWarning: The following arguments have no effect for a chosen solver: `min_step`.\n",
      "  warn(\"The following arguments have no effect for a chosen solver: {}.\"\n"
     ]
    },
    {
     "name": "stdout",
     "output_type": "stream",
     "text": [
      "Running with seed=4, solver=DOP853, error=SQUARED': 0.03695963784776938, 'min': 170.96802288374943, 'max': 171.06889773865626}}}}\n"
     ]
    },
    {
     "name": "stderr",
     "output_type": "stream",
     "text": [
      "C:\\Users\\anabi\\AppData\\Local\\Packages\\PythonSoftwareFoundation.Python.3.10_qbz5n2kfra8p0\\LocalCache\\local-packages\\Python310\\site-packages\\deap\\creator.py:185: RuntimeWarning: A class named 'FitnessMin' has already been created and it will be overwritten. Consider deleting previous creation of that class or rename it.\n",
      "  warnings.warn(\"A class named '{0}' has already been created and it \"\n",
      "C:\\Users\\anabi\\AppData\\Local\\Packages\\PythonSoftwareFoundation.Python.3.10_qbz5n2kfra8p0\\LocalCache\\local-packages\\Python310\\site-packages\\deap\\creator.py:185: RuntimeWarning: A class named 'Individual' has already been created and it will be overwritten. Consider deleting previous creation of that class or rename it.\n",
      "  warnings.warn(\"A class named '{0}' has already been created and it \"\n",
      "C:\\Users\\anabi\\AppData\\Local\\Packages\\PythonSoftwareFoundation.Python.3.10_qbz5n2kfra8p0\\LocalCache\\local-packages\\Python310\\site-packages\\scipy\\integrate\\_ivp\\common.py:39: UserWarning: The following arguments have no effect for a chosen solver: `min_step`.\n",
      "  warn(\"The following arguments have no effect for a chosen solver: {}.\"\n"
     ]
    },
    {
     "name": "stdout",
     "output_type": "stream",
     "text": [
      "Running with seed=4, solver=DOP853, error=MSE'std': 0.00013303855905118963, 'min': 3.8469386560485646, 'max': 3.8473548661157433}\n"
     ]
    },
    {
     "name": "stderr",
     "output_type": "stream",
     "text": [
      "C:\\Users\\anabi\\AppData\\Local\\Packages\\PythonSoftwareFoundation.Python.3.10_qbz5n2kfra8p0\\LocalCache\\local-packages\\Python310\\site-packages\\deap\\creator.py:185: RuntimeWarning: A class named 'FitnessMin' has already been created and it will be overwritten. Consider deleting previous creation of that class or rename it.\n",
      "  warnings.warn(\"A class named '{0}' has already been created and it \"\n",
      "C:\\Users\\anabi\\AppData\\Local\\Packages\\PythonSoftwareFoundation.Python.3.10_qbz5n2kfra8p0\\LocalCache\\local-packages\\Python310\\site-packages\\deap\\creator.py:185: RuntimeWarning: A class named 'Individual' has already been created and it will be overwritten. Consider deleting previous creation of that class or rename it.\n",
      "  warnings.warn(\"A class named '{0}' has already been created and it \"\n",
      "C:\\Users\\anabi\\AppData\\Local\\Packages\\PythonSoftwareFoundation.Python.3.10_qbz5n2kfra8p0\\LocalCache\\local-packages\\Python310\\site-packages\\scipy\\integrate\\_ivp\\common.py:39: UserWarning: The following arguments have no effect for a chosen solver: `min_step`.\n",
      "  warn(\"The following arguments have no effect for a chosen solver: {}.\"\n"
     ]
    },
    {
     "name": "stdout",
     "output_type": "stream",
     "text": [
      "Running with seed=4, solver=DOP853, error=MABS'std': 7.79298757755089e-05, 'min': 0.03350197153422951, 'max': 0.033831864144842155}25}}\n"
     ]
    },
    {
     "name": "stderr",
     "output_type": "stream",
     "text": [
      "C:\\Users\\anabi\\AppData\\Local\\Packages\\PythonSoftwareFoundation.Python.3.10_qbz5n2kfra8p0\\LocalCache\\local-packages\\Python310\\site-packages\\deap\\creator.py:185: RuntimeWarning: A class named 'FitnessMin' has already been created and it will be overwritten. Consider deleting previous creation of that class or rename it.\n",
      "  warnings.warn(\"A class named '{0}' has already been created and it \"\n",
      "C:\\Users\\anabi\\AppData\\Local\\Packages\\PythonSoftwareFoundation.Python.3.10_qbz5n2kfra8p0\\LocalCache\\local-packages\\Python310\\site-packages\\deap\\creator.py:185: RuntimeWarning: A class named 'Individual' has already been created and it will be overwritten. Consider deleting previous creation of that class or rename it.\n",
      "  warnings.warn(\"A class named '{0}' has already been created and it \"\n",
      "C:\\Users\\anabi\\AppData\\Local\\Packages\\PythonSoftwareFoundation.Python.3.10_qbz5n2kfra8p0\\LocalCache\\local-packages\\Python310\\site-packages\\scipy\\integrate\\_ivp\\common.py:39: UserWarning: The following arguments have no effect for a chosen solver: `min_step`.\n",
      "  warn(\"The following arguments have no effect for a chosen solver: {}.\"\n"
     ]
    },
    {
     "name": "stdout",
     "output_type": "stream",
     "text": [
      "Running with seed=4, solver=LSODA, error=ABS 'std': 2.3592643102136774e-05, 'min': 0.3359939840830293, 'max': 0.3360667605782006}4}}\n"
     ]
    },
    {
     "name": "stderr",
     "output_type": "stream",
     "text": [
      "C:\\Users\\anabi\\AppData\\Local\\Packages\\PythonSoftwareFoundation.Python.3.10_qbz5n2kfra8p0\\LocalCache\\local-packages\\Python310\\site-packages\\deap\\creator.py:185: RuntimeWarning: A class named 'FitnessMin' has already been created and it will be overwritten. Consider deleting previous creation of that class or rename it.\n",
      "  warnings.warn(\"A class named '{0}' has already been created and it \"\n",
      "C:\\Users\\anabi\\AppData\\Local\\Packages\\PythonSoftwareFoundation.Python.3.10_qbz5n2kfra8p0\\LocalCache\\local-packages\\Python310\\site-packages\\deap\\creator.py:185: RuntimeWarning: A class named 'Individual' has already been created and it will be overwritten. Consider deleting previous creation of that class or rename it.\n",
      "  warnings.warn(\"A class named '{0}' has already been created and it \"\n"
     ]
    },
    {
     "name": "stdout",
     "output_type": "stream",
     "text": [
      "Overflowon 0: {'avg': 343.0443745119974, 'std': 17.575067166311555, 'min': 309.4526916886013, 'max': 370.84884942534495}\n"
     ]
    },
    {
     "name": "stderr",
     "output_type": "stream",
     "text": [
      "C:\\Users\\anabi\\AppData\\Local\\Packages\\PythonSoftwareFoundation.Python.3.10_qbz5n2kfra8p0\\LocalCache\\local-packages\\Python310\\site-packages\\scipy\\integrate\\_ode.py:1348: UserWarning: lsoda: Repeated error test failures (internal error).\n",
      "  warnings.warn('{:s}: {:s}'.format(self.__class__.__name__,\n"
     ]
    },
    {
     "name": "stdout",
     "output_type": "stream",
     "text": [
      "Overflowon 10: {'avg': 278.8801324409025, 'std': 40.03320583930122, 'min': 220.85854238113592, 'max': 335.23227239414086}}\n",
      "Overflowon 227: {'avg': 292.3323024931516, 'std': 43.73635415239205, 'min': 224.76966742879827, 'max': 390.8384834640581}85}\n",
      "Overflowon 236: {'avg': 296.7438917504885, 'std': 42.043642688449964, 'min': 223.8321981358198, 'max': 368.4574361367795}}}\n",
      "Overflowon 283: {'avg': 301.2756761429087, 'std': 35.03080679260323, 'min': 234.66077690099243, 'max': 361.4855714818196}}3}\n",
      "Overflowon 340: {'avg': 262.912550795883, 'std': 40.73359872511888, 'min': 212.2335542788408, 'max': 361.2328862780553}436}}\n",
      "Overflowon 465: {'avg': 228.19625689915682, 'std': 22.029819647875023, 'min': 210.03068490019396, 'max': 283.7408383987537}}\n",
      "Overflowon 523: {'avg': 297.6247538694409, 'std': 37.23675826299839, 'min': 226.56165769721687, 'max': 370.4460375491483}}6}\n",
      "Overflowon 553: {'avg': 265.20668558861576, 'std': 36.626067190600146, 'min': 222.2077116261471, 'max': 340.0132122600221}}}\n",
      "Overflowon 640: {'avg': 282.60051468730984, 'std': 44.3024508031284, 'min': 195.87250000000006, 'max': 356.1108641055025}}}}\n",
      "Overflowon 812: {'avg': 281.6245152954822, 'std': 41.23295334563431, 'min': 226.65234101231997, 'max': 377.6062279434204}}}}\n",
      "Overflowon 1080: {'avg': 263.4515942977506, 'std': 48.61640918363287, 'min': 213.95790742301875, 'max': 338.6291654928957}7}}\n",
      "Overflowon 1093: {'avg': 221.59195775356142, 'std': 11.104159094296048, 'min': 205.48843269257355, 'max': 255.10129267771822}\n",
      "Overflowon 1110: {'avg': 212.6222400322518, 'std': 6.823136459331262, 'min': 205.23446180089968, 'max': 227.84520304324522}6}\n",
      "Overflowon 1116: {'avg': 281.61482546675035, 'std': 43.16664863722154, 'min': 228.1796011426569, 'max': 382.4756981422891}}\n",
      "Overflowon 1179: {'avg': 263.25801935045905, 'std': 26.930373355708735, 'min': 221.4238597973264, 'max': 330.39518947653556}}\n",
      "Overflowon 1379: {'avg': 263.4748314661832, 'std': 38.03315135975089, 'min': 217.43413644109626, 'max': 328.0545548521287}}}}\n",
      "Running with seed=4, solver=LSODA, error=SQUARED': 0.03327999368360501, 'min': 50.852327914839165, 'max': 50.95717682410886}}}}}}\n"
     ]
    },
    {
     "name": "stderr",
     "output_type": "stream",
     "text": [
      "C:\\Users\\anabi\\AppData\\Local\\Packages\\PythonSoftwareFoundation.Python.3.10_qbz5n2kfra8p0\\LocalCache\\local-packages\\Python310\\site-packages\\deap\\creator.py:185: RuntimeWarning: A class named 'FitnessMin' has already been created and it will be overwritten. Consider deleting previous creation of that class or rename it.\n",
      "  warnings.warn(\"A class named '{0}' has already been created and it \"\n",
      "C:\\Users\\anabi\\AppData\\Local\\Packages\\PythonSoftwareFoundation.Python.3.10_qbz5n2kfra8p0\\LocalCache\\local-packages\\Python310\\site-packages\\deap\\creator.py:185: RuntimeWarning: A class named 'Individual' has already been created and it will be overwritten. Consider deleting previous creation of that class or rename it.\n",
      "  warnings.warn(\"A class named '{0}' has already been created and it \"\n"
     ]
    },
    {
     "name": "stdout",
     "output_type": "stream",
     "text": [
      "Generation 0: {'avg': 21.284956638372925, 'std': 0.5414493946819001, 'min': 20.479549760185144, 'max': 22.26495511719414}\r"
     ]
    },
    {
     "name": "stderr",
     "output_type": "stream",
     "text": [
      "C:\\Users\\anabi\\AppData\\Local\\Packages\\PythonSoftwareFoundation.Python.3.10_qbz5n2kfra8p0\\LocalCache\\local-packages\\Python310\\site-packages\\scipy\\integrate\\_ode.py:1348: UserWarning: lsoda: Repeated error test failures (internal error).\n",
      "  warnings.warn('{:s}: {:s}'.format(self.__class__.__name__,\n"
     ]
    },
    {
     "name": "stdout",
     "output_type": "stream",
     "text": [
      "Overflowon 15: {'avg': 20.473361101086272, 'std': 1.4319324940956297, 'min': 17.17688417368544, 'max': 21.98702679520316}}}\n",
      "Overflowon 166: {'avg': 15.868300065664148, 'std': 2.14214954753814, 'min': 13.941902713003786, 'max': 21.083259105140332}5}\n",
      "Overflowon 553: {'avg': 15.3466444459756, 'std': 1.8170980006535298, 'min': 13.356385449291295, 'max': 19.766630605948645}3}}\n",
      "Overflowon 771: {'avg': 13.117218634476812, 'std': 0.9004180293082011, 'min': 12.452605355134013, 'max': 15.16094035452186}}}\n",
      "Overflowon 971: {'avg': 16.475936875792584, 'std': 2.5799882430575405, 'min': 13.539982134533897, 'max': 21.18730701952566}}}\n",
      "Running with seed=4, solver=LSODA, error=MSE'std': 0.0006839510246348869, 'min': 7.743764676324829, 'max': 7.746558616931455}}}}}\n"
     ]
    },
    {
     "name": "stderr",
     "output_type": "stream",
     "text": [
      "C:\\Users\\anabi\\AppData\\Local\\Packages\\PythonSoftwareFoundation.Python.3.10_qbz5n2kfra8p0\\LocalCache\\local-packages\\Python310\\site-packages\\deap\\creator.py:185: RuntimeWarning: A class named 'FitnessMin' has already been created and it will be overwritten. Consider deleting previous creation of that class or rename it.\n",
      "  warnings.warn(\"A class named '{0}' has already been created and it \"\n",
      "C:\\Users\\anabi\\AppData\\Local\\Packages\\PythonSoftwareFoundation.Python.3.10_qbz5n2kfra8p0\\LocalCache\\local-packages\\Python310\\site-packages\\deap\\creator.py:185: RuntimeWarning: A class named 'Individual' has already been created and it will be overwritten. Consider deleting previous creation of that class or rename it.\n",
      "  warnings.warn(\"A class named '{0}' has already been created and it \"\n"
     ]
    },
    {
     "name": "stdout",
     "output_type": "stream",
     "text": [
      "Generation 0: {'avg': 0.9066850930888344, 'std': 0.046181400397531505, 'min': 0.838823916759799, 'max': 0.9914564527413391}\r"
     ]
    },
    {
     "name": "stderr",
     "output_type": "stream",
     "text": [
      "C:\\Users\\anabi\\AppData\\Local\\Packages\\PythonSoftwareFoundation.Python.3.10_qbz5n2kfra8p0\\LocalCache\\local-packages\\Python310\\site-packages\\scipy\\integrate\\_ode.py:1348: UserWarning: lsoda: Repeated error test failures (internal error).\n",
      "  warnings.warn('{:s}: {:s}'.format(self.__class__.__name__,\n"
     ]
    },
    {
     "name": "stdout",
     "output_type": "stream",
     "text": [
      "Overflowon 15: {'avg': 0.8424178908862389, 'std': 0.11369759313881188, 'min': 0.5900906998324108, 'max': 0.9668586945859637}\n",
      "Overflowon 166: {'avg': 0.5127835033159492, 'std': 0.1474505363225501, 'min': 0.38875330251772466, 'max': 0.8890076289889652}}4}\n",
      "Overflowon 553: {'avg': 0.47764268179034564, 'std': 0.11923235965548412, 'min': 0.3567860645400805, 'max': 0.7814393710240513}}}}\n",
      "Overflowon 771: {'avg': 0.345744354664338, 'std': 0.049672562248994884, 'min': 0.3101347602614245, 'max': 0.45970822486673907}}}}\n",
      "Overflowon 971: {'avg': 0.5562256705388341, 'std': 0.1774797538905185, 'min': 0.3666622324069943, 'max': 0.8978039574792824}}5}}}}\n",
      "Overflowon 2273: {'avg': 0.4067197123613066, 'std': 0.07096330144779316, 'min': 0.3254943335588902, 'max': 0.5967110419824325}}}}}}}\n",
      "Overflowon 2416: {'avg': 0.47654130751145884, 'std': 0.07796182033283816, 'min': 0.3679342725601997, 'max': 0.649064058466429}6}}}\n",
      "Overflowon 2513: {'avg': 0.3612906274742426, 'std': 0.047311150952156926, 'min': 0.3016749199411404, 'max': 0.4554415267442164}}}3}\n",
      "Overflowon 2582: {'avg': 0.38084925151672927, 'std': 0.06705353862081768, 'min': 0.3040533643280862, 'max': 0.5432527124495838}}6}\n",
      "Overflowon 5015: {'avg': 0.40170784610957605, 'std': 0.10329296961919987, 'min': 0.3137898022099371, 'max': 0.6691957961807011}}4}}}\n",
      "Overflowon 5331: {'avg': 0.3149983872690468, 'std': 0.03793615788878779, 'min': 0.26875744429703047, 'max': 0.38924461080553635}}}}\n",
      "Running with seed=4, solver=LSODA, error=MABS'std': 1.3499542191234844e-05, 'min': 0.23942213221687664, 'max': 0.23946390054971833}}\n"
     ]
    },
    {
     "name": "stderr",
     "output_type": "stream",
     "text": [
      "C:\\Users\\anabi\\AppData\\Local\\Packages\\PythonSoftwareFoundation.Python.3.10_qbz5n2kfra8p0\\LocalCache\\local-packages\\Python310\\site-packages\\deap\\creator.py:185: RuntimeWarning: A class named 'FitnessMin' has already been created and it will be overwritten. Consider deleting previous creation of that class or rename it.\n",
      "  warnings.warn(\"A class named '{0}' has already been created and it \"\n",
      "C:\\Users\\anabi\\AppData\\Local\\Packages\\PythonSoftwareFoundation.Python.3.10_qbz5n2kfra8p0\\LocalCache\\local-packages\\Python310\\site-packages\\deap\\creator.py:185: RuntimeWarning: A class named 'Individual' has already been created and it will be overwritten. Consider deleting previous creation of that class or rename it.\n",
      "  warnings.warn(\"A class named '{0}' has already been created and it \"\n"
     ]
    },
    {
     "name": "stdout",
     "output_type": "stream",
     "text": [
      "Overflowon 0: {'avg': 0.6860887490239949, 'std': 0.03515013433262314, 'min': 0.6189053833772026, 'max': 0.74169769885069}\n"
     ]
    },
    {
     "name": "stderr",
     "output_type": "stream",
     "text": [
      "C:\\Users\\anabi\\AppData\\Local\\Packages\\PythonSoftwareFoundation.Python.3.10_qbz5n2kfra8p0\\LocalCache\\local-packages\\Python310\\site-packages\\scipy\\integrate\\_ode.py:1348: UserWarning: lsoda: Repeated error test failures (internal error).\n",
      "  warnings.warn('{:s}: {:s}'.format(self.__class__.__name__,\n"
     ]
    },
    {
     "name": "stdout",
     "output_type": "stream",
     "text": [
      "Overflowon 10: {'avg': 0.5577602648818051, 'std': 0.08006641167860237, 'min': 0.44171708476227184, 'max': 0.6704645447882818}\n",
      "Overflowon 227: {'avg': 0.5846646049863032, 'std': 0.08747270830478414, 'min': 0.44953933485759656, 'max': 0.7816769669281163}}}\n",
      "Overflowon 236: {'avg': 0.593487783500977, 'std': 0.08408728537689991, 'min': 0.44766439627163956, 'max': 0.736914872273559}}}\n",
      "Overflowon 283: {'avg': 0.6025513522858172, 'std': 0.07006161358520649, 'min': 0.46932155380198504, 'max': 0.7229711429636393}\n",
      "Overflowon 340: {'avg': 0.525825101591766, 'std': 0.08146719745023769, 'min': 0.4244671085576816, 'max': 0.7224657725561102}}}}\n",
      "Overflowon 465: {'avg': 0.45639251379831364, 'std': 0.04405963929575006, 'min': 0.42006136980038794, 'max': 0.5674816767975074}}\n",
      "Overflowon 523: {'avg': 0.5952495077388819, 'std': 0.07447351652599679, 'min': 0.4531233153944338, 'max': 0.7408920750982965}}}\n",
      "Overflowon 553: {'avg': 0.5304133711772316, 'std': 0.07325213438120033, 'min': 0.44441542325229433, 'max': 0.6800264245200444}\n",
      "Overflowon 640: {'avg': 0.5652010293746197, 'std': 0.08860490160625682, 'min': 0.391745, 'max': 0.712221728211005}98653201799}}\n",
      "Overflowon 812: {'avg': 0.5632490305909644, 'std': 0.08246590669126858, 'min': 0.4533046820246401, 'max': 0.7552124558868407}}}\n",
      "Overflowon 1080: {'avg': 0.5269031885955011, 'std': 0.09723281836726572, 'min': 0.4279158148460375, 'max': 0.6772583309857914}}2}\n",
      "Overflowon 1093: {'avg': 0.44318391550712277, 'std': 0.0222083181885921, 'min': 0.4109768653851471, 'max': 0.5102025853554364}}5}\n",
      "Overflowon 1110: {'avg': 0.4252444800645037, 'std': 0.013646272918662522, 'min': 0.4104689236017994, 'max': 0.4556904060864904}4}}\n",
      "Overflowon 1116: {'avg': 0.5632296509335007, 'std': 0.08633329727444307, 'min': 0.45635920228531374, 'max': 0.7649513962845781}}\n",
      "Overflowon 1179: {'avg': 0.5265160387009182, 'std': 0.05386074671141751, 'min': 0.44284771959465274, 'max': 0.6607903789530714}}}\n",
      "Overflowon 1379: {'avg': 0.5269496629323664, 'std': 0.07606630271950175, 'min': 0.43486827288219254, 'max': 0.6561091097042573}6}}\n",
      "Overflowon 4967: {'avg': 0.44551456168719195, 'std': 0.12431842354160622, 'min': 0.23551990207378487, 'max': 0.6930414652116614}2}}}\n",
      "Overflowon 5078: {'avg': 0.3849923035969709, 'std': 0.16650974036501048, 'min': 0.1685574492448278, 'max': 0.736102183998252}6}}}}\n",
      "Running with seed=5, solver=RK45, error=ABS3, 'std': 0.0017717489667693086, 'min': 0.09616844312578608, 'max': 0.10331358405852242}}\n"
     ]
    },
    {
     "name": "stderr",
     "output_type": "stream",
     "text": [
      "C:\\Users\\anabi\\AppData\\Local\\Packages\\PythonSoftwareFoundation.Python.3.10_qbz5n2kfra8p0\\LocalCache\\local-packages\\Python310\\site-packages\\deap\\creator.py:185: RuntimeWarning: A class named 'FitnessMin' has already been created and it will be overwritten. Consider deleting previous creation of that class or rename it.\n",
      "  warnings.warn(\"A class named '{0}' has already been created and it \"\n",
      "C:\\Users\\anabi\\AppData\\Local\\Packages\\PythonSoftwareFoundation.Python.3.10_qbz5n2kfra8p0\\LocalCache\\local-packages\\Python310\\site-packages\\deap\\creator.py:185: RuntimeWarning: A class named 'Individual' has already been created and it will be overwritten. Consider deleting previous creation of that class or rename it.\n",
      "  warnings.warn(\"A class named '{0}' has already been created and it \"\n",
      "C:\\Users\\anabi\\AppData\\Local\\Packages\\PythonSoftwareFoundation.Python.3.10_qbz5n2kfra8p0\\LocalCache\\local-packages\\Python310\\site-packages\\scipy\\integrate\\_ivp\\common.py:39: UserWarning: The following arguments have no effect for a chosen solver: `min_step`.\n",
      "  warn(\"The following arguments have no effect for a chosen solver: {}.\"\n"
     ]
    },
    {
     "name": "stdout",
     "output_type": "stream",
     "text": [
      "Running with seed=5, solver=RK45, error=SQUAREDd': 0.9716328407626335, 'min': 82.01010173499748, 'max': 85.59327210135015}}}}5}}}\n"
     ]
    },
    {
     "name": "stderr",
     "output_type": "stream",
     "text": [
      "C:\\Users\\anabi\\AppData\\Local\\Packages\\PythonSoftwareFoundation.Python.3.10_qbz5n2kfra8p0\\LocalCache\\local-packages\\Python310\\site-packages\\deap\\creator.py:185: RuntimeWarning: A class named 'FitnessMin' has already been created and it will be overwritten. Consider deleting previous creation of that class or rename it.\n",
      "  warnings.warn(\"A class named '{0}' has already been created and it \"\n",
      "C:\\Users\\anabi\\AppData\\Local\\Packages\\PythonSoftwareFoundation.Python.3.10_qbz5n2kfra8p0\\LocalCache\\local-packages\\Python310\\site-packages\\deap\\creator.py:185: RuntimeWarning: A class named 'Individual' has already been created and it will be overwritten. Consider deleting previous creation of that class or rename it.\n",
      "  warnings.warn(\"A class named '{0}' has already been created and it \"\n",
      "C:\\Users\\anabi\\AppData\\Local\\Packages\\PythonSoftwareFoundation.Python.3.10_qbz5n2kfra8p0\\LocalCache\\local-packages\\Python310\\site-packages\\scipy\\integrate\\_ivp\\common.py:39: UserWarning: The following arguments have no effect for a chosen solver: `min_step`.\n",
      "  warn(\"The following arguments have no effect for a chosen solver: {}.\"\n"
     ]
    },
    {
     "name": "stdout",
     "output_type": "stream",
     "text": [
      "Running with seed=5, solver=RK45, error=MSE, 'std': 1.973122339772154e-05, 'min': 10.701279634783539, 'max': 10.701339610784968}}\n"
     ]
    },
    {
     "name": "stderr",
     "output_type": "stream",
     "text": [
      "C:\\Users\\anabi\\AppData\\Local\\Packages\\PythonSoftwareFoundation.Python.3.10_qbz5n2kfra8p0\\LocalCache\\local-packages\\Python310\\site-packages\\deap\\creator.py:185: RuntimeWarning: A class named 'FitnessMin' has already been created and it will be overwritten. Consider deleting previous creation of that class or rename it.\n",
      "  warnings.warn(\"A class named '{0}' has already been created and it \"\n",
      "C:\\Users\\anabi\\AppData\\Local\\Packages\\PythonSoftwareFoundation.Python.3.10_qbz5n2kfra8p0\\LocalCache\\local-packages\\Python310\\site-packages\\deap\\creator.py:185: RuntimeWarning: A class named 'Individual' has already been created and it will be overwritten. Consider deleting previous creation of that class or rename it.\n",
      "  warnings.warn(\"A class named '{0}' has already been created and it \"\n",
      "C:\\Users\\anabi\\AppData\\Local\\Packages\\PythonSoftwareFoundation.Python.3.10_qbz5n2kfra8p0\\LocalCache\\local-packages\\Python310\\site-packages\\scipy\\integrate\\_ivp\\common.py:39: UserWarning: The following arguments have no effect for a chosen solver: `min_step`.\n",
      "  warn(\"The following arguments have no effect for a chosen solver: {}.\"\n"
     ]
    },
    {
     "name": "stdout",
     "output_type": "stream",
     "text": [
      "Running with seed=5, solver=RK45, error=MABS, 'std': 1.8644896079003416e-06, 'min': 0.24757159628027817, 'max': 0.24757723855388378}\n"
     ]
    },
    {
     "name": "stderr",
     "output_type": "stream",
     "text": [
      "C:\\Users\\anabi\\AppData\\Local\\Packages\\PythonSoftwareFoundation.Python.3.10_qbz5n2kfra8p0\\LocalCache\\local-packages\\Python310\\site-packages\\deap\\creator.py:185: RuntimeWarning: A class named 'FitnessMin' has already been created and it will be overwritten. Consider deleting previous creation of that class or rename it.\n",
      "  warnings.warn(\"A class named '{0}' has already been created and it \"\n",
      "C:\\Users\\anabi\\AppData\\Local\\Packages\\PythonSoftwareFoundation.Python.3.10_qbz5n2kfra8p0\\LocalCache\\local-packages\\Python310\\site-packages\\deap\\creator.py:185: RuntimeWarning: A class named 'Individual' has already been created and it will be overwritten. Consider deleting previous creation of that class or rename it.\n",
      "  warnings.warn(\"A class named '{0}' has already been created and it \"\n",
      "C:\\Users\\anabi\\AppData\\Local\\Packages\\PythonSoftwareFoundation.Python.3.10_qbz5n2kfra8p0\\LocalCache\\local-packages\\Python310\\site-packages\\scipy\\integrate\\_ivp\\common.py:39: UserWarning: The following arguments have no effect for a chosen solver: `min_step`.\n",
      "  warn(\"The following arguments have no effect for a chosen solver: {}.\"\n"
     ]
    },
    {
     "name": "stdout",
     "output_type": "stream",
     "text": [
      "Running with seed=5, solver=DOP853, error=ABS 'std': 6.194344112007783e-05, 'min': 0.3394665607207717, 'max': 0.339655603570069}4}}}\n"
     ]
    },
    {
     "name": "stderr",
     "output_type": "stream",
     "text": [
      "C:\\Users\\anabi\\AppData\\Local\\Packages\\PythonSoftwareFoundation.Python.3.10_qbz5n2kfra8p0\\LocalCache\\local-packages\\Python310\\site-packages\\deap\\creator.py:185: RuntimeWarning: A class named 'FitnessMin' has already been created and it will be overwritten. Consider deleting previous creation of that class or rename it.\n",
      "  warnings.warn(\"A class named '{0}' has already been created and it \"\n",
      "C:\\Users\\anabi\\AppData\\Local\\Packages\\PythonSoftwareFoundation.Python.3.10_qbz5n2kfra8p0\\LocalCache\\local-packages\\Python310\\site-packages\\deap\\creator.py:185: RuntimeWarning: A class named 'Individual' has already been created and it will be overwritten. Consider deleting previous creation of that class or rename it.\n",
      "  warnings.warn(\"A class named '{0}' has already been created and it \"\n",
      "C:\\Users\\anabi\\AppData\\Local\\Packages\\PythonSoftwareFoundation.Python.3.10_qbz5n2kfra8p0\\LocalCache\\local-packages\\Python310\\site-packages\\scipy\\integrate\\_ivp\\common.py:39: UserWarning: The following arguments have no effect for a chosen solver: `min_step`.\n",
      "  warn(\"The following arguments have no effect for a chosen solver: {}.\"\n"
     ]
    },
    {
     "name": "stdout",
     "output_type": "stream",
     "text": [
      "Running with seed=5, solver=DOP853, error=SQUARED: 0.00035954967831287117, 'min': 49.91409894599423, 'max': 49.91532162816533}3}}\n"
     ]
    },
    {
     "name": "stderr",
     "output_type": "stream",
     "text": [
      "C:\\Users\\anabi\\AppData\\Local\\Packages\\PythonSoftwareFoundation.Python.3.10_qbz5n2kfra8p0\\LocalCache\\local-packages\\Python310\\site-packages\\deap\\creator.py:185: RuntimeWarning: A class named 'FitnessMin' has already been created and it will be overwritten. Consider deleting previous creation of that class or rename it.\n",
      "  warnings.warn(\"A class named '{0}' has already been created and it \"\n",
      "C:\\Users\\anabi\\AppData\\Local\\Packages\\PythonSoftwareFoundation.Python.3.10_qbz5n2kfra8p0\\LocalCache\\local-packages\\Python310\\site-packages\\deap\\creator.py:185: RuntimeWarning: A class named 'Individual' has already been created and it will be overwritten. Consider deleting previous creation of that class or rename it.\n",
      "  warnings.warn(\"A class named '{0}' has already been created and it \"\n",
      "C:\\Users\\anabi\\AppData\\Local\\Packages\\PythonSoftwareFoundation.Python.3.10_qbz5n2kfra8p0\\LocalCache\\local-packages\\Python310\\site-packages\\scipy\\integrate\\_ivp\\common.py:39: UserWarning: The following arguments have no effect for a chosen solver: `min_step`.\n",
      "  warn(\"The following arguments have no effect for a chosen solver: {}.\"\n"
     ]
    },
    {
     "name": "stdout",
     "output_type": "stream",
     "text": [
      "Running with seed=5, solver=DOP853, error=MSE'std': 8.859107644299289e-05, 'min': 3.9520092069000046, 'max': 3.9523775817993494}}\n"
     ]
    },
    {
     "name": "stderr",
     "output_type": "stream",
     "text": [
      "C:\\Users\\anabi\\AppData\\Local\\Packages\\PythonSoftwareFoundation.Python.3.10_qbz5n2kfra8p0\\LocalCache\\local-packages\\Python310\\site-packages\\deap\\creator.py:185: RuntimeWarning: A class named 'FitnessMin' has already been created and it will be overwritten. Consider deleting previous creation of that class or rename it.\n",
      "  warnings.warn(\"A class named '{0}' has already been created and it \"\n",
      "C:\\Users\\anabi\\AppData\\Local\\Packages\\PythonSoftwareFoundation.Python.3.10_qbz5n2kfra8p0\\LocalCache\\local-packages\\Python310\\site-packages\\deap\\creator.py:185: RuntimeWarning: A class named 'Individual' has already been created and it will be overwritten. Consider deleting previous creation of that class or rename it.\n",
      "  warnings.warn(\"A class named '{0}' has already been created and it \"\n",
      "C:\\Users\\anabi\\AppData\\Local\\Packages\\PythonSoftwareFoundation.Python.3.10_qbz5n2kfra8p0\\LocalCache\\local-packages\\Python310\\site-packages\\scipy\\integrate\\_ivp\\common.py:39: UserWarning: The following arguments have no effect for a chosen solver: `min_step`.\n",
      "  warn(\"The following arguments have no effect for a chosen solver: {}.\"\n"
     ]
    },
    {
     "name": "stdout",
     "output_type": "stream",
     "text": [
      "Running with seed=5, solver=DOP853, error=MABSstd': 4.4335996809858e-06, 'min': 0.03121627622685234, 'max': 0.03123279943915038}76}8}}}\n"
     ]
    },
    {
     "name": "stderr",
     "output_type": "stream",
     "text": [
      "C:\\Users\\anabi\\AppData\\Local\\Packages\\PythonSoftwareFoundation.Python.3.10_qbz5n2kfra8p0\\LocalCache\\local-packages\\Python310\\site-packages\\deap\\creator.py:185: RuntimeWarning: A class named 'FitnessMin' has already been created and it will be overwritten. Consider deleting previous creation of that class or rename it.\n",
      "  warnings.warn(\"A class named '{0}' has already been created and it \"\n",
      "C:\\Users\\anabi\\AppData\\Local\\Packages\\PythonSoftwareFoundation.Python.3.10_qbz5n2kfra8p0\\LocalCache\\local-packages\\Python310\\site-packages\\deap\\creator.py:185: RuntimeWarning: A class named 'Individual' has already been created and it will be overwritten. Consider deleting previous creation of that class or rename it.\n",
      "  warnings.warn(\"A class named '{0}' has already been created and it \"\n",
      "C:\\Users\\anabi\\AppData\\Local\\Packages\\PythonSoftwareFoundation.Python.3.10_qbz5n2kfra8p0\\LocalCache\\local-packages\\Python310\\site-packages\\scipy\\integrate\\_ivp\\common.py:39: UserWarning: The following arguments have no effect for a chosen solver: `min_step`.\n",
      "  warn(\"The following arguments have no effect for a chosen solver: {}.\"\n"
     ]
    },
    {
     "name": "stdout",
     "output_type": "stream",
     "text": [
      "Running with seed=5, solver=LSODA, error=ABS, 'std': 1.3163642646149677e-05, 'min': 0.09749209001221698, 'max': 0.09753686562126122}\n"
     ]
    },
    {
     "name": "stderr",
     "output_type": "stream",
     "text": [
      "C:\\Users\\anabi\\AppData\\Local\\Packages\\PythonSoftwareFoundation.Python.3.10_qbz5n2kfra8p0\\LocalCache\\local-packages\\Python310\\site-packages\\deap\\creator.py:185: RuntimeWarning: A class named 'FitnessMin' has already been created and it will be overwritten. Consider deleting previous creation of that class or rename it.\n",
      "  warnings.warn(\"A class named '{0}' has already been created and it \"\n",
      "C:\\Users\\anabi\\AppData\\Local\\Packages\\PythonSoftwareFoundation.Python.3.10_qbz5n2kfra8p0\\LocalCache\\local-packages\\Python310\\site-packages\\deap\\creator.py:185: RuntimeWarning: A class named 'Individual' has already been created and it will be overwritten. Consider deleting previous creation of that class or rename it.\n",
      "  warnings.warn(\"A class named '{0}' has already been created and it \"\n",
      "C:\\Users\\anabi\\AppData\\Local\\Packages\\PythonSoftwareFoundation.Python.3.10_qbz5n2kfra8p0\\LocalCache\\local-packages\\Python310\\site-packages\\scipy\\integrate\\_ode.py:1348: UserWarning: lsoda: Repeated error test failures (internal error).\n",
      "  warnings.warn('{:s}: {:s}'.format(self.__class__.__name__,\n"
     ]
    },
    {
     "name": "stdout",
     "output_type": "stream",
     "text": [
      "Overflowon 0: {'avg': 315.58507829905074, 'std': 56.76392146476207, 'min': 195.87250000000006, 'max': 377.00569770348454}\n",
      "Overflowon 63: {'avg': 283.660039337947, 'std': 38.502306573596876, 'min': 223.25276328691123, 'max': 357.212539065908}}}5}\n",
      "Overflowon 106: {'avg': 281.9699253974798, 'std': 41.4269527642908, 'min': 236.01006346977465, 'max': 360.3726685707217}3}}\n",
      "Overflowon 262: {'avg': 283.7202755831778, 'std': 46.56269645763664, 'min': 218.66163433779835, 'max': 383.31808689183094}}}\n",
      "Overflowon 265: {'avg': 300.59117235142367, 'std': 45.08751578394897, 'min': 230.24787976310537, 'max': 356.93870003501377}\n",
      "Overflowon 495: {'avg': 293.7808823149228, 'std': 42.85510699777466, 'min': 223.7679695799264, 'max': 357.71723700093287}}}}\n",
      "Overflowon 535: {'avg': 240.77382761694676, 'std': 26.793504609321324, 'min': 212.06347474905715, 'max': 286.90887826496504}\n",
      "Overflowon 540: {'avg': 285.68941264167427, 'std': 44.03215178752827, 'min': 226.15204193488375, 'max': 355.04836939421375}\n",
      "Overflowon 546: {'avg': 288.61190174229597, 'std': 50.06968070028463, 'min': 221.61897168729598, 'max': 383.63987342908763}\n",
      "Overflow\n",
      "Overflowon 595: {'avg': 286.49378663754226, 'std': 41.015161085136306, 'min': 222.92629549137015, 'max': 343.1899778884035}}\n",
      "Overflowon 766: {'avg': 287.54615532812784, 'std': 44.28194337207778, 'min': 224.71597924815194, 'max': 381.6612827237452}6}\n",
      "Overflowon 767: {'avg': 66942.49904756107, 'std': 249370.10930764428, 'min': 195.87250000000006, 'max': 1000000.0}\n",
      "Overflowon 805: {'avg': 257.3031338752956, 'std': 38.355519494673175, 'min': 224.7034525631459, 'max': 360.9723693769522}}}}\n",
      "Overflowon 826: {'avg': 323.7947940122625, 'std': 38.77294525756851, 'min': 257.9015461911933, 'max': 405.93616043718373}53}\n",
      "Overflowon 829: {'avg': 308.6638315100283, 'std': 52.640023529093284, 'min': 209.564974381588, 'max': 366.71078407791003}}\n",
      "Overflowon 966: {'avg': 272.35002857205876, 'std': 38.193609199427044, 'min': 225.11696686790728, 'max': 335.7649189131283}}\n",
      "Overflowon 967: {'avg': 66907.64837470818, 'std': 249379.42347825304, 'min': 222.3085854106627, 'max': 1000000.0}\n",
      "Overflowon 1127: {'avg': 272.21317509692926, 'std': 43.125308294794465, 'min': 221.68473002422493, 'max': 354.2089997112867}}\n",
      "Overflowon 1135: {'avg': 270.4875858974656, 'std': 37.65576568233728, 'min': 226.57760838610596, 'max': 342.0150281709181}4}\n",
      "Overflowon 1501: {'avg': 280.961801234457, 'std': 47.50713053174315, 'min': 222.0241284883624, 'max': 342.58605212496656}7}}}\n",
      "Overflowon 1511: {'avg': 260.1963332893904, 'std': 28.62642898192989, 'min': 217.88193389246308, 'max': 322.4374534969694}5}}\n",
      "Overflowon 1566: {'avg': 232.38063993554866, 'std': 16.980535817009326, 'min': 207.89026700809626, 'max': 265.4642008383464}}\n",
      "Overflowon 1642: {'avg': 239.8886706500818, 'std': 28.917025582027794, 'min': 217.1790123546269, 'max': 330.71255923005594}}}\n",
      "Running with seed=5, solver=LSODA, error=SQUAREDd': 1.5881354729276036, 'min': 173.58219736998478, 'max': 179.9713009908478}}6}2}\n"
     ]
    },
    {
     "name": "stderr",
     "output_type": "stream",
     "text": [
      "C:\\Users\\anabi\\AppData\\Local\\Packages\\PythonSoftwareFoundation.Python.3.10_qbz5n2kfra8p0\\LocalCache\\local-packages\\Python310\\site-packages\\deap\\creator.py:185: RuntimeWarning: A class named 'FitnessMin' has already been created and it will be overwritten. Consider deleting previous creation of that class or rename it.\n",
      "  warnings.warn(\"A class named '{0}' has already been created and it \"\n",
      "C:\\Users\\anabi\\AppData\\Local\\Packages\\PythonSoftwareFoundation.Python.3.10_qbz5n2kfra8p0\\LocalCache\\local-packages\\Python310\\site-packages\\deap\\creator.py:185: RuntimeWarning: A class named 'Individual' has already been created and it will be overwritten. Consider deleting previous creation of that class or rename it.\n",
      "  warnings.warn(\"A class named '{0}' has already been created and it \"\n",
      "C:\\Users\\anabi\\AppData\\Local\\Packages\\PythonSoftwareFoundation.Python.3.10_qbz5n2kfra8p0\\LocalCache\\local-packages\\Python310\\site-packages\\scipy\\integrate\\_ode.py:1348: UserWarning: lsoda: Repeated error test failures (internal error).\n",
      "  warnings.warn('{:s}: {:s}'.format(self.__class__.__name__,\n"
     ]
    },
    {
     "name": "stdout",
     "output_type": "stream",
     "text": [
      "Overflowon 1106: {'avg': 12.7450986703054, 'std': 0.5349992325184463, 'min': 12.275563057637045, 'max': 14.165244998967387}6}}}}\n",
      "Overflowon 1304: {'avg': 16.327946399404265, 'std': 1.9750635947806283, 'min': 13.436148885869095, 'max': 19.520805660876057}}\n",
      "Overflowon 1365: {'avg': 16.722315882566132, 'std': 2.8394361508857293, 'min': 12.92747925518061, 'max': 20.698625565479983}2}\n",
      "Overflowon 1372: {'avg': 16.357674234821, 'std': 1.2971872628433982, 'min': 13.635781751703174, 'max': 18.36695560363174}715}\n",
      "Overflowon 1561: {'avg': 15.940348103086214, 'std': 2.4129057374079728, 'min': 12.916017720834839, 'max': 19.95521271620503}}}\n",
      "Running with seed=5, solver=LSODA, error=MSE'std': 0.0004021634029961855, 'min': 4.330803460270343, 'max': 4.332413889132292}4}}}\n"
     ]
    },
    {
     "name": "stderr",
     "output_type": "stream",
     "text": [
      "C:\\Users\\anabi\\AppData\\Local\\Packages\\PythonSoftwareFoundation.Python.3.10_qbz5n2kfra8p0\\LocalCache\\local-packages\\Python310\\site-packages\\deap\\creator.py:185: RuntimeWarning: A class named 'FitnessMin' has already been created and it will be overwritten. Consider deleting previous creation of that class or rename it.\n",
      "  warnings.warn(\"A class named '{0}' has already been created and it \"\n",
      "C:\\Users\\anabi\\AppData\\Local\\Packages\\PythonSoftwareFoundation.Python.3.10_qbz5n2kfra8p0\\LocalCache\\local-packages\\Python310\\site-packages\\deap\\creator.py:185: RuntimeWarning: A class named 'Individual' has already been created and it will be overwritten. Consider deleting previous creation of that class or rename it.\n",
      "  warnings.warn(\"A class named '{0}' has already been created and it \"\n",
      "C:\\Users\\anabi\\AppData\\Local\\Packages\\PythonSoftwareFoundation.Python.3.10_qbz5n2kfra8p0\\LocalCache\\local-packages\\Python310\\site-packages\\scipy\\integrate\\_ode.py:1348: UserWarning: lsoda: Repeated error test failures (internal error).\n",
      "  warnings.warn('{:s}: {:s}'.format(self.__class__.__name__,\n"
     ]
    },
    {
     "name": "stdout",
     "output_type": "stream",
     "text": [
      "Overflowon 1225: {'avg': 0.46242925828464576, 'std': 0.09140657962607063, 'min': 0.34766997590709914, 'max': 0.6411757255659944}}}}}\n",
      "Overflowon 1242: {'avg': 0.5221168803351247, 'std': 0.11844212804612049, 'min': 0.3479149380798442, 'max': 0.7274372963769988}3}\n",
      "Overflowon 1758: {'avg': 0.4077413581911553, 'std': 0.05111431377675847, 'min': 0.33766773133559874, 'max': 0.4862921953388143}}}}\n",
      "Overflowon 3584: {'avg': 0.3971224496033637, 'std': 0.11730877102020196, 'min': 0.33531777253259915, 'max': 0.8223125873658608}}}}}}\n",
      "Overflowon 3757: {'avg': 0.4279430442401926, 'std': 0.11036463088554134, 'min': 0.3385399331332433, 'max': 0.8019091811463199}35}}\n",
      "Overflowon 3853: {'avg': 0.37868370891165337, 'std': 0.09715223704098061, 'min': 0.3145702813397071, 'max': 0.6205171106675939}}5}\n",
      "Overflowon 4206: {'avg': 0.5085218068335284, 'std': 0.20815705149600783, 'min': 0.3036533991020467, 'max': 0.9101434889476788}}}}}}\n",
      "Running with seed=5, solver=LSODA, error=MABS 'std': 0.011300642474451575, 'min': 0.0786586212052367, 'max': 0.11745201588252409}}}}\n"
     ]
    },
    {
     "name": "stderr",
     "output_type": "stream",
     "text": [
      "C:\\Users\\anabi\\AppData\\Local\\Packages\\PythonSoftwareFoundation.Python.3.10_qbz5n2kfra8p0\\LocalCache\\local-packages\\Python310\\site-packages\\deap\\creator.py:185: RuntimeWarning: A class named 'FitnessMin' has already been created and it will be overwritten. Consider deleting previous creation of that class or rename it.\n",
      "  warnings.warn(\"A class named '{0}' has already been created and it \"\n",
      "C:\\Users\\anabi\\AppData\\Local\\Packages\\PythonSoftwareFoundation.Python.3.10_qbz5n2kfra8p0\\LocalCache\\local-packages\\Python310\\site-packages\\deap\\creator.py:185: RuntimeWarning: A class named 'Individual' has already been created and it will be overwritten. Consider deleting previous creation of that class or rename it.\n",
      "  warnings.warn(\"A class named '{0}' has already been created and it \"\n",
      "C:\\Users\\anabi\\AppData\\Local\\Packages\\PythonSoftwareFoundation.Python.3.10_qbz5n2kfra8p0\\LocalCache\\local-packages\\Python310\\site-packages\\scipy\\integrate\\_ode.py:1348: UserWarning: lsoda: Repeated error test failures (internal error).\n",
      "  warnings.warn('{:s}: {:s}'.format(self.__class__.__name__,\n"
     ]
    },
    {
     "name": "stdout",
     "output_type": "stream",
     "text": [
      "Overflowon 0: {'avg': 0.6311701565981013, 'std': 0.11352784292952418, 'min': 0.391745, 'max': 0.7540113954069695}\n",
      "Overflowon 63: {'avg': 0.567320078675894, 'std': 0.07700461314719374, 'min': 0.4465055265738226, 'max': 0.714425078131816}1}}}\n",
      "Overflowon 106: {'avg': 0.5639398507949597, 'std': 0.08285390552858164, 'min': 0.4720201269395492, 'max': 0.7207453371414435}}\n",
      "Overflowon 262: {'avg': 0.5674405511663557, 'std': 0.0931253929152733, 'min': 0.4373232686755967, 'max': 0.766636173783662}83}}}\n",
      "Overflowon 265: {'avg': 0.6011823447028475, 'std': 0.09017503156789793, 'min': 0.46049575952621086, 'max': 0.7138774000700275}\n",
      "Overflowon 495: {'avg': 0.5875617646298456, 'std': 0.08571021399554937, 'min': 0.4475359391598527, 'max': 0.715434474001866}3}}}\n",
      "Overflowon 535: {'avg': 0.4815476552338936, 'std': 0.053587009218642644, 'min': 0.4241269494981143, 'max': 0.57381775652993}}6}\n",
      "Overflowon 540: {'avg': 0.5713788252833485, 'std': 0.08806430357505655, 'min': 0.45230408386976756, 'max': 0.7100967387884273}\n",
      "Overflowon 546: {'avg': 0.5772238034845919, 'std': 0.10013936140056931, 'min': 0.4432379433745918, 'max': 0.7672797468581751}}\n",
      "Overflow\n",
      "Overflowon 595: {'avg': 0.5729875732750844, 'std': 0.0820303221702726, 'min': 0.4458525909827404, 'max': 0.686379955776807}}2}}}\n",
      "Overflowon 766: {'avg': 0.5750923106562555, 'std': 0.08856388674415559, 'min': 0.4494319584963038, 'max': 0.7633225654474904}}}}\n",
      "Overflowon 767: {'avg': 66667.21833142845, 'std': 249443.67834633135, 'min': 0.391745, 'max': 1000000.0}\n",
      "Overflowon 805: {'avg': 0.5146062677505913, 'std': 0.07671103898934636, 'min': 0.44940690512629194, 'max': 0.7219447387539044}}\n",
      "Overflowon 826: {'avg': 0.6475895880245249, 'std': 0.07754589051513704, 'min': 0.5158030923823866, 'max': 0.8118723208743677}9}\n",
      "Overflowon 829: {'avg': 0.6173276630200565, 'std': 0.10528004705818658, 'min': 0.41912994876317594, 'max': 0.7334215681558202}\n",
      "Overflowon 966: {'avg': 0.5447000571441176, 'std': 0.07638721839885405, 'min': 0.4502339337358145, 'max': 0.6715298378262564}}5}\n",
      "Overflowon 967: {'avg': 66667.14863008275, 'std': 249443.69697479936, 'min': 0.4446171708213253, 'max': 1000000.0}\n",
      "Overflowon 1127: {'avg': 0.5444263501938587, 'std': 0.08625061658958895, 'min': 0.4433694600484499, 'max': 0.7084179994225734}664}\n",
      "Overflowon 1135: {'avg': 0.5409751717949313, 'std': 0.07531153136467461, 'min': 0.453155216772212, 'max': 0.6840300563418363}}}\n",
      "Overflowon 1501: {'avg': 0.561923602468914, 'std': 0.0950142610634863, 'min': 0.4440482569767249, 'max': 0.6851721042499332}8}}77}\n",
      "Overflowon 1511: {'avg': 0.5203926665787809, 'std': 0.057252857963859795, 'min': 0.4357638677849261, 'max': 0.6448749069939389}}\n",
      "Overflowon 1566: {'avg': 0.4647612798710974, 'std': 0.033961071634018646, 'min': 0.41578053401619247, 'max': 0.5309284016766929}}\n",
      "Overflowon 1642: {'avg': 0.4797773413001636, 'std': 0.05783405116405556, 'min': 0.43435802470925383, 'max': 0.6614251184601118}75}\n",
      "Overflowon 4799: {'avg': 0.48867623574444646, 'std': 0.09276204450392529, 'min': 0.4044233455744394, 'max': 0.7095888857450795}}}}}}\n",
      "Overflowon 5021: {'avg': 0.3894888907301982, 'std': 0.008663163478758474, 'min': 0.3731523573664577, 'max': 0.40343368664572016}5}}\n",
      "Running with seed=6, solver=RK45, error=ABS6, 'std': 1.171343114402331e-05, 'min': 0.09722667912369984, 'max': 0.09726301485451665}}\n"
     ]
    },
    {
     "name": "stderr",
     "output_type": "stream",
     "text": [
      "C:\\Users\\anabi\\AppData\\Local\\Packages\\PythonSoftwareFoundation.Python.3.10_qbz5n2kfra8p0\\LocalCache\\local-packages\\Python310\\site-packages\\deap\\creator.py:185: RuntimeWarning: A class named 'FitnessMin' has already been created and it will be overwritten. Consider deleting previous creation of that class or rename it.\n",
      "  warnings.warn(\"A class named '{0}' has already been created and it \"\n",
      "C:\\Users\\anabi\\AppData\\Local\\Packages\\PythonSoftwareFoundation.Python.3.10_qbz5n2kfra8p0\\LocalCache\\local-packages\\Python310\\site-packages\\deap\\creator.py:185: RuntimeWarning: A class named 'Individual' has already been created and it will be overwritten. Consider deleting previous creation of that class or rename it.\n",
      "  warnings.warn(\"A class named '{0}' has already been created and it \"\n",
      "C:\\Users\\anabi\\AppData\\Local\\Packages\\PythonSoftwareFoundation.Python.3.10_qbz5n2kfra8p0\\LocalCache\\local-packages\\Python310\\site-packages\\scipy\\integrate\\_ivp\\common.py:39: UserWarning: The following arguments have no effect for a chosen solver: `min_step`.\n",
      "  warn(\"The following arguments have no effect for a chosen solver: {}.\"\n"
     ]
    },
    {
     "name": "stdout",
     "output_type": "stream",
     "text": [
      "Running with seed=6, solver=RK45, error=SQUAREDtd': 4.232282234138915e-06, 'min': 170.51064793658736, 'max': 170.51066465914454}}\n"
     ]
    },
    {
     "name": "stderr",
     "output_type": "stream",
     "text": [
      "C:\\Users\\anabi\\AppData\\Local\\Packages\\PythonSoftwareFoundation.Python.3.10_qbz5n2kfra8p0\\LocalCache\\local-packages\\Python310\\site-packages\\deap\\creator.py:185: RuntimeWarning: A class named 'FitnessMin' has already been created and it will be overwritten. Consider deleting previous creation of that class or rename it.\n",
      "  warnings.warn(\"A class named '{0}' has already been created and it \"\n",
      "C:\\Users\\anabi\\AppData\\Local\\Packages\\PythonSoftwareFoundation.Python.3.10_qbz5n2kfra8p0\\LocalCache\\local-packages\\Python310\\site-packages\\deap\\creator.py:185: RuntimeWarning: A class named 'Individual' has already been created and it will be overwritten. Consider deleting previous creation of that class or rename it.\n",
      "  warnings.warn(\"A class named '{0}' has already been created and it \"\n",
      "C:\\Users\\anabi\\AppData\\Local\\Packages\\PythonSoftwareFoundation.Python.3.10_qbz5n2kfra8p0\\LocalCache\\local-packages\\Python310\\site-packages\\scipy\\integrate\\_ivp\\common.py:39: UserWarning: The following arguments have no effect for a chosen solver: `min_step`.\n",
      "  warn(\"The following arguments have no effect for a chosen solver: {}.\"\n"
     ]
    },
    {
     "name": "stdout",
     "output_type": "stream",
     "text": [
      "Running with seed=6, solver=RK45, error=MSE 'std': 1.5110024876502781, 'min': 12.176720028144091, 'max': 18.480399386393884}}}}}\n"
     ]
    },
    {
     "name": "stderr",
     "output_type": "stream",
     "text": [
      "C:\\Users\\anabi\\AppData\\Local\\Packages\\PythonSoftwareFoundation.Python.3.10_qbz5n2kfra8p0\\LocalCache\\local-packages\\Python310\\site-packages\\deap\\creator.py:185: RuntimeWarning: A class named 'FitnessMin' has already been created and it will be overwritten. Consider deleting previous creation of that class or rename it.\n",
      "  warnings.warn(\"A class named '{0}' has already been created and it \"\n",
      "C:\\Users\\anabi\\AppData\\Local\\Packages\\PythonSoftwareFoundation.Python.3.10_qbz5n2kfra8p0\\LocalCache\\local-packages\\Python310\\site-packages\\deap\\creator.py:185: RuntimeWarning: A class named 'Individual' has already been created and it will be overwritten. Consider deleting previous creation of that class or rename it.\n",
      "  warnings.warn(\"A class named '{0}' has already been created and it \"\n",
      "C:\\Users\\anabi\\AppData\\Local\\Packages\\PythonSoftwareFoundation.Python.3.10_qbz5n2kfra8p0\\LocalCache\\local-packages\\Python310\\site-packages\\scipy\\integrate\\_ivp\\common.py:39: UserWarning: The following arguments have no effect for a chosen solver: `min_step`.\n",
      "  warn(\"The following arguments have no effect for a chosen solver: {}.\"\n"
     ]
    },
    {
     "name": "stdout",
     "output_type": "stream",
     "text": [
      "Running with seed=6, solver=RK45, error=MABS, 'std': 0.00020869480357305498, 'min': 0.24360457443663255, 'max': 0.24446702557603622}\n"
     ]
    },
    {
     "name": "stderr",
     "output_type": "stream",
     "text": [
      "C:\\Users\\anabi\\AppData\\Local\\Packages\\PythonSoftwareFoundation.Python.3.10_qbz5n2kfra8p0\\LocalCache\\local-packages\\Python310\\site-packages\\deap\\creator.py:185: RuntimeWarning: A class named 'FitnessMin' has already been created and it will be overwritten. Consider deleting previous creation of that class or rename it.\n",
      "  warnings.warn(\"A class named '{0}' has already been created and it \"\n",
      "C:\\Users\\anabi\\AppData\\Local\\Packages\\PythonSoftwareFoundation.Python.3.10_qbz5n2kfra8p0\\LocalCache\\local-packages\\Python310\\site-packages\\deap\\creator.py:185: RuntimeWarning: A class named 'Individual' has already been created and it will be overwritten. Consider deleting previous creation of that class or rename it.\n",
      "  warnings.warn(\"A class named '{0}' has already been created and it \"\n",
      "C:\\Users\\anabi\\AppData\\Local\\Packages\\PythonSoftwareFoundation.Python.3.10_qbz5n2kfra8p0\\LocalCache\\local-packages\\Python310\\site-packages\\scipy\\integrate\\_ivp\\common.py:39: UserWarning: The following arguments have no effect for a chosen solver: `min_step`.\n",
      "  warn(\"The following arguments have no effect for a chosen solver: {}.\"\n"
     ]
    },
    {
     "name": "stdout",
     "output_type": "stream",
     "text": [
      "Running with seed=6, solver=DOP853, error=ABS 'std': 6.206792094945586e-05, 'min': 0.33495645058719914, 'max': 0.3351421263566744}}}\n"
     ]
    },
    {
     "name": "stderr",
     "output_type": "stream",
     "text": [
      "C:\\Users\\anabi\\AppData\\Local\\Packages\\PythonSoftwareFoundation.Python.3.10_qbz5n2kfra8p0\\LocalCache\\local-packages\\Python310\\site-packages\\deap\\creator.py:185: RuntimeWarning: A class named 'FitnessMin' has already been created and it will be overwritten. Consider deleting previous creation of that class or rename it.\n",
      "  warnings.warn(\"A class named '{0}' has already been created and it \"\n",
      "C:\\Users\\anabi\\AppData\\Local\\Packages\\PythonSoftwareFoundation.Python.3.10_qbz5n2kfra8p0\\LocalCache\\local-packages\\Python310\\site-packages\\deap\\creator.py:185: RuntimeWarning: A class named 'Individual' has already been created and it will be overwritten. Consider deleting previous creation of that class or rename it.\n",
      "  warnings.warn(\"A class named '{0}' has already been created and it \"\n",
      "C:\\Users\\anabi\\AppData\\Local\\Packages\\PythonSoftwareFoundation.Python.3.10_qbz5n2kfra8p0\\LocalCache\\local-packages\\Python310\\site-packages\\scipy\\integrate\\_ivp\\common.py:39: UserWarning: The following arguments have no effect for a chosen solver: `min_step`.\n",
      "  warn(\"The following arguments have no effect for a chosen solver: {}.\"\n"
     ]
    },
    {
     "name": "stdout",
     "output_type": "stream",
     "text": [
      "Running with seed=6, solver=DOP853, error=SQUARED: 0.08078433607129236, 'min': 166.47189666495066, 'max': 166.82442581093716}}}\n"
     ]
    },
    {
     "name": "stderr",
     "output_type": "stream",
     "text": [
      "C:\\Users\\anabi\\AppData\\Local\\Packages\\PythonSoftwareFoundation.Python.3.10_qbz5n2kfra8p0\\LocalCache\\local-packages\\Python310\\site-packages\\deap\\creator.py:185: RuntimeWarning: A class named 'FitnessMin' has already been created and it will be overwritten. Consider deleting previous creation of that class or rename it.\n",
      "  warnings.warn(\"A class named '{0}' has already been created and it \"\n",
      "C:\\Users\\anabi\\AppData\\Local\\Packages\\PythonSoftwareFoundation.Python.3.10_qbz5n2kfra8p0\\LocalCache\\local-packages\\Python310\\site-packages\\deap\\creator.py:185: RuntimeWarning: A class named 'Individual' has already been created and it will be overwritten. Consider deleting previous creation of that class or rename it.\n",
      "  warnings.warn(\"A class named '{0}' has already been created and it \"\n",
      "C:\\Users\\anabi\\AppData\\Local\\Packages\\PythonSoftwareFoundation.Python.3.10_qbz5n2kfra8p0\\LocalCache\\local-packages\\Python310\\site-packages\\scipy\\integrate\\_ivp\\common.py:39: UserWarning: The following arguments have no effect for a chosen solver: `min_step`.\n",
      "  warn(\"The following arguments have no effect for a chosen solver: {}.\"\n"
     ]
    },
    {
     "name": "stdout",
     "output_type": "stream",
     "text": [
      "Running with seed=6, solver=DOP853, error=MSE'std': 0.0011271175288927518, 'min': 10.770328591989951, 'max': 10.77293227740811}}}\n"
     ]
    },
    {
     "name": "stderr",
     "output_type": "stream",
     "text": [
      "C:\\Users\\anabi\\AppData\\Local\\Packages\\PythonSoftwareFoundation.Python.3.10_qbz5n2kfra8p0\\LocalCache\\local-packages\\Python310\\site-packages\\deap\\creator.py:185: RuntimeWarning: A class named 'FitnessMin' has already been created and it will be overwritten. Consider deleting previous creation of that class or rename it.\n",
      "  warnings.warn(\"A class named '{0}' has already been created and it \"\n",
      "C:\\Users\\anabi\\AppData\\Local\\Packages\\PythonSoftwareFoundation.Python.3.10_qbz5n2kfra8p0\\LocalCache\\local-packages\\Python310\\site-packages\\deap\\creator.py:185: RuntimeWarning: A class named 'Individual' has already been created and it will be overwritten. Consider deleting previous creation of that class or rename it.\n",
      "  warnings.warn(\"A class named '{0}' has already been created and it \"\n",
      "C:\\Users\\anabi\\AppData\\Local\\Packages\\PythonSoftwareFoundation.Python.3.10_qbz5n2kfra8p0\\LocalCache\\local-packages\\Python310\\site-packages\\scipy\\integrate\\_ivp\\common.py:39: UserWarning: The following arguments have no effect for a chosen solver: `min_step`.\n",
      "  warn(\"The following arguments have no effect for a chosen solver: {}.\"\n"
     ]
    },
    {
     "name": "stdout",
     "output_type": "stream",
     "text": [
      "Running with seed=6, solver=DOP853, error=MABS'std': 0.0954190581993579, 'min': 0.03092751474370769, 'max': 0.3145818555439641}644}1}}}\n"
     ]
    },
    {
     "name": "stderr",
     "output_type": "stream",
     "text": [
      "C:\\Users\\anabi\\AppData\\Local\\Packages\\PythonSoftwareFoundation.Python.3.10_qbz5n2kfra8p0\\LocalCache\\local-packages\\Python310\\site-packages\\deap\\creator.py:185: RuntimeWarning: A class named 'FitnessMin' has already been created and it will be overwritten. Consider deleting previous creation of that class or rename it.\n",
      "  warnings.warn(\"A class named '{0}' has already been created and it \"\n",
      "C:\\Users\\anabi\\AppData\\Local\\Packages\\PythonSoftwareFoundation.Python.3.10_qbz5n2kfra8p0\\LocalCache\\local-packages\\Python310\\site-packages\\deap\\creator.py:185: RuntimeWarning: A class named 'Individual' has already been created and it will be overwritten. Consider deleting previous creation of that class or rename it.\n",
      "  warnings.warn(\"A class named '{0}' has already been created and it \"\n",
      "C:\\Users\\anabi\\AppData\\Local\\Packages\\PythonSoftwareFoundation.Python.3.10_qbz5n2kfra8p0\\LocalCache\\local-packages\\Python310\\site-packages\\scipy\\integrate\\_ivp\\common.py:39: UserWarning: The following arguments have no effect for a chosen solver: `min_step`.\n",
      "  warn(\"The following arguments have no effect for a chosen solver: {}.\"\n"
     ]
    },
    {
     "name": "stdout",
     "output_type": "stream",
     "text": [
      "Running with seed=6, solver=LSODA, error=ABS 'std': 0.0001615686721425933, 'min': 0.33294379332990137, 'max': 0.33364885162187435}}}\n"
     ]
    },
    {
     "name": "stderr",
     "output_type": "stream",
     "text": [
      "C:\\Users\\anabi\\AppData\\Local\\Packages\\PythonSoftwareFoundation.Python.3.10_qbz5n2kfra8p0\\LocalCache\\local-packages\\Python310\\site-packages\\deap\\creator.py:185: RuntimeWarning: A class named 'FitnessMin' has already been created and it will be overwritten. Consider deleting previous creation of that class or rename it.\n",
      "  warnings.warn(\"A class named '{0}' has already been created and it \"\n",
      "C:\\Users\\anabi\\AppData\\Local\\Packages\\PythonSoftwareFoundation.Python.3.10_qbz5n2kfra8p0\\LocalCache\\local-packages\\Python310\\site-packages\\deap\\creator.py:185: RuntimeWarning: A class named 'Individual' has already been created and it will be overwritten. Consider deleting previous creation of that class or rename it.\n",
      "  warnings.warn(\"A class named '{0}' has already been created and it \"\n"
     ]
    },
    {
     "name": "stdout",
     "output_type": "stream",
     "text": [
      "Generation 3: {'avg': 304.35833325806766, 'std': 45.727195092491414, 'min': 231.94221809435945, 'max': 356.60562321117504}\r"
     ]
    },
    {
     "name": "stderr",
     "output_type": "stream",
     "text": [
      "C:\\Users\\anabi\\AppData\\Local\\Packages\\PythonSoftwareFoundation.Python.3.10_qbz5n2kfra8p0\\LocalCache\\local-packages\\Python310\\site-packages\\scipy\\integrate\\_ode.py:1348: UserWarning: lsoda: Repeated error test failures (internal error).\n",
      "  warnings.warn('{:s}: {:s}'.format(self.__class__.__name__,\n"
     ]
    },
    {
     "name": "stdout",
     "output_type": "stream",
     "text": [
      "Overflow\n",
      "Overflowon 9: {'avg': 314.27598718122164, 'std': 43.774436688681845, 'min': 234.8177376768255, 'max': 361.3103536458022}\n",
      "Overflowon 146: {'avg': 255.50386501221496, 'std': 31.297657934276472, 'min': 215.14471407479212, 'max': 323.3449392490621}}\n",
      "Overflowon 451: {'avg': 260.0999558039493, 'std': 32.268065087591516, 'min': 218.2706654822562, 'max': 317.83282272253047}}}\n",
      "Overflowon 601: {'avg': 281.63030551415073, 'std': 34.28877333753394, 'min': 236.1433002868777, 'max': 339.10372421286627}5}\n",
      "Overflowon 719: {'avg': 294.1793992352538, 'std': 38.13021821464828, 'min': 235.61934401828324, 'max': 351.4804366750477}6}}\n",
      "Overflowon 782: {'avg': 301.3736239069176, 'std': 48.450103521516205, 'min': 233.0931635397658, 'max': 377.9207867661943}14}\n",
      "Overflowon 832: {'avg': 286.42391458740593, 'std': 34.22542478897613, 'min': 233.61393277767897, 'max': 363.3940949230747}}}\n",
      "Overflow\n",
      "Overflowon 1194: {'avg': 230.6565912759837, 'std': 23.831178853120612, 'min': 208.32004358135944, 'max': 275.69597229622525}}\n",
      "Overflowon 1604: {'avg': 248.0710283209834, 'std': 25.979197180758693, 'min': 221.9369288414489, 'max': 299.28559461776524}}}\n",
      "Overflowon 2149: {'avg': 240.0696013146715, 'std': 31.256782895410698, 'min': 212.71957462214024, 'max': 346.48369097127176}}\n",
      "Overflowon 2455: {'avg': 231.27663708802336, 'std': 22.076365262593317, 'min': 210.02499328960346, 'max': 299.85909413933706}\n",
      "Overflowon 2820: {'avg': 259.9681017639702, 'std': 36.80159111889567, 'min': 215.22046578934376, 'max': 349.6987323499193}}}}\n",
      "Overflowon 3579: {'avg': 218.06683831732892, 'std': 6.956797431990553, 'min': 208.174731182911, 'max': 226.70796234689627}}}}\n",
      "Overflowon 3854: {'avg': 213.1658738817707, 'std': 4.518687925797251, 'min': 204.46531064318123, 'max': 220.22980116597327}}}\n",
      "Running with seed=6, solver=LSODA, error=SQUARED': 0.021869891402934338, 'min': 49.531421880830194, 'max': 49.62135132117704}}}}}\n"
     ]
    },
    {
     "name": "stderr",
     "output_type": "stream",
     "text": [
      "C:\\Users\\anabi\\AppData\\Local\\Packages\\PythonSoftwareFoundation.Python.3.10_qbz5n2kfra8p0\\LocalCache\\local-packages\\Python310\\site-packages\\deap\\creator.py:185: RuntimeWarning: A class named 'FitnessMin' has already been created and it will be overwritten. Consider deleting previous creation of that class or rename it.\n",
      "  warnings.warn(\"A class named '{0}' has already been created and it \"\n",
      "C:\\Users\\anabi\\AppData\\Local\\Packages\\PythonSoftwareFoundation.Python.3.10_qbz5n2kfra8p0\\LocalCache\\local-packages\\Python310\\site-packages\\deap\\creator.py:185: RuntimeWarning: A class named 'Individual' has already been created and it will be overwritten. Consider deleting previous creation of that class or rename it.\n",
      "  warnings.warn(\"A class named '{0}' has already been created and it \"\n"
     ]
    },
    {
     "name": "stdout",
     "output_type": "stream",
     "text": [
      "Generation 269: {'avg': 16.526667753776792, 'std': 1.9512882311891298, 'min': 13.443184283976228, 'max': 19.613385948685476}}\r"
     ]
    },
    {
     "name": "stderr",
     "output_type": "stream",
     "text": [
      "C:\\Users\\anabi\\AppData\\Local\\Packages\\PythonSoftwareFoundation.Python.3.10_qbz5n2kfra8p0\\LocalCache\\local-packages\\Python310\\site-packages\\scipy\\integrate\\_ode.py:1348: UserWarning: lsoda: Repeated error test failures (internal error).\n",
      "  warnings.warn('{:s}: {:s}'.format(self.__class__.__name__,\n"
     ]
    },
    {
     "name": "stdout",
     "output_type": "stream",
     "text": [
      "Overflowon 606: {'avg': 16.396277292573608, 'std': 1.670905524806542, 'min': 13.55769726372609, 'max': 18.844763224282392}7}}}\n",
      "Overflowon 608: {'avg': 16.666183380580016, 'std': 1.993037689924502, 'min': 13.454462421731966, 'max': 19.863865405107102}\n",
      "Overflowon 657: {'avg': 15.782067814413885, 'std': 2.29559285780896, 'min': 12.716004381588624, 'max': 20.882821105697726}5}}\n",
      "Overflowon 1613: {'avg': 14.464488901387675, 'std': 1.6973284074276405, 'min': 12.937733292604568, 'max': 18.99365959239009}}}}}\n",
      "Overflowon 1932: {'avg': 16.386363021812194, 'std': 2.0974616135872584, 'min': 13.412173144433808, 'max': 20.800767898916323}}\n",
      "Overflowon 2072: {'avg': 17.698538476874106, 'std': 2.372569788574929, 'min': 13.837204742908888, 'max': 22.115025806533318}}}\n",
      "Running with seed=6, solver=LSODA, error=MSEstd': 0.0013837430982267295, 'min': 5.284050977143387, 'max': 5.289049781181279}}75}}\n"
     ]
    },
    {
     "name": "stderr",
     "output_type": "stream",
     "text": [
      "C:\\Users\\anabi\\AppData\\Local\\Packages\\PythonSoftwareFoundation.Python.3.10_qbz5n2kfra8p0\\LocalCache\\local-packages\\Python310\\site-packages\\deap\\creator.py:185: RuntimeWarning: A class named 'FitnessMin' has already been created and it will be overwritten. Consider deleting previous creation of that class or rename it.\n",
      "  warnings.warn(\"A class named '{0}' has already been created and it \"\n",
      "C:\\Users\\anabi\\AppData\\Local\\Packages\\PythonSoftwareFoundation.Python.3.10_qbz5n2kfra8p0\\LocalCache\\local-packages\\Python310\\site-packages\\deap\\creator.py:185: RuntimeWarning: A class named 'Individual' has already been created and it will be overwritten. Consider deleting previous creation of that class or rename it.\n",
      "  warnings.warn(\"A class named '{0}' has already been created and it \"\n"
     ]
    },
    {
     "name": "stdout",
     "output_type": "stream",
     "text": [
      "Generation 269: {'avg': 0.5538765456098056, 'std': 0.12861847271730042, 'min': 0.36143840738589095, 'max': 0.769369816744186}8}}}\r"
     ]
    },
    {
     "name": "stderr",
     "output_type": "stream",
     "text": [
      "C:\\Users\\anabi\\AppData\\Local\\Packages\\PythonSoftwareFoundation.Python.3.10_qbz5n2kfra8p0\\LocalCache\\local-packages\\Python310\\site-packages\\scipy\\integrate\\_ode.py:1348: UserWarning: lsoda: Repeated error test failures (internal error).\n",
      "  warnings.warn('{:s}: {:s}'.format(self.__class__.__name__,\n"
     ]
    },
    {
     "name": "stdout",
     "output_type": "stream",
     "text": [
      "Overflowon 606: {'avg': 0.543259668655588, 'std': 0.10754930582787917, 'min': 0.3676223101896917, 'max': 0.7102502019585324}8}}}}}\n",
      "Overflowon 608: {'avg': 0.5634677354171621, 'std': 0.13348493101007458, 'min': 0.3620451181155952, 'max': 0.7891462976644215}\n",
      "Overflowon 657: {'avg': 0.5086868221351643, 'std': 0.1535802322188559, 'min': 0.3233935348651622, 'max': 0.8721844346651487}3}}}\n",
      "Overflowon 1637: {'avg': 0.39370112916306915, 'std': 0.04367522701850528, 'min': 0.3388312494227439, 'max': 0.46381564341490916}}}}}\n",
      "Overflowon 1846: {'avg': 0.4240480056538686, 'std': 0.09843547886760312, 'min': 0.33666532331126575, 'max': 0.6638660907802976}}}}\n",
      "Overflowon 1851: {'avg': 0.38594894372837846, 'std': 0.04815964229862259, 'min': 0.33482551121670723, 'max': 0.4678338980247489}4}\n",
      "Overflowon 2500: {'avg': 0.2902010858414369, 'std': 0.005503117284480351, 'min': 0.28186933152428245, 'max': 0.30638021833123336}}}\n",
      "Overflowon 3739: {'avg': 0.2841034302546011, 'std': 0.011338580693974426, 'min': 0.27286393743749104, 'max': 0.3163299332024342}}}}}\n",
      "Overflowon 4765: {'avg': 0.2705283522590018, 'std': 0.009325730853133101, 'min': 0.2590053019809224, 'max': 0.29560490879546375}}}}\n",
      "Overflowon 5066: {'avg': 0.3409710616323229, 'std': 0.05366373973520585, 'min': 0.27334407183397613, 'max': 0.44916305491422925}7}}\n",
      "Running with seed=6, solver=LSODA, error=MABS 'std': 0.0006206278055830562, 'min': 0.23307565417231674, 'max': 0.23556803291215317}}\n"
     ]
    },
    {
     "name": "stderr",
     "output_type": "stream",
     "text": [
      "C:\\Users\\anabi\\AppData\\Local\\Packages\\PythonSoftwareFoundation.Python.3.10_qbz5n2kfra8p0\\LocalCache\\local-packages\\Python310\\site-packages\\deap\\creator.py:185: RuntimeWarning: A class named 'FitnessMin' has already been created and it will be overwritten. Consider deleting previous creation of that class or rename it.\n",
      "  warnings.warn(\"A class named '{0}' has already been created and it \"\n",
      "C:\\Users\\anabi\\AppData\\Local\\Packages\\PythonSoftwareFoundation.Python.3.10_qbz5n2kfra8p0\\LocalCache\\local-packages\\Python310\\site-packages\\deap\\creator.py:185: RuntimeWarning: A class named 'Individual' has already been created and it will be overwritten. Consider deleting previous creation of that class or rename it.\n",
      "  warnings.warn(\"A class named '{0}' has already been created and it \"\n"
     ]
    },
    {
     "name": "stdout",
     "output_type": "stream",
     "text": [
      "Generation 3: {'avg': 0.6087166665161352, 'std': 0.0914543901849829, 'min': 0.46388443618871866, 'max': 0.7132112464223503}}\r"
     ]
    },
    {
     "name": "stderr",
     "output_type": "stream",
     "text": [
      "C:\\Users\\anabi\\AppData\\Local\\Packages\\PythonSoftwareFoundation.Python.3.10_qbz5n2kfra8p0\\LocalCache\\local-packages\\Python310\\site-packages\\scipy\\integrate\\_ode.py:1348: UserWarning: lsoda: Repeated error test failures (internal error).\n",
      "  warnings.warn('{:s}: {:s}'.format(self.__class__.__name__,\n"
     ]
    },
    {
     "name": "stdout",
     "output_type": "stream",
     "text": [
      "Overflow\n",
      "Overflowon 9: {'avg': 0.6285519743624431, 'std': 0.08754887337736374, 'min': 0.46963547535365097, 'max': 0.7226207072916045}\n",
      "Overflowon 146: {'avg': 0.5110077300244299, 'std': 0.06259531586855292, 'min': 0.43028942814958426, 'max': 0.6466898784981242}4}}\n",
      "Overflowon 451: {'avg': 0.5201999116078985, 'std': 0.06453613017518303, 'min': 0.4365413309645123, 'max': 0.6356656454450609}}3}}\n",
      "Overflowon 601: {'avg': 0.5632606110283014, 'std': 0.06857754667506785, 'min': 0.47228660057375543, 'max': 0.6782074484257324}}}}\n",
      "Overflowon 719: {'avg': 0.5883587984705075, 'std': 0.07626043642929659, 'min': 0.4712386880365665, 'max': 0.7029608733500954}}}}\n",
      "Overflowon 782: {'avg': 0.6027472478138353, 'std': 0.09690020704303241, 'min': 0.4661863270795316, 'max': 0.7558415735323883}}}\n",
      "Overflowon 832: {'avg': 0.5728478291748117, 'std': 0.06845084957795226, 'min': 0.4672278655553579, 'max': 0.7267881898461495}}}\n",
      "Overflow\n",
      "Overflowon 1194: {'avg': 0.4613131825519675, 'std': 0.04766235770624118, 'min': 0.41664008716271894, 'max': 0.5513919445924503}}}\n",
      "Overflowon 1604: {'avg': 0.4961420566419668, 'std': 0.05195839436151736, 'min': 0.4438738576828978, 'max': 0.5985711892355302}}}}}\n",
      "Overflowon 2149: {'avg': 0.4801392026293429, 'std': 0.06251356579082139, 'min': 0.4254391492442804, 'max': 0.6929673819425434}2}}}}\n",
      "Overflowon 2455: {'avg': 0.46255327417604664, 'std': 0.044152730525186604, 'min': 0.42004998657920695, 'max': 0.5997181882786741}}\n",
      "Overflowon 2820: {'avg': 0.5199362035279403, 'std': 0.07360318223779136, 'min': 0.43044093157868746, 'max': 0.6993974646998385}}}}\n",
      "Overflowon 3579: {'avg': 0.4361336766346578, 'std': 0.013913594863981128, 'min': 0.41634946236582193, 'max': 0.4534159246937923}}}}\n",
      "Overflowon 3854: {'avg': 0.4263317477635415, 'std': 0.009037375851594474, 'min': 0.40893062128636254, 'max': 0.44045960233194653}}}\n",
      "Running with seed=7, solver=RK45, error=ABS6, 'std': 2.1173487974968127e-05, 'min': 0.09865893299356089, 'max': 0.09874234348104466}\n"
     ]
    },
    {
     "name": "stderr",
     "output_type": "stream",
     "text": [
      "C:\\Users\\anabi\\AppData\\Local\\Packages\\PythonSoftwareFoundation.Python.3.10_qbz5n2kfra8p0\\LocalCache\\local-packages\\Python310\\site-packages\\deap\\creator.py:185: RuntimeWarning: A class named 'FitnessMin' has already been created and it will be overwritten. Consider deleting previous creation of that class or rename it.\n",
      "  warnings.warn(\"A class named '{0}' has already been created and it \"\n",
      "C:\\Users\\anabi\\AppData\\Local\\Packages\\PythonSoftwareFoundation.Python.3.10_qbz5n2kfra8p0\\LocalCache\\local-packages\\Python310\\site-packages\\deap\\creator.py:185: RuntimeWarning: A class named 'Individual' has already been created and it will be overwritten. Consider deleting previous creation of that class or rename it.\n",
      "  warnings.warn(\"A class named '{0}' has already been created and it \"\n",
      "C:\\Users\\anabi\\AppData\\Local\\Packages\\PythonSoftwareFoundation.Python.3.10_qbz5n2kfra8p0\\LocalCache\\local-packages\\Python310\\site-packages\\scipy\\integrate\\_ivp\\common.py:39: UserWarning: The following arguments have no effect for a chosen solver: `min_step`.\n",
      "  warn(\"The following arguments have no effect for a chosen solver: {}.\"\n"
     ]
    },
    {
     "name": "stdout",
     "output_type": "stream",
     "text": [
      "Running with seed=7, solver=RK45, error=SQUAREDtd': 0.5339178834539302, 'min': 170.4606483124564, 'max': 172.0314363591525}}}6}}}\n"
     ]
    },
    {
     "name": "stderr",
     "output_type": "stream",
     "text": [
      "C:\\Users\\anabi\\AppData\\Local\\Packages\\PythonSoftwareFoundation.Python.3.10_qbz5n2kfra8p0\\LocalCache\\local-packages\\Python310\\site-packages\\deap\\creator.py:185: RuntimeWarning: A class named 'FitnessMin' has already been created and it will be overwritten. Consider deleting previous creation of that class or rename it.\n",
      "  warnings.warn(\"A class named '{0}' has already been created and it \"\n",
      "C:\\Users\\anabi\\AppData\\Local\\Packages\\PythonSoftwareFoundation.Python.3.10_qbz5n2kfra8p0\\LocalCache\\local-packages\\Python310\\site-packages\\deap\\creator.py:185: RuntimeWarning: A class named 'Individual' has already been created and it will be overwritten. Consider deleting previous creation of that class or rename it.\n",
      "  warnings.warn(\"A class named '{0}' has already been created and it \"\n",
      "C:\\Users\\anabi\\AppData\\Local\\Packages\\PythonSoftwareFoundation.Python.3.10_qbz5n2kfra8p0\\LocalCache\\local-packages\\Python310\\site-packages\\scipy\\integrate\\_ivp\\common.py:39: UserWarning: The following arguments have no effect for a chosen solver: `min_step`.\n",
      "  warn(\"The following arguments have no effect for a chosen solver: {}.\"\n"
     ]
    },
    {
     "name": "stdout",
     "output_type": "stream",
     "text": [
      "Running with seed=7, solver=RK45, error=MSE, 'std': 0.00029504755770476626, 'min': 11.138558260381377, 'max': 11.139672520899786}\n"
     ]
    },
    {
     "name": "stderr",
     "output_type": "stream",
     "text": [
      "C:\\Users\\anabi\\AppData\\Local\\Packages\\PythonSoftwareFoundation.Python.3.10_qbz5n2kfra8p0\\LocalCache\\local-packages\\Python310\\site-packages\\deap\\creator.py:185: RuntimeWarning: A class named 'FitnessMin' has already been created and it will be overwritten. Consider deleting previous creation of that class or rename it.\n",
      "  warnings.warn(\"A class named '{0}' has already been created and it \"\n",
      "C:\\Users\\anabi\\AppData\\Local\\Packages\\PythonSoftwareFoundation.Python.3.10_qbz5n2kfra8p0\\LocalCache\\local-packages\\Python310\\site-packages\\deap\\creator.py:185: RuntimeWarning: A class named 'Individual' has already been created and it will be overwritten. Consider deleting previous creation of that class or rename it.\n",
      "  warnings.warn(\"A class named '{0}' has already been created and it \"\n",
      "C:\\Users\\anabi\\AppData\\Local\\Packages\\PythonSoftwareFoundation.Python.3.10_qbz5n2kfra8p0\\LocalCache\\local-packages\\Python310\\site-packages\\scipy\\integrate\\_ivp\\common.py:39: UserWarning: The following arguments have no effect for a chosen solver: `min_step`.\n",
      "  warn(\"The following arguments have no effect for a chosen solver: {}.\"\n"
     ]
    },
    {
     "name": "stdout",
     "output_type": "stream",
     "text": [
      "Running with seed=7, solver=RK45, error=MABS, 'std': 5.425036167073889e-06, 'min': 0.2592352404487264, 'max': 0.2592529271263536}7}}\n"
     ]
    },
    {
     "name": "stderr",
     "output_type": "stream",
     "text": [
      "C:\\Users\\anabi\\AppData\\Local\\Packages\\PythonSoftwareFoundation.Python.3.10_qbz5n2kfra8p0\\LocalCache\\local-packages\\Python310\\site-packages\\deap\\creator.py:185: RuntimeWarning: A class named 'FitnessMin' has already been created and it will be overwritten. Consider deleting previous creation of that class or rename it.\n",
      "  warnings.warn(\"A class named '{0}' has already been created and it \"\n",
      "C:\\Users\\anabi\\AppData\\Local\\Packages\\PythonSoftwareFoundation.Python.3.10_qbz5n2kfra8p0\\LocalCache\\local-packages\\Python310\\site-packages\\deap\\creator.py:185: RuntimeWarning: A class named 'Individual' has already been created and it will be overwritten. Consider deleting previous creation of that class or rename it.\n",
      "  warnings.warn(\"A class named '{0}' has already been created and it \"\n",
      "C:\\Users\\anabi\\AppData\\Local\\Packages\\PythonSoftwareFoundation.Python.3.10_qbz5n2kfra8p0\\LocalCache\\local-packages\\Python310\\site-packages\\scipy\\integrate\\_ivp\\common.py:39: UserWarning: The following arguments have no effect for a chosen solver: `min_step`.\n",
      "  warn(\"The following arguments have no effect for a chosen solver: {}.\"\n"
     ]
    },
    {
     "name": "stdout",
     "output_type": "stream",
     "text": [
      "Running with seed=7, solver=DOP853, error=ABS 'std': 0.0007672639631998616, 'min': 0.339227410836983, 'max': 0.34214649459907104}5}}\n"
     ]
    },
    {
     "name": "stderr",
     "output_type": "stream",
     "text": [
      "C:\\Users\\anabi\\AppData\\Local\\Packages\\PythonSoftwareFoundation.Python.3.10_qbz5n2kfra8p0\\LocalCache\\local-packages\\Python310\\site-packages\\deap\\creator.py:185: RuntimeWarning: A class named 'FitnessMin' has already been created and it will be overwritten. Consider deleting previous creation of that class or rename it.\n",
      "  warnings.warn(\"A class named '{0}' has already been created and it \"\n",
      "C:\\Users\\anabi\\AppData\\Local\\Packages\\PythonSoftwareFoundation.Python.3.10_qbz5n2kfra8p0\\LocalCache\\local-packages\\Python310\\site-packages\\deap\\creator.py:185: RuntimeWarning: A class named 'Individual' has already been created and it will be overwritten. Consider deleting previous creation of that class or rename it.\n",
      "  warnings.warn(\"A class named '{0}' has already been created and it \"\n",
      "C:\\Users\\anabi\\AppData\\Local\\Packages\\PythonSoftwareFoundation.Python.3.10_qbz5n2kfra8p0\\LocalCache\\local-packages\\Python310\\site-packages\\scipy\\integrate\\_ivp\\common.py:39: UserWarning: The following arguments have no effect for a chosen solver: `min_step`.\n",
      "  warn(\"The following arguments have no effect for a chosen solver: {}.\"\n"
     ]
    },
    {
     "name": "stdout",
     "output_type": "stream",
     "text": [
      "Running with seed=7, solver=DOP853, error=SQUARED0.0006251942098062365, 'min': 52.719864847348134, 'max': 52.72191788739776}}}}}\n"
     ]
    },
    {
     "name": "stderr",
     "output_type": "stream",
     "text": [
      "C:\\Users\\anabi\\AppData\\Local\\Packages\\PythonSoftwareFoundation.Python.3.10_qbz5n2kfra8p0\\LocalCache\\local-packages\\Python310\\site-packages\\deap\\creator.py:185: RuntimeWarning: A class named 'FitnessMin' has already been created and it will be overwritten. Consider deleting previous creation of that class or rename it.\n",
      "  warnings.warn(\"A class named '{0}' has already been created and it \"\n",
      "C:\\Users\\anabi\\AppData\\Local\\Packages\\PythonSoftwareFoundation.Python.3.10_qbz5n2kfra8p0\\LocalCache\\local-packages\\Python310\\site-packages\\deap\\creator.py:185: RuntimeWarning: A class named 'Individual' has already been created and it will be overwritten. Consider deleting previous creation of that class or rename it.\n",
      "  warnings.warn(\"A class named '{0}' has already been created and it \"\n",
      "C:\\Users\\anabi\\AppData\\Local\\Packages\\PythonSoftwareFoundation.Python.3.10_qbz5n2kfra8p0\\LocalCache\\local-packages\\Python310\\site-packages\\scipy\\integrate\\_ivp\\common.py:39: UserWarning: The following arguments have no effect for a chosen solver: `min_step`.\n",
      "  warn(\"The following arguments have no effect for a chosen solver: {}.\"\n"
     ]
    },
    {
     "name": "stdout",
     "output_type": "stream",
     "text": [
      "Running with seed=7, solver=DOP853, error=MSE'std': 0.007423766623026647, 'min': 10.99707295237271, 'max': 11.013308351190256}}7}\n"
     ]
    },
    {
     "name": "stderr",
     "output_type": "stream",
     "text": [
      "C:\\Users\\anabi\\AppData\\Local\\Packages\\PythonSoftwareFoundation.Python.3.10_qbz5n2kfra8p0\\LocalCache\\local-packages\\Python310\\site-packages\\deap\\creator.py:185: RuntimeWarning: A class named 'FitnessMin' has already been created and it will be overwritten. Consider deleting previous creation of that class or rename it.\n",
      "  warnings.warn(\"A class named '{0}' has already been created and it \"\n",
      "C:\\Users\\anabi\\AppData\\Local\\Packages\\PythonSoftwareFoundation.Python.3.10_qbz5n2kfra8p0\\LocalCache\\local-packages\\Python310\\site-packages\\deap\\creator.py:185: RuntimeWarning: A class named 'Individual' has already been created and it will be overwritten. Consider deleting previous creation of that class or rename it.\n",
      "  warnings.warn(\"A class named '{0}' has already been created and it \"\n",
      "C:\\Users\\anabi\\AppData\\Local\\Packages\\PythonSoftwareFoundation.Python.3.10_qbz5n2kfra8p0\\LocalCache\\local-packages\\Python310\\site-packages\\scipy\\integrate\\_ivp\\common.py:39: UserWarning: The following arguments have no effect for a chosen solver: `min_step`.\n",
      "  warn(\"The following arguments have no effect for a chosen solver: {}.\"\n"
     ]
    },
    {
     "name": "stdout",
     "output_type": "stream",
     "text": [
      "Running with seed=7, solver=DOP853, error=MABS 'std': 6.583300245629638e-06, 'min': 0.05353435248780725, 'max': 0.053564425466849655}}}\n"
     ]
    },
    {
     "name": "stderr",
     "output_type": "stream",
     "text": [
      "C:\\Users\\anabi\\AppData\\Local\\Packages\\PythonSoftwareFoundation.Python.3.10_qbz5n2kfra8p0\\LocalCache\\local-packages\\Python310\\site-packages\\deap\\creator.py:185: RuntimeWarning: A class named 'FitnessMin' has already been created and it will be overwritten. Consider deleting previous creation of that class or rename it.\n",
      "  warnings.warn(\"A class named '{0}' has already been created and it \"\n",
      "C:\\Users\\anabi\\AppData\\Local\\Packages\\PythonSoftwareFoundation.Python.3.10_qbz5n2kfra8p0\\LocalCache\\local-packages\\Python310\\site-packages\\deap\\creator.py:185: RuntimeWarning: A class named 'Individual' has already been created and it will be overwritten. Consider deleting previous creation of that class or rename it.\n",
      "  warnings.warn(\"A class named '{0}' has already been created and it \"\n",
      "C:\\Users\\anabi\\AppData\\Local\\Packages\\PythonSoftwareFoundation.Python.3.10_qbz5n2kfra8p0\\LocalCache\\local-packages\\Python310\\site-packages\\scipy\\integrate\\_ivp\\common.py:39: UserWarning: The following arguments have no effect for a chosen solver: `min_step`.\n",
      "  warn(\"The following arguments have no effect for a chosen solver: {}.\"\n"
     ]
    },
    {
     "name": "stdout",
     "output_type": "stream",
     "text": [
      "Running with seed=7, solver=LSODA, error=ABS, 'std': 1.2170589218182746e-05, 'min': 0.10401414903059485, 'max': 0.10407381113579589}\n"
     ]
    },
    {
     "name": "stderr",
     "output_type": "stream",
     "text": [
      "C:\\Users\\anabi\\AppData\\Local\\Packages\\PythonSoftwareFoundation.Python.3.10_qbz5n2kfra8p0\\LocalCache\\local-packages\\Python310\\site-packages\\deap\\creator.py:185: RuntimeWarning: A class named 'FitnessMin' has already been created and it will be overwritten. Consider deleting previous creation of that class or rename it.\n",
      "  warnings.warn(\"A class named '{0}' has already been created and it \"\n",
      "C:\\Users\\anabi\\AppData\\Local\\Packages\\PythonSoftwareFoundation.Python.3.10_qbz5n2kfra8p0\\LocalCache\\local-packages\\Python310\\site-packages\\deap\\creator.py:185: RuntimeWarning: A class named 'Individual' has already been created and it will be overwritten. Consider deleting previous creation of that class or rename it.\n",
      "  warnings.warn(\"A class named '{0}' has already been created and it \"\n"
     ]
    },
    {
     "name": "stdout",
     "output_type": "stream",
     "text": [
      "Generation 7: {'avg': 282.96981442550054, 'std': 42.125409338534894, 'min': 220.97022927043255, 'max': 355.89031194400417}\r"
     ]
    },
    {
     "name": "stderr",
     "output_type": "stream",
     "text": [
      "C:\\Users\\anabi\\AppData\\Local\\Packages\\PythonSoftwareFoundation.Python.3.10_qbz5n2kfra8p0\\LocalCache\\local-packages\\Python310\\site-packages\\scipy\\integrate\\_ode.py:1348: UserWarning: lsoda: Repeated error test failures (internal error).\n",
      "  warnings.warn('{:s}: {:s}'.format(self.__class__.__name__,\n"
     ]
    },
    {
     "name": "stdout",
     "output_type": "stream",
     "text": [
      "Overflowon 90: {'avg': 278.4333211423575, 'std': 41.33323627132563, 'min': 225.2363840655456, 'max': 356.55603383748974}}}}\n",
      "Overflowon 115: {'avg': 304.21005835683883, 'std': 54.8801528230457, 'min': 195.8725000000001, 'max': 373.14397549934233}}7}\n",
      "Overflowon 176: {'avg': 293.8455997408049, 'std': 38.7759257804498, 'min': 245.41153422232156, 'max': 369.56737665827177}84}\n",
      "Overflowon 234: {'avg': 286.8249078333531, 'std': 44.58716687776855, 'min': 227.8302691271048, 'max': 379.0111890183162}}}}}\n",
      "Overflowon 339: {'avg': 266.0790883387797, 'std': 35.94433969756878, 'min': 216.724061051342, 'max': 314.8626684415395}55}}}\n",
      "Overflowon 346: {'avg': 287.05029441522464, 'std': 44.609228759547726, 'min': 228.05385254350628, 'max': 359.05191768399453}\n",
      "Overflowon 365: {'avg': 274.88332181971725, 'std': 29.33886633003207, 'min': 231.19839679056565, 'max': 328.47931604171714}\n",
      "Overflowon 407: {'avg': 274.269745213133, 'std': 37.6593356091917, 'min': 228.91037014446118, 'max': 341.15978506222615}4}}}\n",
      "Overflowon 679: {'avg': 293.1125037708829, 'std': 39.89649281628324, 'min': 229.4194215652322, 'max': 365.1387678193686}2}}}\n",
      "Overflowon 731: {'avg': 243.52707507731995, 'std': 28.894275419568714, 'min': 222.86982214157223, 'max': 332.7646459073503}}\n",
      "Overflowon 735: {'avg': 289.56427128328346, 'std': 52.87149540503904, 'min': 223.20345437588097, 'max': 369.6863806055952}\n",
      "Overflowon 748: {'avg': 276.74884304659514, 'std': 45.115534390852325, 'min': 228.80833586490022, 'max': 373.6968329969269}\n",
      "Overflowon 864: {'avg': 268.6744808126712, 'std': 31.125460342348408, 'min': 222.0481668362843, 'max': 313.20672084464803}}}\n",
      "Overflowon 1000: {'avg': 245.5095015614838, 'std': 31.110625274653575, 'min': 218.26859328666833, 'max': 332.6426622272606}}\n",
      "Overflowon 1121: {'avg': 236.31296962834122, 'std': 24.11394369283753, 'min': 210.4877869744203, 'max': 294.62675052149683}}}\n",
      "Overflowon 1264: {'avg': 263.44477496768616, 'std': 46.79437716332612, 'min': 215.156110120298, 'max': 364.8343951745805}23}}\n",
      "Overflowon 1347: {'avg': 270.8135673370405, 'std': 43.87860812712267, 'min': 220.298477601621, 'max': 365.5034615135312}9}5}}\n",
      "Overflowon 1348: {'avg': 66930.78522124546, 'std': 249373.24056474539, 'min': 231.27208852725735, 'max': 1000000.0}\n",
      "Overflowon 1408: {'avg': 263.6073838496312, 'std': 38.441755830191944, 'min': 220.344122451558, 'max': 360.6714334808361}69}}\n",
      "Overflow\n",
      "Overflowon 1436: {'avg': 233.72523488326567, 'std': 16.03331526367902, 'min': 219.47708524930644, 'max': 278.95015492771154}\n",
      "Overflowon 1472: {'avg': 240.71078094630815, 'std': 30.733915387108162, 'min': 210.73167322126488, 'max': 313.27055756935624}\n",
      "Overflowon 1548: {'avg': 244.32387048435842, 'std': 28.91831134146015, 'min': 222.19330327615975, 'max': 341.418591596007}3}}\n",
      "Overflowon 1679: {'avg': 283.3313036190011, 'std': 41.314111192262665, 'min': 218.01504383835925, 'max': 357.68333593798917}}\n",
      "Overflowon 2458: {'avg': 208.56607320939054, 'std': 5.109043017272681, 'min': 201.13043174504696, 'max': 220.09582388962048}}\n",
      "Overflowon 2544: {'avg': 262.3421996034345, 'std': 52.364620447071275, 'min': 212.15744411329092, 'max': 376.76186587958773}}\n",
      "Running with seed=7, solver=LSODA, error=SQUAREDd': 0.004131437245852611, 'min': 49.95115250616815, 'max': 49.96352230411853}4}}}\n"
     ]
    },
    {
     "name": "stderr",
     "output_type": "stream",
     "text": [
      "C:\\Users\\anabi\\AppData\\Local\\Packages\\PythonSoftwareFoundation.Python.3.10_qbz5n2kfra8p0\\LocalCache\\local-packages\\Python310\\site-packages\\deap\\creator.py:185: RuntimeWarning: A class named 'FitnessMin' has already been created and it will be overwritten. Consider deleting previous creation of that class or rename it.\n",
      "  warnings.warn(\"A class named '{0}' has already been created and it \"\n",
      "C:\\Users\\anabi\\AppData\\Local\\Packages\\PythonSoftwareFoundation.Python.3.10_qbz5n2kfra8p0\\LocalCache\\local-packages\\Python310\\site-packages\\deap\\creator.py:185: RuntimeWarning: A class named 'Individual' has already been created and it will be overwritten. Consider deleting previous creation of that class or rename it.\n",
      "  warnings.warn(\"A class named '{0}' has already been created and it \"\n"
     ]
    },
    {
     "name": "stdout",
     "output_type": "stream",
     "text": [
      "Generation 7: {'avg': 17.54392374325282, 'std': 2.6297200082912555, 'min': 13.518449156491542, 'max': 21.53457939888075}}}\r"
     ]
    },
    {
     "name": "stderr",
     "output_type": "stream",
     "text": [
      "C:\\Users\\anabi\\AppData\\Local\\Packages\\PythonSoftwareFoundation.Python.3.10_qbz5n2kfra8p0\\LocalCache\\local-packages\\Python310\\site-packages\\scipy\\integrate\\_ode.py:1348: UserWarning: lsoda: Repeated error test failures (internal error).\n",
      "  warnings.warn('{:s}: {:s}'.format(self.__class__.__name__,\n"
     ]
    },
    {
     "name": "stdout",
     "output_type": "stream",
     "text": [
      "Overflow\n",
      "Overflowon 724: {'avg': 17.571225928167987, 'std': 2.3991648299429613, 'min': 13.174648988253958, 'max': 21.8485364843948}4}}\n",
      "Overflowon 884: {'avg': 13.193777499509084, 'std': 0.5723842160522613, 'min': 12.701467944046042, 'max': 15.10021707422413}}}\n",
      "Overflow\n",
      "Overflowon 898: {'avg': 12.651291328445158, 'std': 0.08922144415501543, 'min': 12.563039046677233, 'max': 12.924368976948955}\n",
      "Overflowon 910: {'avg': 14.94514768998486, 'std': 1.9739092002412537, 'min': 13.038161184738483, 'max': 19.765062657981897}}\n",
      "Overflowon 982: {'avg': 13.977999878190493, 'std': 0.7878400886664448, 'min': 13.115958133182934, 'max': 16.013178637073267}}\n",
      "Overflowon 1084: {'avg': 15.456089590749492, 'std': 1.8341728024232826, 'min': 12.616068770817634, 'max': 18.517158582478856}}\n",
      "Overflowon 1095: {'avg': 14.165307905110721, 'std': 0.9258846313584085, 'min': 13.031365732654505, 'max': 17.365084679950236}\n",
      "Overflowon 4440: {'avg': 14.6418501748766, 'std': 1.7513764355267065, 'min': 12.803998380771773, 'max': 17.40205889233695}7}}2}9}\n",
      "Overflowon 4452: {'avg': 14.130882179835321, 'std': 1.4487895216733975, 'min': 12.837543327289202, 'max': 18.57650387114628}}\n",
      "Overflowon 4517: {'avg': 16.97304126034912, 'std': 2.828532818677729, 'min': 13.63071592163988, 'max': 21.78932326970344}07}}}\n",
      "Overflowon 4619: {'avg': 14.563990208877245, 'std': 1.9274021599484283, 'min': 12.576590889982484, 'max': 18.574158837357313}}\n",
      "Running with seed=7, solver=LSODA, error=MSE'std': 0.005176851836757555, 'min': 8.047964079324164, 'max': 8.06758641653309}7}}\n"
     ]
    },
    {
     "name": "stderr",
     "output_type": "stream",
     "text": [
      "C:\\Users\\anabi\\AppData\\Local\\Packages\\PythonSoftwareFoundation.Python.3.10_qbz5n2kfra8p0\\LocalCache\\local-packages\\Python310\\site-packages\\deap\\creator.py:185: RuntimeWarning: A class named 'FitnessMin' has already been created and it will be overwritten. Consider deleting previous creation of that class or rename it.\n",
      "  warnings.warn(\"A class named '{0}' has already been created and it \"\n",
      "C:\\Users\\anabi\\AppData\\Local\\Packages\\PythonSoftwareFoundation.Python.3.10_qbz5n2kfra8p0\\LocalCache\\local-packages\\Python310\\site-packages\\deap\\creator.py:185: RuntimeWarning: A class named 'Individual' has already been created and it will be overwritten. Consider deleting previous creation of that class or rename it.\n",
      "  warnings.warn(\"A class named '{0}' has already been created and it \"\n"
     ]
    },
    {
     "name": "stdout",
     "output_type": "stream",
     "text": [
      "Generation 7: {'avg': 0.6294093752621546, 'std': 0.1842016014500973, 'min': 0.3654969351932938, 'max': 0.9274762197733986}}\r"
     ]
    },
    {
     "name": "stderr",
     "output_type": "stream",
     "text": [
      "C:\\Users\\anabi\\AppData\\Local\\Packages\\PythonSoftwareFoundation.Python.3.10_qbz5n2kfra8p0\\LocalCache\\local-packages\\Python310\\site-packages\\scipy\\integrate\\_ode.py:1348: UserWarning: lsoda: Repeated error test failures (internal error).\n",
      "  warnings.warn('{:s}: {:s}'.format(self.__class__.__name__,\n"
     ]
    },
    {
     "name": "stdout",
     "output_type": "stream",
     "text": [
      "Overflow\n",
      "Overflowon 724: {'avg': 0.6290079449999163, 'std': 0.16893008537014934, 'min': 0.34714275192740207, 'max': 0.9547170930198609}}3}\n",
      "Overflowon 867: {'avg': 0.39513378961976453, 'std': 0.03401636752950156, 'min': 0.33720069331802616, 'max': 0.458743531559614}}3}\n",
      "Overflowon 959: {'avg': 0.5783134659781806, 'std': 0.1496614265712339, 'min': 0.3782877156744275, 'max': 0.8677880170592004}5247}\n",
      "Overflowon 2133: {'avg': 0.4182785680621491, 'std': 0.05627229861215363, 'min': 0.352324497515754, 'max': 0.5331815857083311}6}}}}}}\n",
      "Overflowon 2225: {'avg': 0.3633352356075407, 'std': 0.026431554488281498, 'min': 0.32774655944302267, 'max': 0.4159969986577157}}}\n",
      "Overflowon 2266: {'avg': 0.3220358064533777, 'std': 0.010868668092362596, 'min': 0.30638606850702965, 'max': 0.34947810210409874}4}\n",
      "Overflowon 2649: {'avg': 0.5891640701015077, 'std': 0.18276228723417412, 'min': 0.3471485300263119, 'max': 0.9676446304771403}}}}}\n",
      "Overflowon 2725: {'avg': 0.4350182730326818, 'std': 0.11404697440141943, 'min': 0.33280768838684777, 'max': 0.7075783615484654}6}}\n",
      "Overflowon 3472: {'avg': 0.3667640619931377, 'std': 0.09196062216704907, 'min': 0.3132338999010094, 'max': 0.7045576351009056}}}}}}\n",
      "Overflowon 3549: {'avg': 0.35982902514105053, 'std': 0.03723637336342148, 'min': 0.3162540378781395, 'max': 0.4324636461694307}}6}}\n",
      "Running with seed=7, solver=LSODA, error=MABS 'std': 0.027552587763496523, 'min': 0.2347926640960349, 'max': 0.34541109616453536}1}}\n"
     ]
    },
    {
     "name": "stderr",
     "output_type": "stream",
     "text": [
      "C:\\Users\\anabi\\AppData\\Local\\Packages\\PythonSoftwareFoundation.Python.3.10_qbz5n2kfra8p0\\LocalCache\\local-packages\\Python310\\site-packages\\deap\\creator.py:185: RuntimeWarning: A class named 'FitnessMin' has already been created and it will be overwritten. Consider deleting previous creation of that class or rename it.\n",
      "  warnings.warn(\"A class named '{0}' has already been created and it \"\n",
      "C:\\Users\\anabi\\AppData\\Local\\Packages\\PythonSoftwareFoundation.Python.3.10_qbz5n2kfra8p0\\LocalCache\\local-packages\\Python310\\site-packages\\deap\\creator.py:185: RuntimeWarning: A class named 'Individual' has already been created and it will be overwritten. Consider deleting previous creation of that class or rename it.\n",
      "  warnings.warn(\"A class named '{0}' has already been created and it \"\n"
     ]
    },
    {
     "name": "stdout",
     "output_type": "stream",
     "text": [
      "Generation 7: {'avg': 0.5659396288510012, 'std': 0.08425081867706975, 'min': 0.4419404585408653, 'max': 0.7117806238880082}}\r"
     ]
    },
    {
     "name": "stderr",
     "output_type": "stream",
     "text": [
      "C:\\Users\\anabi\\AppData\\Local\\Packages\\PythonSoftwareFoundation.Python.3.10_qbz5n2kfra8p0\\LocalCache\\local-packages\\Python310\\site-packages\\scipy\\integrate\\_ode.py:1348: UserWarning: lsoda: Repeated error test failures (internal error).\n",
      "  warnings.warn('{:s}: {:s}'.format(self.__class__.__name__,\n"
     ]
    },
    {
     "name": "stdout",
     "output_type": "stream",
     "text": [
      "Overflowon 90: {'avg': 0.5568666422847149, 'std': 0.08266647254265126, 'min': 0.4504727681310911, 'max': 0.7131120676749795}}}\n",
      "Overflowon 115: {'avg': 0.6084201167136777, 'std': 0.10976030564609146, 'min': 0.391745, 'max': 0.7462879509986847}0646893549}}\n",
      "Overflowon 176: {'avg': 0.5876911994816097, 'std': 0.07755185156089954, 'min': 0.49082306844464313, 'max': 0.7391347533165433}}\n",
      "Overflowon 234: {'avg': 0.5736498156667061, 'std': 0.08917433375553704, 'min': 0.4556605382542096, 'max': 0.7580223780366322}}}}\n",
      "Overflowon 339: {'avg': 0.5321581766775594, 'std': 0.0718886793951376, 'min': 0.4334481221026839, 'max': 0.629725336883079}332}}\n",
      "Overflowon 346: {'avg': 0.5741005888304493, 'std': 0.08921845751909552, 'min': 0.4561077050870125, 'max': 0.7181038353679892}}\n",
      "Overflowon 365: {'avg': 0.5497666436394345, 'std': 0.058677732660064166, 'min': 0.4623967935811314, 'max': 0.6569586320834343}\n",
      "Overflowon 407: {'avg': 0.5485394904262659, 'std': 0.0753186712183835, 'min': 0.4578207402889224, 'max': 0.6823195701244527}9}}\n",
      "Overflowon 679: {'avg': 0.5862250075417658, 'std': 0.07979298563256655, 'min': 0.4588388431304644, 'max': 0.7302775356387374}}}}\n",
      "Overflowon 731: {'avg': 0.4870541501546399, 'std': 0.0577885508391374, 'min': 0.44573964428314444, 'max': 0.6655292918147006}}2}\n",
      "Overflowon 735: {'avg': 0.5791285425665669, 'std': 0.1057429908100781, 'min': 0.44640690875176176, 'max': 0.7393727612111904}}\n",
      "Overflowon 748: {'avg': 0.5534976860931902, 'std': 0.09023106878170462, 'min': 0.45761667172980064, 'max': 0.7473936659938538}\n",
      "Overflowon 864: {'avg': 0.5373489616253424, 'std': 0.0622509206846968, 'min': 0.44409633367256857, 'max': 0.6264134416892957}}}}\n",
      "Overflowon 1000: {'avg': 0.4910190031229676, 'std': 0.06222125054930715, 'min': 0.43653718657333673, 'max': 0.665285324454521}}}\n",
      "Overflowon 1217: {'avg': 0.5258428111123168, 'std': 0.09404730153601541, 'min': 0.4314377218132464, 'max': 0.7480467405548745}}7}}\n",
      "Overflowon 1552: {'avg': 0.5323496892217991, 'std': 0.0779848125651511, 'min': 0.42134847761768923, 'max': 0.6648205222522238}}4}}\n",
      "Overflowon 1579: {'avg': 0.4487743701079495, 'std': 0.035179819033332185, 'min': 0.422451412945932, 'max': 0.5743663792355644}}3}\n",
      "Overflowon 1874: {'avg': 0.4684635906000762, 'std': 0.03760879353814184, 'min': 0.4237905683793738, 'max': 0.5513523277553748}}}}}\n",
      "Overflowon 1950: {'avg': 0.534386962679286, 'std': 0.0960364072553981, 'min': 0.44115903465946227, 'max': 0.7216537443865622}2}}}\n",
      "Overflowon 1970: {'avg': 0.46937986346608346, 'std': 0.05065582439589155, 'min': 0.425586789967647, 'max': 0.5739193016514773}5}\n",
      "Overflowon 1975: {'avg': 0.4500086829536933, 'std': 0.018845550917243253, 'min': 0.41431489038626684, 'max': 0.4937087883821803}\n",
      "Overflowon 1977: {'avg': 0.4557909081066137, 'std': 0.03468792346398083, 'min': 0.4187647859983747, 'max': 0.5439215046949969}\n",
      "Overflowon 2027: {'avg': 0.5087092405474809, 'std': 0.08652796081873695, 'min': 0.4248857571909772, 'max': 0.738410436205952}}9}4}\n",
      "Overflowon 2461: {'avg': 0.4923087630389517, 'std': 0.049987790907645664, 'min': 0.43684533276005577, 'max': 0.6094680868452264}}}\n",
      "Overflowon 2766: {'avg': 0.4807689622894224, 'std': 0.046322918958307285, 'min': 0.4253690877913125, 'max': 0.5884248772802505}}7}\n",
      "Running with seed=8, solver=RK45, error=ABS1, 'std': 2.2672356017181894e-05, 'min': 0.09512111516025094, 'max': 0.09519735839007348}\n"
     ]
    },
    {
     "name": "stderr",
     "output_type": "stream",
     "text": [
      "C:\\Users\\anabi\\AppData\\Local\\Packages\\PythonSoftwareFoundation.Python.3.10_qbz5n2kfra8p0\\LocalCache\\local-packages\\Python310\\site-packages\\deap\\creator.py:185: RuntimeWarning: A class named 'FitnessMin' has already been created and it will be overwritten. Consider deleting previous creation of that class or rename it.\n",
      "  warnings.warn(\"A class named '{0}' has already been created and it \"\n",
      "C:\\Users\\anabi\\AppData\\Local\\Packages\\PythonSoftwareFoundation.Python.3.10_qbz5n2kfra8p0\\LocalCache\\local-packages\\Python310\\site-packages\\deap\\creator.py:185: RuntimeWarning: A class named 'Individual' has already been created and it will be overwritten. Consider deleting previous creation of that class or rename it.\n",
      "  warnings.warn(\"A class named '{0}' has already been created and it \"\n",
      "C:\\Users\\anabi\\AppData\\Local\\Packages\\PythonSoftwareFoundation.Python.3.10_qbz5n2kfra8p0\\LocalCache\\local-packages\\Python310\\site-packages\\scipy\\integrate\\_ivp\\common.py:39: UserWarning: The following arguments have no effect for a chosen solver: `min_step`.\n",
      "  warn(\"The following arguments have no effect for a chosen solver: {}.\"\n"
     ]
    },
    {
     "name": "stdout",
     "output_type": "stream",
     "text": [
      "Running with seed=8, solver=RK45, error=SQUAREDd': 1.3779121995792052, 'min': 176.49773889686847, 'max': 180.37481039237102}}}}}}\n"
     ]
    },
    {
     "name": "stderr",
     "output_type": "stream",
     "text": [
      "C:\\Users\\anabi\\AppData\\Local\\Packages\\PythonSoftwareFoundation.Python.3.10_qbz5n2kfra8p0\\LocalCache\\local-packages\\Python310\\site-packages\\deap\\creator.py:185: RuntimeWarning: A class named 'FitnessMin' has already been created and it will be overwritten. Consider deleting previous creation of that class or rename it.\n",
      "  warnings.warn(\"A class named '{0}' has already been created and it \"\n",
      "C:\\Users\\anabi\\AppData\\Local\\Packages\\PythonSoftwareFoundation.Python.3.10_qbz5n2kfra8p0\\LocalCache\\local-packages\\Python310\\site-packages\\deap\\creator.py:185: RuntimeWarning: A class named 'Individual' has already been created and it will be overwritten. Consider deleting previous creation of that class or rename it.\n",
      "  warnings.warn(\"A class named '{0}' has already been created and it \"\n",
      "C:\\Users\\anabi\\AppData\\Local\\Packages\\PythonSoftwareFoundation.Python.3.10_qbz5n2kfra8p0\\LocalCache\\local-packages\\Python310\\site-packages\\scipy\\integrate\\_ivp\\common.py:39: UserWarning: The following arguments have no effect for a chosen solver: `min_step`.\n",
      "  warn(\"The following arguments have no effect for a chosen solver: {}.\"\n"
     ]
    },
    {
     "name": "stdout",
     "output_type": "stream",
     "text": [
      "Running with seed=8, solver=RK45, error=MSE, 'std': 0.4735440171924963, 'min': 10.86682455551082, 'max': 12.77327415064511}8}}5}}\n"
     ]
    },
    {
     "name": "stderr",
     "output_type": "stream",
     "text": [
      "C:\\Users\\anabi\\AppData\\Local\\Packages\\PythonSoftwareFoundation.Python.3.10_qbz5n2kfra8p0\\LocalCache\\local-packages\\Python310\\site-packages\\deap\\creator.py:185: RuntimeWarning: A class named 'FitnessMin' has already been created and it will be overwritten. Consider deleting previous creation of that class or rename it.\n",
      "  warnings.warn(\"A class named '{0}' has already been created and it \"\n",
      "C:\\Users\\anabi\\AppData\\Local\\Packages\\PythonSoftwareFoundation.Python.3.10_qbz5n2kfra8p0\\LocalCache\\local-packages\\Python310\\site-packages\\deap\\creator.py:185: RuntimeWarning: A class named 'Individual' has already been created and it will be overwritten. Consider deleting previous creation of that class or rename it.\n",
      "  warnings.warn(\"A class named '{0}' has already been created and it \"\n",
      "C:\\Users\\anabi\\AppData\\Local\\Packages\\PythonSoftwareFoundation.Python.3.10_qbz5n2kfra8p0\\LocalCache\\local-packages\\Python310\\site-packages\\scipy\\integrate\\_ivp\\common.py:39: UserWarning: The following arguments have no effect for a chosen solver: `min_step`.\n",
      "  warn(\"The following arguments have no effect for a chosen solver: {}.\"\n"
     ]
    },
    {
     "name": "stdout",
     "output_type": "stream",
     "text": [
      "Running with seed=8, solver=RK45, error=MABS, 'std': 0.0014920383447301474, 'min': 0.05199865042313436, 'max': 0.0576359941659743}1}}}}\n"
     ]
    },
    {
     "name": "stderr",
     "output_type": "stream",
     "text": [
      "C:\\Users\\anabi\\AppData\\Local\\Packages\\PythonSoftwareFoundation.Python.3.10_qbz5n2kfra8p0\\LocalCache\\local-packages\\Python310\\site-packages\\deap\\creator.py:185: RuntimeWarning: A class named 'FitnessMin' has already been created and it will be overwritten. Consider deleting previous creation of that class or rename it.\n",
      "  warnings.warn(\"A class named '{0}' has already been created and it \"\n",
      "C:\\Users\\anabi\\AppData\\Local\\Packages\\PythonSoftwareFoundation.Python.3.10_qbz5n2kfra8p0\\LocalCache\\local-packages\\Python310\\site-packages\\deap\\creator.py:185: RuntimeWarning: A class named 'Individual' has already been created and it will be overwritten. Consider deleting previous creation of that class or rename it.\n",
      "  warnings.warn(\"A class named '{0}' has already been created and it \"\n",
      "C:\\Users\\anabi\\AppData\\Local\\Packages\\PythonSoftwareFoundation.Python.3.10_qbz5n2kfra8p0\\LocalCache\\local-packages\\Python310\\site-packages\\scipy\\integrate\\_ivp\\common.py:39: UserWarning: The following arguments have no effect for a chosen solver: `min_step`.\n",
      "  warn(\"The following arguments have no effect for a chosen solver: {}.\"\n"
     ]
    },
    {
     "name": "stdout",
     "output_type": "stream",
     "text": [
      "Running with seed=8, solver=DOP853, error=ABS 'std': 1.4600948424838398e-05, 'min': 0.335942131052983, 'max': 0.33600203921162436}}}\n"
     ]
    },
    {
     "name": "stderr",
     "output_type": "stream",
     "text": [
      "C:\\Users\\anabi\\AppData\\Local\\Packages\\PythonSoftwareFoundation.Python.3.10_qbz5n2kfra8p0\\LocalCache\\local-packages\\Python310\\site-packages\\deap\\creator.py:185: RuntimeWarning: A class named 'FitnessMin' has already been created and it will be overwritten. Consider deleting previous creation of that class or rename it.\n",
      "  warnings.warn(\"A class named '{0}' has already been created and it \"\n",
      "C:\\Users\\anabi\\AppData\\Local\\Packages\\PythonSoftwareFoundation.Python.3.10_qbz5n2kfra8p0\\LocalCache\\local-packages\\Python310\\site-packages\\deap\\creator.py:185: RuntimeWarning: A class named 'Individual' has already been created and it will be overwritten. Consider deleting previous creation of that class or rename it.\n",
      "  warnings.warn(\"A class named '{0}' has already been created and it \"\n",
      "C:\\Users\\anabi\\AppData\\Local\\Packages\\PythonSoftwareFoundation.Python.3.10_qbz5n2kfra8p0\\LocalCache\\local-packages\\Python310\\site-packages\\scipy\\integrate\\_ivp\\common.py:39: UserWarning: The following arguments have no effect for a chosen solver: `min_step`.\n",
      "  warn(\"The following arguments have no effect for a chosen solver: {}.\"\n"
     ]
    },
    {
     "name": "stdout",
     "output_type": "stream",
     "text": [
      "Running with seed=8, solver=DOP853, error=SQUARED: 0.006986523234384838, 'min': 51.78602532473089, 'max': 51.809637527994234}}}}\n"
     ]
    },
    {
     "name": "stderr",
     "output_type": "stream",
     "text": [
      "C:\\Users\\anabi\\AppData\\Local\\Packages\\PythonSoftwareFoundation.Python.3.10_qbz5n2kfra8p0\\LocalCache\\local-packages\\Python310\\site-packages\\deap\\creator.py:185: RuntimeWarning: A class named 'FitnessMin' has already been created and it will be overwritten. Consider deleting previous creation of that class or rename it.\n",
      "  warnings.warn(\"A class named '{0}' has already been created and it \"\n",
      "C:\\Users\\anabi\\AppData\\Local\\Packages\\PythonSoftwareFoundation.Python.3.10_qbz5n2kfra8p0\\LocalCache\\local-packages\\Python310\\site-packages\\deap\\creator.py:185: RuntimeWarning: A class named 'Individual' has already been created and it will be overwritten. Consider deleting previous creation of that class or rename it.\n",
      "  warnings.warn(\"A class named '{0}' has already been created and it \"\n",
      "C:\\Users\\anabi\\AppData\\Local\\Packages\\PythonSoftwareFoundation.Python.3.10_qbz5n2kfra8p0\\LocalCache\\local-packages\\Python310\\site-packages\\scipy\\integrate\\_ivp\\common.py:39: UserWarning: The following arguments have no effect for a chosen solver: `min_step`.\n",
      "  warn(\"The following arguments have no effect for a chosen solver: {}.\"\n"
     ]
    },
    {
     "name": "stdout",
     "output_type": "stream",
     "text": [
      "Running with seed=8, solver=DOP853, error=MSEtd': 0.00266765333365325, 'min': 4.618801351663406, 'max': 4.627794929833338}56}}}}}\n"
     ]
    },
    {
     "name": "stderr",
     "output_type": "stream",
     "text": [
      "C:\\Users\\anabi\\AppData\\Local\\Packages\\PythonSoftwareFoundation.Python.3.10_qbz5n2kfra8p0\\LocalCache\\local-packages\\Python310\\site-packages\\deap\\creator.py:185: RuntimeWarning: A class named 'FitnessMin' has already been created and it will be overwritten. Consider deleting previous creation of that class or rename it.\n",
      "  warnings.warn(\"A class named '{0}' has already been created and it \"\n",
      "C:\\Users\\anabi\\AppData\\Local\\Packages\\PythonSoftwareFoundation.Python.3.10_qbz5n2kfra8p0\\LocalCache\\local-packages\\Python310\\site-packages\\deap\\creator.py:185: RuntimeWarning: A class named 'Individual' has already been created and it will be overwritten. Consider deleting previous creation of that class or rename it.\n",
      "  warnings.warn(\"A class named '{0}' has already been created and it \"\n",
      "C:\\Users\\anabi\\AppData\\Local\\Packages\\PythonSoftwareFoundation.Python.3.10_qbz5n2kfra8p0\\LocalCache\\local-packages\\Python310\\site-packages\\scipy\\integrate\\_ivp\\common.py:39: UserWarning: The following arguments have no effect for a chosen solver: `min_step`.\n",
      "  warn(\"The following arguments have no effect for a chosen solver: {}.\"\n"
     ]
    },
    {
     "name": "stdout",
     "output_type": "stream",
     "text": [
      "Running with seed=8, solver=DOP853, error=MABS'std': 3.158825725849567e-05, 'min': 0.047852368936697504, 'max': 0.0479700605819131}85}}\n"
     ]
    },
    {
     "name": "stderr",
     "output_type": "stream",
     "text": [
      "C:\\Users\\anabi\\AppData\\Local\\Packages\\PythonSoftwareFoundation.Python.3.10_qbz5n2kfra8p0\\LocalCache\\local-packages\\Python310\\site-packages\\deap\\creator.py:185: RuntimeWarning: A class named 'FitnessMin' has already been created and it will be overwritten. Consider deleting previous creation of that class or rename it.\n",
      "  warnings.warn(\"A class named '{0}' has already been created and it \"\n",
      "C:\\Users\\anabi\\AppData\\Local\\Packages\\PythonSoftwareFoundation.Python.3.10_qbz5n2kfra8p0\\LocalCache\\local-packages\\Python310\\site-packages\\deap\\creator.py:185: RuntimeWarning: A class named 'Individual' has already been created and it will be overwritten. Consider deleting previous creation of that class or rename it.\n",
      "  warnings.warn(\"A class named '{0}' has already been created and it \"\n",
      "C:\\Users\\anabi\\AppData\\Local\\Packages\\PythonSoftwareFoundation.Python.3.10_qbz5n2kfra8p0\\LocalCache\\local-packages\\Python310\\site-packages\\scipy\\integrate\\_ivp\\common.py:39: UserWarning: The following arguments have no effect for a chosen solver: `min_step`.\n",
      "  warn(\"The following arguments have no effect for a chosen solver: {}.\"\n"
     ]
    },
    {
     "name": "stdout",
     "output_type": "stream",
     "text": [
      "Running with seed=8, solver=LSODA, error=ABS, 'std': 2.516970023236283e-05, 'min': 0.1033353905165007, 'max': 0.10343656031238885}}}\n"
     ]
    },
    {
     "name": "stderr",
     "output_type": "stream",
     "text": [
      "C:\\Users\\anabi\\AppData\\Local\\Packages\\PythonSoftwareFoundation.Python.3.10_qbz5n2kfra8p0\\LocalCache\\local-packages\\Python310\\site-packages\\deap\\creator.py:185: RuntimeWarning: A class named 'FitnessMin' has already been created and it will be overwritten. Consider deleting previous creation of that class or rename it.\n",
      "  warnings.warn(\"A class named '{0}' has already been created and it \"\n",
      "C:\\Users\\anabi\\AppData\\Local\\Packages\\PythonSoftwareFoundation.Python.3.10_qbz5n2kfra8p0\\LocalCache\\local-packages\\Python310\\site-packages\\deap\\creator.py:185: RuntimeWarning: A class named 'Individual' has already been created and it will be overwritten. Consider deleting previous creation of that class or rename it.\n",
      "  warnings.warn(\"A class named '{0}' has already been created and it \"\n"
     ]
    },
    {
     "name": "stdout",
     "output_type": "stream",
     "text": [
      "Generation 225: {'avg': 262.36043060754366, 'std': 29.980862023571067, 'min': 226.33183717599834, 'max': 328.4657657256283}}\r"
     ]
    },
    {
     "name": "stderr",
     "output_type": "stream",
     "text": [
      "C:\\Users\\anabi\\AppData\\Local\\Packages\\PythonSoftwareFoundation.Python.3.10_qbz5n2kfra8p0\\LocalCache\\local-packages\\Python310\\site-packages\\scipy\\integrate\\_ode.py:1348: UserWarning: lsoda: Repeated error test failures (internal error).\n",
      "  warnings.warn('{:s}: {:s}'.format(self.__class__.__name__,\n"
     ]
    },
    {
     "name": "stdout",
     "output_type": "stream",
     "text": [
      "Overflow\n",
      "Overflowon 226: {'avg': 66931.0813158779, 'std': 249373.1609544505, 'min': 224.02320602102034, 'max': 1000000.0}\n",
      "Overflowon 345: {'avg': 276.51855616356823, 'std': 41.96359915746445, 'min': 222.6305783080216, 'max': 344.2621641974785}}}}\n",
      "Overflowon 733: {'avg': 270.77755660177274, 'std': 41.43436016243756, 'min': 221.2470161651316, 'max': 344.34412101975374}}}\n",
      "Overflow\n",
      "Overflowon 911: {'avg': 270.0907456424857, 'std': 47.43614304645283, 'min': 218.74553409781032, 'max': 355.8498535191876}}}}\n",
      "Overflowon 919: {'avg': 296.6172963250908, 'std': 32.102268086933684, 'min': 235.4392326533154, 'max': 349.79453885722177}7}\n",
      "Overflow\n",
      "Overflowon 970: {'avg': 299.7093501717005, 'std': 44.8684481752385, 'min': 221.18068950890978, 'max': 374.1131315059642}515}\n",
      "Overflowon 1032: {'avg': 299.4861945903489, 'std': 35.00497393582187, 'min': 228.13831678777663, 'max': 350.27790317152744}}}\n",
      "Overflowon 1036: {'avg': 273.4302093026921, 'std': 37.27938533772333, 'min': 231.71268421021256, 'max': 366.10560657748835}}\n",
      "Overflowon 1050: {'avg': 275.43251654913104, 'std': 40.93208095446511, 'min': 220.61699751180737, 'max': 336.497198389742}3}\n",
      "Overflowon 1224: {'avg': 307.0917173154373, 'std': 22.998901274228523, 'min': 277.93490470292824, 'max': 366.7441450032256}}}\n",
      "Overflowon 1282: {'avg': 307.77558476330756, 'std': 45.96878122503084, 'min': 232.34943474548723, 'max': 365.8819962288042}}}\n",
      "Overflowon 1476: {'avg': 273.8702629004489, 'std': 35.65479840407732, 'min': 228.1784124654401, 'max': 351.50928050739026}}4}\n",
      "Overflowon 1547: {'avg': 271.50461741837364, 'std': 22.980051890368255, 'min': 243.32828076106958, 'max': 306.93911547871}4}}\n",
      "Overflowon 1696: {'avg': 231.9160957437676, 'std': 13.354336644689718, 'min': 220.13878896696545, 'max': 263.5536311685243}5}\n",
      "Overflowon 2585: {'avg': 125.49145702426749, 'std': 9.676621715959506, 'min': 114.40713170780427, 'max': 156.02420388980718}}\n",
      "Overflowon 2925: {'avg': 260.2404644161851, 'std': 38.69254311997005, 'min': 181.42462689141462, 'max': 328.6322088969032}}}}\n",
      "Overflowon 5585: {'avg': 181.8767510703914, 'std': 64.91427087876824, 'min': 110.8283008181637, 'max': 371.41332839669417}4}}}}\n",
      "Overflowon 6021: {'avg': 206.84199950776608, 'std': 72.11169884604959, 'min': 119.03700723363573, 'max': 366.3310809513092}}}\n",
      "Running with seed=8, solver=LSODA, error=SQUARED': 0.001558420844999126, 'min': 48.761062165776295, 'max': 48.76609167952986}06}}\n"
     ]
    },
    {
     "name": "stderr",
     "output_type": "stream",
     "text": [
      "C:\\Users\\anabi\\AppData\\Local\\Packages\\PythonSoftwareFoundation.Python.3.10_qbz5n2kfra8p0\\LocalCache\\local-packages\\Python310\\site-packages\\deap\\creator.py:185: RuntimeWarning: A class named 'FitnessMin' has already been created and it will be overwritten. Consider deleting previous creation of that class or rename it.\n",
      "  warnings.warn(\"A class named '{0}' has already been created and it \"\n",
      "C:\\Users\\anabi\\AppData\\Local\\Packages\\PythonSoftwareFoundation.Python.3.10_qbz5n2kfra8p0\\LocalCache\\local-packages\\Python310\\site-packages\\deap\\creator.py:185: RuntimeWarning: A class named 'Individual' has already been created and it will be overwritten. Consider deleting previous creation of that class or rename it.\n",
      "  warnings.warn(\"A class named '{0}' has already been created and it \"\n"
     ]
    },
    {
     "name": "stdout",
     "output_type": "stream",
     "text": [
      "Overflowon 946: {'avg': 15.99200370798989, 'std': 2.2577718340215545, 'min': 12.878293733631006, 'max': 20.527598885926224}}}\n"
     ]
    },
    {
     "name": "stderr",
     "output_type": "stream",
     "text": [
      "C:\\Users\\anabi\\AppData\\Local\\Packages\\PythonSoftwareFoundation.Python.3.10_qbz5n2kfra8p0\\LocalCache\\local-packages\\Python310\\site-packages\\scipy\\integrate\\_ode.py:1348: UserWarning: lsoda: Repeated error test failures (internal error).\n",
      "  warnings.warn('{:s}: {:s}'.format(self.__class__.__name__,\n"
     ]
    },
    {
     "name": "stdout",
     "output_type": "stream",
     "text": [
      "Overflowon 1124: {'avg': 17.507032866813226, 'std': 2.184319930217206, 'min': 12.924740566888747, 'max': 20.95296477498952}}}}\n",
      "Overflowon 2359: {'avg': 14.084568741394582, 'std': 1.440548166075426, 'min': 12.776585726025017, 'max': 18.03811583825371}}}}\n",
      "Running with seed=8, solver=LSODA, error=MSE 'std': 0.00032359033688168906, 'min': 11.188902853292948, 'max': 11.189917476247215}\n"
     ]
    },
    {
     "name": "stderr",
     "output_type": "stream",
     "text": [
      "C:\\Users\\anabi\\AppData\\Local\\Packages\\PythonSoftwareFoundation.Python.3.10_qbz5n2kfra8p0\\LocalCache\\local-packages\\Python310\\site-packages\\deap\\creator.py:185: RuntimeWarning: A class named 'FitnessMin' has already been created and it will be overwritten. Consider deleting previous creation of that class or rename it.\n",
      "  warnings.warn(\"A class named '{0}' has already been created and it \"\n",
      "C:\\Users\\anabi\\AppData\\Local\\Packages\\PythonSoftwareFoundation.Python.3.10_qbz5n2kfra8p0\\LocalCache\\local-packages\\Python310\\site-packages\\deap\\creator.py:185: RuntimeWarning: A class named 'Individual' has already been created and it will be overwritten. Consider deleting previous creation of that class or rename it.\n",
      "  warnings.warn(\"A class named '{0}' has already been created and it \"\n"
     ]
    },
    {
     "name": "stdout",
     "output_type": "stream",
     "text": [
      "Overflowon 946: {'avg': 0.5216834325017269, 'std': 0.14912438474153308, 'min': 0.3317008989793591, 'max': 0.842764632042959}4}}7}}\n"
     ]
    },
    {
     "name": "stderr",
     "output_type": "stream",
     "text": [
      "C:\\Users\\anabi\\AppData\\Local\\Packages\\PythonSoftwareFoundation.Python.3.10_qbz5n2kfra8p0\\LocalCache\\local-packages\\Python310\\site-packages\\scipy\\integrate\\_ode.py:1348: UserWarning: lsoda: Repeated error test failures (internal error).\n",
      "  warnings.warn('{:s}: {:s}'.format(self.__class__.__name__,\n"
     ]
    },
    {
     "name": "stdout",
     "output_type": "stream",
     "text": [
      "Overflowon 1124: {'avg': 0.6225349067144451, 'std': 0.1493947444187737, 'min': 0.3340978374427592, 'max': 0.8780534657239036}4}5}}\n",
      "Overflowon 2359: {'avg': 0.40090051129970516, 'std': 0.08715181723418605, 'min': 0.32648228562893256, 'max': 0.6507472459885189}}}}\n",
      "Running with seed=8, solver=LSODA, error=MABS'std': 0.002727547160489121, 'min': 0.08119082640367489, 'max': 0.08892705501288486}}}}\n"
     ]
    },
    {
     "name": "stderr",
     "output_type": "stream",
     "text": [
      "C:\\Users\\anabi\\AppData\\Local\\Packages\\PythonSoftwareFoundation.Python.3.10_qbz5n2kfra8p0\\LocalCache\\local-packages\\Python310\\site-packages\\deap\\creator.py:185: RuntimeWarning: A class named 'FitnessMin' has already been created and it will be overwritten. Consider deleting previous creation of that class or rename it.\n",
      "  warnings.warn(\"A class named '{0}' has already been created and it \"\n",
      "C:\\Users\\anabi\\AppData\\Local\\Packages\\PythonSoftwareFoundation.Python.3.10_qbz5n2kfra8p0\\LocalCache\\local-packages\\Python310\\site-packages\\deap\\creator.py:185: RuntimeWarning: A class named 'Individual' has already been created and it will be overwritten. Consider deleting previous creation of that class or rename it.\n",
      "  warnings.warn(\"A class named '{0}' has already been created and it \"\n"
     ]
    },
    {
     "name": "stdout",
     "output_type": "stream",
     "text": [
      "Generation 225: {'avg': 0.5247208612150873, 'std': 0.05996172404714216, 'min': 0.4526636743519968, 'max': 0.6569315314512567}}}}\r"
     ]
    },
    {
     "name": "stderr",
     "output_type": "stream",
     "text": [
      "C:\\Users\\anabi\\AppData\\Local\\Packages\\PythonSoftwareFoundation.Python.3.10_qbz5n2kfra8p0\\LocalCache\\local-packages\\Python310\\site-packages\\scipy\\integrate\\_ode.py:1348: UserWarning: lsoda: Repeated error test failures (internal error).\n",
      "  warnings.warn('{:s}: {:s}'.format(self.__class__.__name__,\n"
     ]
    },
    {
     "name": "stdout",
     "output_type": "stream",
     "text": [
      "Overflow\n",
      "Overflowon 226: {'avg': 66667.19549596509, 'std': 249443.68444936618, 'min': 0.44804641204204076, 'max': 1000000.0}\n",
      "Overflowon 345: {'avg': 0.5530371123271364, 'std': 0.08392719831492887, 'min': 0.4452611566160432, 'max': 0.6885243283949569}}\n",
      "Overflowon 733: {'avg': 0.5415551132035453, 'std': 0.08286872032487513, 'min': 0.4424940323302631, 'max': 0.6886882420395075}}3}}\n",
      "Overflow\n",
      "Overflowon 911: {'avg': 0.5401814912849713, 'std': 0.09487228609290557, 'min': 0.43749106819562084, 'max': 0.7116997070383748}9}\n",
      "Overflowon 919: {'avg': 0.5932345926501815, 'std': 0.06420453617386732, 'min': 0.4708784653066308, 'max': 0.6995890777144435}}\n",
      "Overflow\n",
      "Overflowon 970: {'avg': 0.5994187003434008, 'std': 0.08973689635047698, 'min': 0.4423613790178195, 'max': 0.7482262630119283}}}}\n",
      "Overflowon 1032: {'avg': 0.5989723891806976, 'std': 0.07000994787164379, 'min': 0.4562766335755532, 'max': 0.700555806343055}}7}4}\n",
      "Overflowon 1036: {'avg': 0.5468604186053844, 'std': 0.07455877067544668, 'min': 0.46342536842042514, 'max': 0.7322112131549766}\n",
      "Overflowon 1050: {'avg': 0.5508650330982621, 'std': 0.0818641619089302, 'min': 0.4412339950236147, 'max': 0.672994396779484}49}\n",
      "Overflowon 1224: {'avg': 0.6141834346308745, 'std': 0.045997802548457076, 'min': 0.5558698094058565, 'max': 0.7334882900064513}}}\n",
      "Overflowon 1282: {'avg': 0.6155511695266149, 'std': 0.09193756245006164, 'min': 0.4646988694909745, 'max': 0.7317639924576086}}2}\n",
      "Overflowon 1476: {'avg': 0.5477405258008977, 'std': 0.07130959680815462, 'min': 0.4563568249308802, 'max': 0.7030185610147804}4}}\n",
      "Overflowon 1547: {'avg': 0.5430092348367472, 'std': 0.04596010378073656, 'min': 0.4866565615221391, 'max': 0.6138782309574202}}}\n",
      "Overflowon 1696: {'avg': 0.46383219148753524, 'std': 0.026708673289379432, 'min': 0.44027757793393085, 'max': 0.5271072623370484}}\n",
      "Overflowon 2585: {'avg': 0.250982914048535, 'std': 0.019353243431919003, 'min': 0.22881426341560854, 'max': 0.31204840777961435}}}\n",
      "Overflowon 2925: {'avg': 0.5204809288323701, 'std': 0.07738508623994009, 'min': 0.3628492537828293, 'max': 0.6572644177938063}}}\n",
      "Overflowon 4492: {'avg': 0.5865037537856062, 'std': 0.10607149721964046, 'min': 0.43917331775545976, 'max': 0.7318808073524574}6}}}}\n",
      "Overflowon 4509: {'avg': 0.4008568107338442, 'std': 0.10514123679127459, 'min': 0.22971028607488372, 'max': 0.5854326474936945}}\n",
      "Overflowon 4532: {'avg': 0.3842407507204312, 'std': 0.08580338136843671, 'min': 0.23744596273505084, 'max': 0.5208065561859576}}\n",
      "Overflow\n",
      "Overflowon 4677: {'avg': 0.5741595812661974, 'std': 0.08646418971028587, 'min': 0.44966505099266535, 'max': 0.6933093471722884}}}\n",
      "Overflowon 4680: {'avg': 0.5948837686624288, 'std': 0.07828108375057904, 'min': 0.4622732533389216, 'max': 0.7029685680307226}\n",
      "Overflowon 5605: {'avg': 0.5042373059353544, 'std': 0.12590182456137708, 'min': 0.3092079985610469, 'max': 0.7095760150428458}}}}}\n",
      "Running with seed=9, solver=RK45, error=ABS, 'std': 4.772594927344417e-05, 'min': 0.185534949159651, 'max': 0.18567959337200063}18}}\n"
     ]
    },
    {
     "name": "stderr",
     "output_type": "stream",
     "text": [
      "C:\\Users\\anabi\\AppData\\Local\\Packages\\PythonSoftwareFoundation.Python.3.10_qbz5n2kfra8p0\\LocalCache\\local-packages\\Python310\\site-packages\\deap\\creator.py:185: RuntimeWarning: A class named 'FitnessMin' has already been created and it will be overwritten. Consider deleting previous creation of that class or rename it.\n",
      "  warnings.warn(\"A class named '{0}' has already been created and it \"\n",
      "C:\\Users\\anabi\\AppData\\Local\\Packages\\PythonSoftwareFoundation.Python.3.10_qbz5n2kfra8p0\\LocalCache\\local-packages\\Python310\\site-packages\\deap\\creator.py:185: RuntimeWarning: A class named 'Individual' has already been created and it will be overwritten. Consider deleting previous creation of that class or rename it.\n",
      "  warnings.warn(\"A class named '{0}' has already been created and it \"\n",
      "C:\\Users\\anabi\\AppData\\Local\\Packages\\PythonSoftwareFoundation.Python.3.10_qbz5n2kfra8p0\\LocalCache\\local-packages\\Python310\\site-packages\\scipy\\integrate\\_ivp\\common.py:39: UserWarning: The following arguments have no effect for a chosen solver: `min_step`.\n",
      "  warn(\"The following arguments have no effect for a chosen solver: {}.\"\n"
     ]
    },
    {
     "name": "stdout",
     "output_type": "stream",
     "text": [
      "Running with seed=9, solver=RK45, error=SQUARED': 0.018699734586433144, 'min': 167.99182954405887, 'max': 168.05614653345273}}}}\n"
     ]
    },
    {
     "name": "stderr",
     "output_type": "stream",
     "text": [
      "C:\\Users\\anabi\\AppData\\Local\\Packages\\PythonSoftwareFoundation.Python.3.10_qbz5n2kfra8p0\\LocalCache\\local-packages\\Python310\\site-packages\\deap\\creator.py:185: RuntimeWarning: A class named 'FitnessMin' has already been created and it will be overwritten. Consider deleting previous creation of that class or rename it.\n",
      "  warnings.warn(\"A class named '{0}' has already been created and it \"\n",
      "C:\\Users\\anabi\\AppData\\Local\\Packages\\PythonSoftwareFoundation.Python.3.10_qbz5n2kfra8p0\\LocalCache\\local-packages\\Python310\\site-packages\\deap\\creator.py:185: RuntimeWarning: A class named 'Individual' has already been created and it will be overwritten. Consider deleting previous creation of that class or rename it.\n",
      "  warnings.warn(\"A class named '{0}' has already been created and it \"\n",
      "C:\\Users\\anabi\\AppData\\Local\\Packages\\PythonSoftwareFoundation.Python.3.10_qbz5n2kfra8p0\\LocalCache\\local-packages\\Python310\\site-packages\\scipy\\integrate\\_ivp\\common.py:39: UserWarning: The following arguments have no effect for a chosen solver: `min_step`.\n",
      "  warn(\"The following arguments have no effect for a chosen solver: {}.\"\n"
     ]
    },
    {
     "name": "stdout",
     "output_type": "stream",
     "text": [
      "Running with seed=9, solver=RK45, error=MSE, 'std': 0.027913092416036834, 'min': 10.527730851018035, 'max': 10.643715275013498}}}\n"
     ]
    },
    {
     "name": "stderr",
     "output_type": "stream",
     "text": [
      "C:\\Users\\anabi\\AppData\\Local\\Packages\\PythonSoftwareFoundation.Python.3.10_qbz5n2kfra8p0\\LocalCache\\local-packages\\Python310\\site-packages\\deap\\creator.py:185: RuntimeWarning: A class named 'FitnessMin' has already been created and it will be overwritten. Consider deleting previous creation of that class or rename it.\n",
      "  warnings.warn(\"A class named '{0}' has already been created and it \"\n",
      "C:\\Users\\anabi\\AppData\\Local\\Packages\\PythonSoftwareFoundation.Python.3.10_qbz5n2kfra8p0\\LocalCache\\local-packages\\Python310\\site-packages\\deap\\creator.py:185: RuntimeWarning: A class named 'Individual' has already been created and it will be overwritten. Consider deleting previous creation of that class or rename it.\n",
      "  warnings.warn(\"A class named '{0}' has already been created and it \"\n",
      "C:\\Users\\anabi\\AppData\\Local\\Packages\\PythonSoftwareFoundation.Python.3.10_qbz5n2kfra8p0\\LocalCache\\local-packages\\Python310\\site-packages\\scipy\\integrate\\_ivp\\common.py:39: UserWarning: The following arguments have no effect for a chosen solver: `min_step`.\n",
      "  warn(\"The following arguments have no effect for a chosen solver: {}.\"\n"
     ]
    },
    {
     "name": "stdout",
     "output_type": "stream",
     "text": [
      "Running with seed=9, solver=RK45, error=MABS6, 'std': 0.00016126699833650873, 'min': 0.03406208853701442, 'max': 0.03458751311304737}}}\n"
     ]
    },
    {
     "name": "stderr",
     "output_type": "stream",
     "text": [
      "C:\\Users\\anabi\\AppData\\Local\\Packages\\PythonSoftwareFoundation.Python.3.10_qbz5n2kfra8p0\\LocalCache\\local-packages\\Python310\\site-packages\\deap\\creator.py:185: RuntimeWarning: A class named 'FitnessMin' has already been created and it will be overwritten. Consider deleting previous creation of that class or rename it.\n",
      "  warnings.warn(\"A class named '{0}' has already been created and it \"\n",
      "C:\\Users\\anabi\\AppData\\Local\\Packages\\PythonSoftwareFoundation.Python.3.10_qbz5n2kfra8p0\\LocalCache\\local-packages\\Python310\\site-packages\\deap\\creator.py:185: RuntimeWarning: A class named 'Individual' has already been created and it will be overwritten. Consider deleting previous creation of that class or rename it.\n",
      "  warnings.warn(\"A class named '{0}' has already been created and it \"\n",
      "C:\\Users\\anabi\\AppData\\Local\\Packages\\PythonSoftwareFoundation.Python.3.10_qbz5n2kfra8p0\\LocalCache\\local-packages\\Python310\\site-packages\\scipy\\integrate\\_ivp\\common.py:39: UserWarning: The following arguments have no effect for a chosen solver: `min_step`.\n",
      "  warn(\"The following arguments have no effect for a chosen solver: {}.\"\n"
     ]
    },
    {
     "name": "stdout",
     "output_type": "stream",
     "text": [
      "Running with seed=9, solver=DOP853, error=ABSstd': 3.739946917284075e-05, 'min': 0.3359836590881177, 'max': 0.33611229306690543}74}}\n"
     ]
    },
    {
     "name": "stderr",
     "output_type": "stream",
     "text": [
      "C:\\Users\\anabi\\AppData\\Local\\Packages\\PythonSoftwareFoundation.Python.3.10_qbz5n2kfra8p0\\LocalCache\\local-packages\\Python310\\site-packages\\deap\\creator.py:185: RuntimeWarning: A class named 'FitnessMin' has already been created and it will be overwritten. Consider deleting previous creation of that class or rename it.\n",
      "  warnings.warn(\"A class named '{0}' has already been created and it \"\n",
      "C:\\Users\\anabi\\AppData\\Local\\Packages\\PythonSoftwareFoundation.Python.3.10_qbz5n2kfra8p0\\LocalCache\\local-packages\\Python310\\site-packages\\deap\\creator.py:185: RuntimeWarning: A class named 'Individual' has already been created and it will be overwritten. Consider deleting previous creation of that class or rename it.\n",
      "  warnings.warn(\"A class named '{0}' has already been created and it \"\n",
      "C:\\Users\\anabi\\AppData\\Local\\Packages\\PythonSoftwareFoundation.Python.3.10_qbz5n2kfra8p0\\LocalCache\\local-packages\\Python310\\site-packages\\scipy\\integrate\\_ivp\\common.py:39: UserWarning: The following arguments have no effect for a chosen solver: `min_step`.\n",
      "  warn(\"The following arguments have no effect for a chosen solver: {}.\"\n"
     ]
    },
    {
     "name": "stdout",
     "output_type": "stream",
     "text": [
      "Running with seed=9, solver=DOP853, error=SQUARED': 0.0147441014857272, 'min': 53.4740171612436, 'max': 53.534433499000585}6}2}}\n"
     ]
    },
    {
     "name": "stderr",
     "output_type": "stream",
     "text": [
      "C:\\Users\\anabi\\AppData\\Local\\Packages\\PythonSoftwareFoundation.Python.3.10_qbz5n2kfra8p0\\LocalCache\\local-packages\\Python310\\site-packages\\deap\\creator.py:185: RuntimeWarning: A class named 'FitnessMin' has already been created and it will be overwritten. Consider deleting previous creation of that class or rename it.\n",
      "  warnings.warn(\"A class named '{0}' has already been created and it \"\n",
      "C:\\Users\\anabi\\AppData\\Local\\Packages\\PythonSoftwareFoundation.Python.3.10_qbz5n2kfra8p0\\LocalCache\\local-packages\\Python310\\site-packages\\deap\\creator.py:185: RuntimeWarning: A class named 'Individual' has already been created and it will be overwritten. Consider deleting previous creation of that class or rename it.\n",
      "  warnings.warn(\"A class named '{0}' has already been created and it \"\n",
      "C:\\Users\\anabi\\AppData\\Local\\Packages\\PythonSoftwareFoundation.Python.3.10_qbz5n2kfra8p0\\LocalCache\\local-packages\\Python310\\site-packages\\scipy\\integrate\\_ivp\\common.py:39: UserWarning: The following arguments have no effect for a chosen solver: `min_step`.\n",
      "  warn(\"The following arguments have no effect for a chosen solver: {}.\"\n"
     ]
    },
    {
     "name": "stdout",
     "output_type": "stream",
     "text": [
      "Running with seed=9, solver=DOP853, error=MSE'std': 0.0005241393570899333, 'min': 10.944353725775011, 'max': 10.94600130186982}}}\n"
     ]
    },
    {
     "name": "stderr",
     "output_type": "stream",
     "text": [
      "C:\\Users\\anabi\\AppData\\Local\\Packages\\PythonSoftwareFoundation.Python.3.10_qbz5n2kfra8p0\\LocalCache\\local-packages\\Python310\\site-packages\\deap\\creator.py:185: RuntimeWarning: A class named 'FitnessMin' has already been created and it will be overwritten. Consider deleting previous creation of that class or rename it.\n",
      "  warnings.warn(\"A class named '{0}' has already been created and it \"\n",
      "C:\\Users\\anabi\\AppData\\Local\\Packages\\PythonSoftwareFoundation.Python.3.10_qbz5n2kfra8p0\\LocalCache\\local-packages\\Python310\\site-packages\\deap\\creator.py:185: RuntimeWarning: A class named 'Individual' has already been created and it will be overwritten. Consider deleting previous creation of that class or rename it.\n",
      "  warnings.warn(\"A class named '{0}' has already been created and it \"\n",
      "C:\\Users\\anabi\\AppData\\Local\\Packages\\PythonSoftwareFoundation.Python.3.10_qbz5n2kfra8p0\\LocalCache\\local-packages\\Python310\\site-packages\\scipy\\integrate\\_ivp\\common.py:39: UserWarning: The following arguments have no effect for a chosen solver: `min_step`.\n",
      "  warn(\"The following arguments have no effect for a chosen solver: {}.\"\n"
     ]
    },
    {
     "name": "stdout",
     "output_type": "stream",
     "text": [
      "Running with seed=9, solver=DOP853, error=MABS'std': 0.0009125891616302269, 'min': 0.22438089890246096, 'max': 0.22746980314609774}}\n"
     ]
    },
    {
     "name": "stderr",
     "output_type": "stream",
     "text": [
      "C:\\Users\\anabi\\AppData\\Local\\Packages\\PythonSoftwareFoundation.Python.3.10_qbz5n2kfra8p0\\LocalCache\\local-packages\\Python310\\site-packages\\deap\\creator.py:185: RuntimeWarning: A class named 'FitnessMin' has already been created and it will be overwritten. Consider deleting previous creation of that class or rename it.\n",
      "  warnings.warn(\"A class named '{0}' has already been created and it \"\n",
      "C:\\Users\\anabi\\AppData\\Local\\Packages\\PythonSoftwareFoundation.Python.3.10_qbz5n2kfra8p0\\LocalCache\\local-packages\\Python310\\site-packages\\deap\\creator.py:185: RuntimeWarning: A class named 'Individual' has already been created and it will be overwritten. Consider deleting previous creation of that class or rename it.\n",
      "  warnings.warn(\"A class named '{0}' has already been created and it \"\n",
      "C:\\Users\\anabi\\AppData\\Local\\Packages\\PythonSoftwareFoundation.Python.3.10_qbz5n2kfra8p0\\LocalCache\\local-packages\\Python310\\site-packages\\scipy\\integrate\\_ivp\\common.py:39: UserWarning: The following arguments have no effect for a chosen solver: `min_step`.\n",
      "  warn(\"The following arguments have no effect for a chosen solver: {}.\"\n"
     ]
    },
    {
     "name": "stdout",
     "output_type": "stream",
     "text": [
      "Running with seed=9, solver=LSODA, error=ABS, 'std': 4.520525612201771e-05, 'min': 0.10276209173763977, 'max': 0.10293127027149876}}\n"
     ]
    },
    {
     "name": "stderr",
     "output_type": "stream",
     "text": [
      "C:\\Users\\anabi\\AppData\\Local\\Packages\\PythonSoftwareFoundation.Python.3.10_qbz5n2kfra8p0\\LocalCache\\local-packages\\Python310\\site-packages\\deap\\creator.py:185: RuntimeWarning: A class named 'FitnessMin' has already been created and it will be overwritten. Consider deleting previous creation of that class or rename it.\n",
      "  warnings.warn(\"A class named '{0}' has already been created and it \"\n",
      "C:\\Users\\anabi\\AppData\\Local\\Packages\\PythonSoftwareFoundation.Python.3.10_qbz5n2kfra8p0\\LocalCache\\local-packages\\Python310\\site-packages\\deap\\creator.py:185: RuntimeWarning: A class named 'Individual' has already been created and it will be overwritten. Consider deleting previous creation of that class or rename it.\n",
      "  warnings.warn(\"A class named '{0}' has already been created and it \"\n"
     ]
    },
    {
     "name": "stdout",
     "output_type": "stream",
     "text": [
      "Generation 0: {'avg': 328.41410950562494, 'std': 25.919307297132505, 'min': 259.1014479202974, 'max': 355.1785373920075}\r"
     ]
    },
    {
     "name": "stderr",
     "output_type": "stream",
     "text": [
      "C:\\Users\\anabi\\AppData\\Local\\Packages\\PythonSoftwareFoundation.Python.3.10_qbz5n2kfra8p0\\LocalCache\\local-packages\\Python310\\site-packages\\scipy\\integrate\\_ode.py:1348: UserWarning: lsoda: Repeated error test failures (internal error).\n",
      "  warnings.warn('{:s}: {:s}'.format(self.__class__.__name__,\n"
     ]
    },
    {
     "name": "stdout",
     "output_type": "stream",
     "text": [
      "Overflowon 4: {'avg': 316.63425856481524, 'std': 44.30813795405421, 'min': 224.05637578743935, 'max': 373.4157457913142}}\n",
      "Overflowon 8: {'avg': 296.6694340260937, 'std': 38.384705005154785, 'min': 224.37220773079946, 'max': 346.675006359753}}}\n",
      "Overflowon 10: {'avg': 314.7403278810725, 'std': 36.18268908620139, 'min': 255.37535396096368, 'max': 374.070901084559}\n",
      "Overflowon 62: {'avg': 300.76015923488325, 'std': 35.77896033440381, 'min': 232.54343513517787, 'max': 363.6778238267488}}}\n",
      "Overflowon 116: {'avg': 283.5490301708047, 'std': 46.42057553869489, 'min': 195.87250000000006, 'max': 364.6412707104836}}}}\n",
      "Overflowon 119: {'avg': 287.8210593008796, 'std': 39.294651976833904, 'min': 222.96911542106588, 'max': 346.30227686564393}\n",
      "Overflowon 161: {'avg': 277.85396261221865, 'std': 46.27695794882744, 'min': 195.87250000000006, 'max': 360.29650509677435}}\n",
      "Overflowon 168: {'avg': 303.1295294137838, 'std': 44.61573992967765, 'min': 230.97081563757652, 'max': 366.8151415949199}7}\n",
      "Overflowon 262: {'avg': 274.0358385260422, 'std': 49.766218593559266, 'min': 222.99265930965717, 'max': 359.59846590989633}}\n",
      "Overflowon 276: {'avg': 297.98711444194095, 'std': 37.28195737690402, 'min': 231.6288384992508, 'max': 358.0366328867669}1}}\n",
      "Overflowon 321: {'avg': 301.6749006048769, 'std': 34.79774500266348, 'min': 246.8052586893367, 'max': 369.8517447509856}3}}}\n",
      "Overflowon 327: {'avg': 294.97798706047394, 'std': 44.18927036758477, 'min': 220.6221148722547, 'max': 360.725142386998}}65}\n",
      "Overflowon 376: {'avg': 282.2765296125357, 'std': 35.19293564241258, 'min': 228.21980526049077, 'max': 341.2050093182104}}7}\n",
      "Overflowon 482: {'avg': 301.91026520869326, 'std': 43.109511086547805, 'min': 226.86378066760108, 'max': 369.2302325875701}}\n",
      "Overflowon 602: {'avg': 274.3381615034117, 'std': 50.12231636964277, 'min': 205.52900912379224, 'max': 404.24821513924513}}}\n",
      "Overflowon 668: {'avg': 269.294419089037, 'std': 40.67960741665872, 'min': 219.7204867034262, 'max': 340.68367952754215}37}}\n",
      "Overflowon 718: {'avg': 284.1302575436747, 'std': 34.9692557511193, 'min': 221.8522550196638, 'max': 365.1785583746573}774}}\n",
      "Overflowon 1180: {'avg': 241.6706014534313, 'std': 37.17487652338815, 'min': 213.3737260840524, 'max': 326.6182383446856}4}3}\n",
      "Overflowon 1254: {'avg': 305.5264053397426, 'std': 37.05995210976296, 'min': 251.61572298671018, 'max': 369.4312009350536}46}\n",
      "Overflowon 1950: {'avg': 220.38609773926234, 'std': 9.84246407311246, 'min': 210.69149514869525, 'max': 239.6836773042807}2}}\n",
      "Overflowon 2021: {'avg': 214.1971035847698, 'std': 6.046595994572606, 'min': 207.28846022626405, 'max': 226.98504441786164}}}\n",
      "Overflowon 3954: {'avg': 220.22722765304076, 'std': 10.196373232617855, 'min': 207.08898726926571, 'max': 252.796112606935}6}\n",
      "Overflowon 4241: {'avg': 214.0372276141332, 'std': 5.488908577831693, 'min': 207.5010116154697, 'max': 225.38370566763666}}}}\n",
      "Overflowon 4711: {'avg': 223.47755430692575, 'std': 38.75612560872697, 'min': 200.9027953867705, 'max': 327.9886812175056}}}}\n",
      "Running with seed=9, solver=LSODA, error=SQUAREDd': 0.07617404806605454, 'min': 167.08634745686004, 'max': 167.3901336778091}}}}\n"
     ]
    },
    {
     "name": "stderr",
     "output_type": "stream",
     "text": [
      "C:\\Users\\anabi\\AppData\\Local\\Packages\\PythonSoftwareFoundation.Python.3.10_qbz5n2kfra8p0\\LocalCache\\local-packages\\Python310\\site-packages\\deap\\creator.py:185: RuntimeWarning: A class named 'FitnessMin' has already been created and it will be overwritten. Consider deleting previous creation of that class or rename it.\n",
      "  warnings.warn(\"A class named '{0}' has already been created and it \"\n",
      "C:\\Users\\anabi\\AppData\\Local\\Packages\\PythonSoftwareFoundation.Python.3.10_qbz5n2kfra8p0\\LocalCache\\local-packages\\Python310\\site-packages\\deap\\creator.py:185: RuntimeWarning: A class named 'Individual' has already been created and it will be overwritten. Consider deleting previous creation of that class or rename it.\n",
      "  warnings.warn(\"A class named '{0}' has already been created and it \"\n"
     ]
    },
    {
     "name": "stdout",
     "output_type": "stream",
     "text": [
      "Overflowon 10: {'avg': 17.362556377989332, 'std': 2.4481432615715537, 'min': 13.56396473463172, 'max': 21.050129103203762}\n"
     ]
    },
    {
     "name": "stderr",
     "output_type": "stream",
     "text": [
      "C:\\Users\\anabi\\AppData\\Local\\Packages\\PythonSoftwareFoundation.Python.3.10_qbz5n2kfra8p0\\LocalCache\\local-packages\\Python310\\site-packages\\scipy\\integrate\\_ode.py:1348: UserWarning: lsoda: Repeated error test failures (internal error).\n",
      "  warnings.warn('{:s}: {:s}'.format(self.__class__.__name__,\n"
     ]
    },
    {
     "name": "stdout",
     "output_type": "stream",
     "text": [
      "Overflowon 524: {'avg': 16.23124255128594, 'std': 1.7888090878395078, 'min': 13.418690478963134, 'max': 20.026578695284094}}}\n",
      "Overflowon 3922: {'avg': 17.62628077803956, 'std': 2.1730966718485, 'min': 14.19322010249313, 'max': 21.505032048788806}502}}}}}}\n",
      "Overflowon 3946: {'avg': 17.669014432695963, 'std': 1.6198412036680483, 'min': 14.927075886136073, 'max': 20.691832723612535}\n",
      "Overflowon 3987: {'avg': 15.331400731888657, 'std': 1.3057847858448552, 'min': 13.490056557021449, 'max': 17.93459978102909}}\n",
      "Overflowon 4040: {'avg': 16.051839521975793, 'std': 1.6603652910357865, 'min': 14.394115090445453, 'max': 18.820008400145866}\n",
      "Running with seed=9, solver=LSODA, error=MSE'std': 0.0018673359867224528, 'min': 4.090255750834784, 'max': 4.096418030297159}}}}\n"
     ]
    },
    {
     "name": "stderr",
     "output_type": "stream",
     "text": [
      "C:\\Users\\anabi\\AppData\\Local\\Packages\\PythonSoftwareFoundation.Python.3.10_qbz5n2kfra8p0\\LocalCache\\local-packages\\Python310\\site-packages\\deap\\creator.py:185: RuntimeWarning: A class named 'FitnessMin' has already been created and it will be overwritten. Consider deleting previous creation of that class or rename it.\n",
      "  warnings.warn(\"A class named '{0}' has already been created and it \"\n",
      "C:\\Users\\anabi\\AppData\\Local\\Packages\\PythonSoftwareFoundation.Python.3.10_qbz5n2kfra8p0\\LocalCache\\local-packages\\Python310\\site-packages\\deap\\creator.py:185: RuntimeWarning: A class named 'Individual' has already been created and it will be overwritten. Consider deleting previous creation of that class or rename it.\n",
      "  warnings.warn(\"A class named '{0}' has already been created and it \"\n"
     ]
    },
    {
     "name": "stdout",
     "output_type": "stream",
     "text": [
      "Overflowon 10: {'avg': 0.6149035388160724, 'std': 0.1668217788845491, 'min': 0.36796227864466596, 'max': 0.8862158705230924}\n"
     ]
    },
    {
     "name": "stderr",
     "output_type": "stream",
     "text": [
      "C:\\Users\\anabi\\AppData\\Local\\Packages\\PythonSoftwareFoundation.Python.3.10_qbz5n2kfra8p0\\LocalCache\\local-packages\\Python310\\site-packages\\scipy\\integrate\\_ode.py:1348: UserWarning: lsoda: Repeated error test failures (internal error).\n",
      "  warnings.warn('{:s}: {:s}'.format(self.__class__.__name__,\n"
     ]
    },
    {
     "name": "stdout",
     "output_type": "stream",
     "text": [
      "Overflowon 524: {'avg': 0.5333061454228252, 'std': 0.12000191409251287, 'min': 0.36012250834043164, 'max': 0.8021277084768134}}}}}\n",
      "Overflowon 3749: {'avg': 0.47579164848208, 'std': 0.17317294118864907, 'min': 0.32456184380926056, 'max': 0.8743026225132973}}4}}}}4}}}\n",
      "Overflowon 4053: {'avg': 0.3178036424833055, 'std': 0.022562113294758213, 'min': 0.3040551331060358, 'max': 0.3901632066070824}3}}\n",
      "Running with seed=9, solver=LSODA, error=MABS 'std': 0.02009734172134221, 'min': 0.05539430045377155, 'max': 0.11573407413128993}}}}\n"
     ]
    },
    {
     "name": "stderr",
     "output_type": "stream",
     "text": [
      "C:\\Users\\anabi\\AppData\\Local\\Packages\\PythonSoftwareFoundation.Python.3.10_qbz5n2kfra8p0\\LocalCache\\local-packages\\Python310\\site-packages\\deap\\creator.py:185: RuntimeWarning: A class named 'FitnessMin' has already been created and it will be overwritten. Consider deleting previous creation of that class or rename it.\n",
      "  warnings.warn(\"A class named '{0}' has already been created and it \"\n",
      "C:\\Users\\anabi\\AppData\\Local\\Packages\\PythonSoftwareFoundation.Python.3.10_qbz5n2kfra8p0\\LocalCache\\local-packages\\Python310\\site-packages\\deap\\creator.py:185: RuntimeWarning: A class named 'Individual' has already been created and it will be overwritten. Consider deleting previous creation of that class or rename it.\n",
      "  warnings.warn(\"A class named '{0}' has already been created and it \"\n"
     ]
    },
    {
     "name": "stdout",
     "output_type": "stream",
     "text": [
      "Generation 0: {'avg': 0.6568282190112498, 'std': 0.05183861459426504, 'min': 0.5182028958405948, 'max': 0.710357074784015}\r"
     ]
    },
    {
     "name": "stderr",
     "output_type": "stream",
     "text": [
      "C:\\Users\\anabi\\AppData\\Local\\Packages\\PythonSoftwareFoundation.Python.3.10_qbz5n2kfra8p0\\LocalCache\\local-packages\\Python310\\site-packages\\scipy\\integrate\\_ode.py:1348: UserWarning: lsoda: Repeated error test failures (internal error).\n",
      "  warnings.warn('{:s}: {:s}'.format(self.__class__.__name__,\n"
     ]
    },
    {
     "name": "stdout",
     "output_type": "stream",
     "text": [
      "Overflowon 4: {'avg': 0.6332685171296304, 'std': 0.0886162759081084, 'min': 0.44811275157487873, 'max': 0.7468314915826284}}\n",
      "Overflowon 8: {'avg': 0.5933388680521873, 'std': 0.07676941001030957, 'min': 0.448744415461599, 'max': 0.6933500127195061}\n",
      "Overflowon 10: {'avg': 0.629480655762145, 'std': 0.0723653781724027, 'min': 0.5107507079219273, 'max': 0.7481418021691176}\n",
      "Overflowon 62: {'avg': 0.6015203184697666, 'std': 0.07155792066880763, 'min': 0.46508687027035567, 'max': 0.7273556476534977}}\n",
      "Overflowon 116: {'avg': 0.5670980603416094, 'std': 0.09284115107738986, 'min': 0.391745, 'max': 0.7292825414209674}040107187}}\n",
      "Overflowon 119: {'avg': 0.5756421186017592, 'std': 0.07858930395366782, 'min': 0.4459382308421318, 'max': 0.6926045537312878}\n",
      "Overflowon 161: {'avg': 0.5557079252244373, 'std': 0.09255391589765492, 'min': 0.391745, 'max': 0.720593010193549}5345065433}1}\n",
      "Overflowon 168: {'avg': 0.6062590588275677, 'std': 0.08923147985935534, 'min': 0.46194163127515314, 'max': 0.73363028318984}5}\n",
      "Overflowon 262: {'avg': 0.5480716770520843, 'std': 0.09953243718711854, 'min': 0.4459853186193144, 'max': 0.7191969318197927}}\n",
      "Overflowon 276: {'avg': 0.595974228883882, 'std': 0.07456391475380805, 'min': 0.46325767699850157, 'max': 0.7160732657735338}}\n",
      "Overflowon 321: {'avg': 0.6033498012097537, 'std': 0.06959549000532687, 'min': 0.4936105173786736, 'max': 0.739703489501971}}}}\n",
      "Overflowon 327: {'avg': 0.5899559741209477, 'std': 0.0883785407351696, 'min': 0.44124422974450933, 'max': 0.7214502847739964}}\n",
      "Overflowon 376: {'avg': 0.5645530592250713, 'std': 0.07038587128482518, 'min': 0.4564396105209813, 'max': 0.6824100186364209}}}\n",
      "Overflowon 482: {'avg': 0.6038205304173865, 'std': 0.08621902217309559, 'min': 0.4537275613352021, 'max': 0.7384604651751402}}}}\n",
      "Overflowon 602: {'avg': 0.5486763230068235, 'std': 0.10024463273928558, 'min': 0.4110580182475844, 'max': 0.8084964302784904}}}6}\n",
      "Overflowon 668: {'avg': 0.5385888381780738, 'std': 0.08135921483331743, 'min': 0.43944097340685245, 'max': 0.6813673590550843}}\n",
      "Overflowon 718: {'avg': 0.5682605150873493, 'std': 0.06993851150223859, 'min': 0.4437045100393276, 'max': 0.7303571167493146}}}\n",
      "Overflowon 1180: {'avg': 0.48334120290686255, 'std': 0.07434975304677628, 'min': 0.42674745216810483, 'max': 0.6532364766893713}}\n",
      "Overflowon 1254: {'avg': 0.6110528106794851, 'std': 0.07411990421952595, 'min': 0.5032314459734205, 'max': 0.7388624018701071}74}\n",
      "Overflowon 1950: {'avg': 0.4407721954785247, 'std': 0.019684928146224925, 'min': 0.4213829902973904, 'max': 0.4793673546085615}5}}\n",
      "Overflowon 2021: {'avg': 0.4283942071695396, 'std': 0.012093191989145281, 'min': 0.41457692045252803, 'max': 0.45397008883572354}}\n",
      "Overflowon 3954: {'avg': 0.44045445530608157, 'std': 0.020392746465235673, 'min': 0.41417797453853156, 'max': 0.5055922252138698}}}\n",
      "Overflowon 4241: {'avg': 0.4280744552282664, 'std': 0.010977817155663368, 'min': 0.4150020232309395, 'max': 0.4507674113352733}}}}}\n",
      "Overflowon 4711: {'avg': 0.44695510861385157, 'std': 0.07751225121745396, 'min': 0.4018055907735411, 'max': 0.6559773624350114}5}}}\n",
      "Generation 9999: {'avg': 0.3344898782035556, 'std': 0.00015234809613211416, 'min': 0.33417269491372, 'max': 0.3347802673556183}}4}}}\r"
     ]
    }
   ],
   "source": [
    "handler.execute()"
   ]
  }
 ],
 "metadata": {
  "kernelspec": {
   "display_name": "Python 3",
   "language": "python",
   "name": "python3"
  },
  "language_info": {
   "codemirror_mode": {
    "name": "ipython",
    "version": 3
   },
   "file_extension": ".py",
   "mimetype": "text/x-python",
   "name": "python",
   "nbconvert_exporter": "python",
   "pygments_lexer": "ipython3",
   "version": "3.10.11"
  }
 },
 "nbformat": 4,
 "nbformat_minor": 5
}
